{
  "nbformat": 4,
  "nbformat_minor": 0,
  "metadata": {
    "colab": {
      "name": "Day 4 - Portfolio (Dominic) - SDS Ph.D. 2019.ipynb",
      "provenance": [],
      "collapsed_sections": [],
      "include_colab_link": true
    },
    "kernelspec": {
      "name": "python3",
      "display_name": "Python 3"
    }
  },
  "cells": [
    {
      "cell_type": "markdown",
      "metadata": {
        "id": "view-in-github",
        "colab_type": "text"
      },
      "source": [
        "<a href=\"https://colab.research.google.com/github/corp-alt/SDS-PhD-2019-Portfolio---Dominic/blob/master/Day_4_Portfolio_(Dominic)_SDS_Ph_D_2019.ipynb\" target=\"_parent\"><img src=\"https://colab.research.google.com/assets/colab-badge.svg\" alt=\"Open In Colab\"/></a>"
      ]
    },
    {
      "cell_type": "markdown",
      "metadata": {
        "id": "iGsNh70AOSTf",
        "colab_type": "text"
      },
      "source": [
        "## Exercise 1: NLTK"
      ]
    },
    {
      "cell_type": "code",
      "metadata": {
        "id": "9h1Wq9QBNemd",
        "colab_type": "code",
        "colab": {}
      },
      "source": [
        "text = \"I’ve been called many things in my life, but never an optimist. That was fine by me. I believed pessimists lived in a constant state of pleasant surprise: if you always expected the worst, things generally turned out better than you imagined. The only real problem with pessimism, I figured, was that too much of it could accidentally turn you into an optimist.\""
      ],
      "execution_count": 0,
      "outputs": []
    },
    {
      "cell_type": "code",
      "metadata": {
        "id": "z-C4CcV5Nyp4",
        "colab_type": "code",
        "colab": {
          "base_uri": "https://localhost:8080/",
          "height": 84
        },
        "outputId": "4fdd54a9-92e1-4f59-aa89-b37fa9704e18"
      },
      "source": [
        "import nltk #this part is needed on colab.\n",
        "nltk.download('punkt')\n",
        "nltk.download('stopwords')\n",
        "#----------------------------------------\n",
        "\n",
        "# Tokenizing sentences\n",
        "from nltk.tokenize import sent_tokenize\n",
        "\n",
        "# Tokenizing words\n",
        "from nltk.tokenize import word_tokenize"
      ],
      "execution_count": 6,
      "outputs": [
        {
          "output_type": "stream",
          "text": [
            "[nltk_data] Downloading package punkt to /root/nltk_data...\n",
            "[nltk_data]   Unzipping tokenizers/punkt.zip.\n",
            "[nltk_data] Downloading package stopwords to /root/nltk_data...\n",
            "[nltk_data]   Unzipping corpora/stopwords.zip.\n"
          ],
          "name": "stdout"
        }
      ]
    },
    {
      "cell_type": "code",
      "metadata": {
        "id": "fbmdqKtAN6f_",
        "colab_type": "code",
        "colab": {
          "base_uri": "https://localhost:8080/",
          "height": 54
        },
        "outputId": "5bf132b6-2af2-41bb-d083-0d11cda83637"
      },
      "source": [
        "# Let's get our stences.\n",
        "# Note that the full-stops at the end of each sentence are still there\n",
        "\n",
        "sentences = sent_tokenize(text)\n",
        "print(sentences)"
      ],
      "execution_count": 7,
      "outputs": [
        {
          "output_type": "stream",
          "text": [
            "['I’ve been called many things in my life, but never an optimist.', 'That was fine by me.', 'I believed pessimists lived in a constant state of pleasant surprise: if you always expected the worst, things generally turned out better than you imagined.', 'The only real problem with pessimism, I figured, was that too much of it could accidentally turn you into an optimist.']\n"
          ],
          "name": "stdout"
        }
      ]
    },
    {
      "cell_type": "code",
      "metadata": {
        "id": "KZOVLQzvN9Y3",
        "colab_type": "code",
        "colab": {
          "base_uri": "https://localhost:8080/",
          "height": 70
        },
        "outputId": "129aa278-fd20-48d8-e756-5cad0f73ddaf"
      },
      "source": [
        "# Use word_tokenize to tokenize the first sentence: tokenized_sent\n",
        "tokenized_sent = word_tokenize(sentences[0])\n",
        "\n",
        "# Make a set of unique tokens in the entire scene: unique_tokens\n",
        "unique_tokens = set(word_tokenize(text))\n",
        "\n",
        "print(tokenized_sent)\n",
        "print(unique_tokens)"
      ],
      "execution_count": 8,
      "outputs": [
        {
          "output_type": "stream",
          "text": [
            "['I', '’', 've', 'been', 'called', 'many', 'things', 'in', 'my', 'life', ',', 'but', 'never', 'an', 'optimist', '.']\n",
            "{'figured', 'out', ':', 'That', '.', 'called', 'believed', 'turn', '’', 'better', 'never', 'lived', 'state', 'constant', 'much', 'could', 'The', 'always', 've', 'worst', 'than', 'it', ',', 'only', 'of', 'pessimism', 'expected', 'generally', 'in', 'life', 'but', 'pessimists', 'into', 'things', 'an', 'the', 'been', 'turned', 'if', 'I', 'by', 'real', 'was', 'that', 'surprise', 'optimist', 'pleasant', 'you', 'a', 'imagined', 'problem', 'accidentally', 'me', 'many', 'fine', 'my', 'too', 'with'}\n"
          ],
          "name": "stdout"
        }
      ]
    },
    {
      "cell_type": "code",
      "metadata": {
        "id": "sA1uEpkHOB9F",
        "colab_type": "code",
        "colab": {}
      },
      "source": [
        "from nltk.corpus import stopwords\n",
        "stop_words = set(stopwords.words('english')) "
      ],
      "execution_count": 0,
      "outputs": []
    },
    {
      "cell_type": "code",
      "metadata": {
        "id": "vrjewUHoOICF",
        "colab_type": "code",
        "colab": {
          "base_uri": "https://localhost:8080/",
          "height": 622
        },
        "outputId": "f0bde4f7-1f7a-4f29-bf47-2ee29fcb7d77"
      },
      "source": [
        "[word.lower() for word in word_tokenize(text) if word not in stop_words and word.isalnum()]"
      ],
      "execution_count": 10,
      "outputs": [
        {
          "output_type": "execute_result",
          "data": {
            "text/plain": [
              "['i',\n",
              " 'called',\n",
              " 'many',\n",
              " 'things',\n",
              " 'life',\n",
              " 'never',\n",
              " 'optimist',\n",
              " 'that',\n",
              " 'fine',\n",
              " 'i',\n",
              " 'believed',\n",
              " 'pessimists',\n",
              " 'lived',\n",
              " 'constant',\n",
              " 'state',\n",
              " 'pleasant',\n",
              " 'surprise',\n",
              " 'always',\n",
              " 'expected',\n",
              " 'worst',\n",
              " 'things',\n",
              " 'generally',\n",
              " 'turned',\n",
              " 'better',\n",
              " 'imagined',\n",
              " 'the',\n",
              " 'real',\n",
              " 'problem',\n",
              " 'pessimism',\n",
              " 'i',\n",
              " 'figured',\n",
              " 'much',\n",
              " 'could',\n",
              " 'accidentally',\n",
              " 'turn',\n",
              " 'optimist']"
            ]
          },
          "metadata": {
            "tags": []
          },
          "execution_count": 10
        }
      ]
    },
    {
      "cell_type": "markdown",
      "metadata": {
        "id": "_2n3VMvhSbiz",
        "colab_type": "text"
      },
      "source": [
        "## Exercise 2: Twitter (\"Boomer\")"
      ]
    },
    {
      "cell_type": "code",
      "metadata": {
        "id": "xIo80sE5SiFs",
        "colab_type": "code",
        "colab": {}
      },
      "source": [
        "import pandas as pd\n",
        "pd.set_option('display.max_colwidth', -1) #to see more text\n",
        "\n",
        "import numpy as np\n",
        "import seaborn as sns\n",
        "\n",
        "import itertools\n",
        "from collections import Counter"
      ],
      "execution_count": 0,
      "outputs": []
    },
    {
      "cell_type": "code",
      "metadata": {
        "id": "stnoB4vTSogP",
        "colab_type": "code",
        "colab": {}
      },
      "source": [
        "from nltk.tokenize import TweetTokenizer\n",
        "tknzr = TweetTokenizer()"
      ],
      "execution_count": 0,
      "outputs": []
    },
    {
      "cell_type": "code",
      "metadata": {
        "id": "L1poYm-WSunh",
        "colab_type": "code",
        "colab": {}
      },
      "source": [
        "# download and open tweets\n",
        "\n",
        "boomer_tweets_df = pd.read_json('https://github.com/CALDISS-AAU/sdsphd19_coursematerials/raw/master/data/tweets_boomer.zip')\n",
        "boomer_tweets_df.head()"
      ],
      "execution_count": 0,
      "outputs": []
    },
    {
      "cell_type": "code",
      "metadata": {
        "id": "abmdA8KKINv4",
        "colab_type": "code",
        "colab": {}
      },
      "source": [
        "boomer_tweets_df = boomer_tweets_df.set_index(pd.to_datetime(boomer_tweets_df.created_at))"
      ],
      "execution_count": 0,
      "outputs": []
    },
    {
      "cell_type": "code",
      "metadata": {
        "id": "MVcyJDriTAwf",
        "colab_type": "code",
        "colab": {}
      },
      "source": [
        "# Let's identify @\n",
        "boomer_tweets_df['mentions'] = boomer_tweets_df['tweet'].map(lambda textline: [tag for tag in tknzr.tokenize(textline) if tag.startswith('@')])"
      ],
      "execution_count": 0,
      "outputs": []
    },
    {
      "cell_type": "code",
      "metadata": {
        "id": "QoQXKtjjTpJo",
        "colab_type": "code",
        "colab": {
          "base_uri": "https://localhost:8080/",
          "height": 235
        },
        "outputId": "1001aac9-48f5-48af-ab8b-142022047a71"
      },
      "source": [
        "boomer_tweets_df['mentions']"
      ],
      "execution_count": 180,
      "outputs": [
        {
          "output_type": "execute_result",
          "data": {
            "text/plain": [
              "created_at\n",
              "2019-11-21 20:28:24    []\n",
              "2019-11-21 20:27:37    []\n",
              "2019-11-21 20:26:11    []\n",
              "2019-11-21 20:24:34    []\n",
              "2019-11-21 20:23:54    []\n",
              "                       ..\n",
              "2019-11-11 13:12:53    []\n",
              "2019-11-11 13:11:46    []\n",
              "2019-11-11 13:09:38    []\n",
              "2019-11-11 13:09:11    []\n",
              "2019-11-11 13:06:11    []\n",
              "Name: mentions, Length: 9722, dtype: object"
            ]
          },
          "metadata": {
            "tags": []
          },
          "execution_count": 180
        }
      ]
    },
    {
      "cell_type": "code",
      "metadata": {
        "id": "maLRyglITuh4",
        "colab_type": "code",
        "colab": {}
      },
      "source": [
        "# Only keep tweets where a mention i present\n",
        "boomer_tweets_df = boomer_tweets_df[boomer_tweets_df['mentions'].map(len) > 0]"
      ],
      "execution_count": 0,
      "outputs": []
    },
    {
      "cell_type": "code",
      "metadata": {
        "id": "oIEoVlQyT2ty",
        "colab_type": "code",
        "colab": {
          "base_uri": "https://localhost:8080/",
          "height": 958
        },
        "outputId": "3e9a963a-10f4-4dca-b342-2bccca0de00c"
      },
      "source": [
        "boomer_tweets_df['mentions']"
      ],
      "execution_count": 182,
      "outputs": [
        {
          "output_type": "execute_result",
          "data": {
            "text/plain": [
              "created_at\n",
              "2019-11-21 14:22:12    [@]                 \n",
              "2019-11-21 06:25:07    [@]                 \n",
              "2019-11-21 06:12:53    [@]                 \n",
              "2019-11-21 02:10:33    [@]                 \n",
              "2019-11-21 02:04:34    [@]                 \n",
              "2019-11-20 23:25:05    [@WBrettWilson]     \n",
              "2019-11-20 14:35:25    [@]                 \n",
              "2019-11-20 04:18:04    [@]                 \n",
              "2019-11-20 01:48:19    [@]                 \n",
              "2019-11-20 00:09:00    [@]                 \n",
              "2019-11-19 23:58:36    [@]                 \n",
              "2019-11-19 18:52:45    [@]                 \n",
              "2019-11-19 03:55:21    [@]                 \n",
              "2019-11-19 00:02:19    [@]                 \n",
              "2019-11-18 23:43:40    [@]                 \n",
              "2019-11-18 23:37:33    [@is]               \n",
              "2019-11-18 23:31:04    [@of, @your, @yours]\n",
              "2019-11-18 23:02:37    [@]                 \n",
              "2019-11-18 18:59:21    [@]                 \n",
              "2019-11-18 08:21:58    [@]                 \n",
              "2019-11-18 01:44:58    [@]                 \n",
              "2019-11-17 22:10:59    [@]                 \n",
              "2019-11-17 20:37:37    [@]                 \n",
              "2019-11-17 16:38:34    [@]                 \n",
              "2019-11-17 16:29:30    [@]                 \n",
              "2019-11-17 16:09:28    [@]                 \n",
              "2019-11-17 15:10:42    [@]                 \n",
              "2019-11-17 09:24:03    [@]                 \n",
              "2019-11-17 04:26:44    [@]                 \n",
              "2019-11-16 21:45:48    [@see]              \n",
              "2019-11-16 16:13:06    [@]                 \n",
              "2019-11-16 13:00:08    [@]                 \n",
              "2019-11-16 02:04:14    [@]                 \n",
              "2019-11-15 21:58:19    [@most]             \n",
              "2019-11-15 20:39:46    [@]                 \n",
              "2019-11-15 18:07:19    [@]                 \n",
              "2019-11-15 12:09:12    [@]                 \n",
              "2019-11-15 02:22:21    [@]                 \n",
              "2019-11-15 02:10:28    [@]                 \n",
              "2019-11-14 22:07:18    [@]                 \n",
              "2019-11-14 01:59:38    [@]                 \n",
              "2019-11-14 00:05:42    [@]                 \n",
              "2019-11-13 22:33:18    [@ss]               \n",
              "2019-11-13 18:25:03    [@]                 \n",
              "2019-11-13 13:34:08    [@]                 \n",
              "2019-11-13 12:05:30    [@]                 \n",
              "2019-11-13 09:54:20    [@realDonaldTrump]  \n",
              "2019-11-12 20:19:53    [@]                 \n",
              "2019-11-12 17:00:17    [@]                 \n",
              "2019-11-12 16:52:25    [@, @]              \n",
              "2019-11-12 01:32:27    [@]                 \n",
              "2019-11-12 01:23:57    [@]                 \n",
              "2019-11-11 20:39:03    [@]                 \n",
              "2019-11-11 18:30:13    [@]                 \n",
              "Name: mentions, dtype: object"
            ]
          },
          "metadata": {
            "tags": []
          },
          "execution_count": 182
        }
      ]
    },
    {
      "cell_type": "code",
      "metadata": {
        "id": "5eR8WN1UT2wA",
        "colab_type": "code",
        "colab": {}
      },
      "source": [
        "# Collect\n",
        "boomer_tags = itertools.chain(*boomer_tweets_df['mentions'])"
      ],
      "execution_count": 0,
      "outputs": []
    },
    {
      "cell_type": "code",
      "metadata": {
        "id": "AYkZ3aRiT2y2",
        "colab_type": "code",
        "colab": {
          "base_uri": "https://localhost:8080/",
          "height": 185
        },
        "outputId": "5af76323-6ac6-4d3b-befa-b8fba7c7927c"
      },
      "source": [
        "# Count up and show\n",
        "counted_tags = Counter(boomer_tags)\n",
        "counted_tags.most_common()[:10]"
      ],
      "execution_count": 184,
      "outputs": [
        {
          "output_type": "execute_result",
          "data": {
            "text/plain": [
              "[('@', 48),\n",
              " ('@WBrettWilson', 1),\n",
              " ('@is', 1),\n",
              " ('@of', 1),\n",
              " ('@your', 1),\n",
              " ('@yours', 1),\n",
              " ('@see', 1),\n",
              " ('@most', 1),\n",
              " ('@ss', 1),\n",
              " ('@realDonaldTrump', 1)]"
            ]
          },
          "metadata": {
            "tags": []
          },
          "execution_count": 184
        }
      ]
    },
    {
      "cell_type": "markdown",
      "metadata": {
        "id": "zcphU-wgIURA",
        "colab_type": "text"
      },
      "source": [
        "## Exercise 3: LDA (\"Boomer\")"
      ]
    },
    {
      "cell_type": "markdown",
      "metadata": {
        "id": "F77fU6gxDJjH",
        "colab_type": "text"
      },
      "source": [
        "Filter the corpus using tweet-preprocessor - try to figure out how to use it using it's documentation\n",
        "Clean up further with SpaCy (keep only ADV, ADJ, NOUN)\n",
        "Use Gensim to build a Dictionary (Filter extremes) and Corpus\n",
        "Use Gensim to run LDA\n",
        "Identify 10 topics\n",
        "Plot topic-counts by day"
      ]
    },
    {
      "cell_type": "code",
      "metadata": {
        "id": "IIbGjup9KaFA",
        "colab_type": "code",
        "colab": {}
      },
      "source": [
        "import spacy\n",
        "nlp = spacy.load(\"en\")"
      ],
      "execution_count": 0,
      "outputs": []
    },
    {
      "cell_type": "code",
      "metadata": {
        "id": "UJyncjyRITZd",
        "colab_type": "code",
        "colab": {
          "base_uri": "https://localhost:8080/",
          "height": 34
        },
        "outputId": "bc3a23fd-aff2-4446-c308-41e9e880f43a"
      },
      "source": [
        "!pip install tweet-preprocessor\n"
      ],
      "execution_count": 186,
      "outputs": [
        {
          "output_type": "stream",
          "text": [
            "Requirement already satisfied: tweet-preprocessor in /usr/local/lib/python3.6/dist-packages (0.5.0)\n"
          ],
          "name": "stdout"
        }
      ]
    },
    {
      "cell_type": "code",
      "metadata": {
        "colab_type": "code",
        "id": "7CjnvUHVJNLR",
        "colab": {
          "base_uri": "https://localhost:8080/",
          "height": 417
        },
        "outputId": "9e06aaba-fbe3-4602-b079-abbdf5f9b017"
      },
      "source": [
        "# download and open tweets\n",
        "\n",
        "boomer_tweets_df = pd.read_json('https://github.com/CALDISS-AAU/sdsphd19_coursematerials/raw/master/data/tweets_boomer.zip')\n",
        "boomer_tweets_df.head()"
      ],
      "execution_count": 197,
      "outputs": [
        {
          "output_type": "execute_result",
          "data": {
            "text/html": [
              "<div>\n",
              "<style scoped>\n",
              "    .dataframe tbody tr th:only-of-type {\n",
              "        vertical-align: middle;\n",
              "    }\n",
              "\n",
              "    .dataframe tbody tr th {\n",
              "        vertical-align: top;\n",
              "    }\n",
              "\n",
              "    .dataframe thead th {\n",
              "        text-align: right;\n",
              "    }\n",
              "</style>\n",
              "<table border=\"1\" class=\"dataframe\">\n",
              "  <thead>\n",
              "    <tr style=\"text-align: right;\">\n",
              "      <th></th>\n",
              "      <th>id</th>\n",
              "      <th>conversation_id</th>\n",
              "      <th>created_at</th>\n",
              "      <th>date</th>\n",
              "      <th>timezone</th>\n",
              "      <th>place</th>\n",
              "      <th>tweet</th>\n",
              "      <th>hashtags</th>\n",
              "      <th>cashtags</th>\n",
              "      <th>user_id</th>\n",
              "      <th>user_id_str</th>\n",
              "      <th>username</th>\n",
              "      <th>name</th>\n",
              "      <th>day</th>\n",
              "      <th>hour</th>\n",
              "      <th>link</th>\n",
              "      <th>retweet</th>\n",
              "      <th>nlikes</th>\n",
              "      <th>nreplies</th>\n",
              "      <th>nretweets</th>\n",
              "      <th>quote_url</th>\n",
              "      <th>search</th>\n",
              "      <th>near</th>\n",
              "      <th>geo</th>\n",
              "      <th>source</th>\n",
              "      <th>user_rt_id</th>\n",
              "      <th>user_rt</th>\n",
              "      <th>retweet_id</th>\n",
              "      <th>reply_to</th>\n",
              "      <th>retweet_date</th>\n",
              "      <th>lang</th>\n",
              "    </tr>\n",
              "  </thead>\n",
              "  <tbody>\n",
              "    <tr>\n",
              "      <th>0</th>\n",
              "      <td>1197612747715837952</td>\n",
              "      <td>1197612747715837952</td>\n",
              "      <td>2019-11-21 20:28:24</td>\n",
              "      <td>2019-11-21 20:28:24</td>\n",
              "      <td>UTC</td>\n",
              "      <td></td>\n",
              "      <td>Suddenly, #OkBoomer is trending again.  https://twitter.com/Fox35Matt/status/1197185353330909184 …</td>\n",
              "      <td>[#okboomer]</td>\n",
              "      <td>[]</td>\n",
              "      <td>262050686</td>\n",
              "      <td>262050686</td>\n",
              "      <td>DanClarkSports</td>\n",
              "      <td>Dan</td>\n",
              "      <td>3</td>\n",
              "      <td>1</td>\n",
              "      <td>https://twitter.com/DanClarkSports/status/1197612747715837953</td>\n",
              "      <td>False</td>\n",
              "      <td>0</td>\n",
              "      <td>0</td>\n",
              "      <td>0</td>\n",
              "      <td>https://twitter.com/Fox35Matt/status/1197185353330909184</td>\n",
              "      <td>#okboomer</td>\n",
              "      <td></td>\n",
              "      <td></td>\n",
              "      <td></td>\n",
              "      <td></td>\n",
              "      <td></td>\n",
              "      <td></td>\n",
              "      <td>[{'user_id': '262050686', 'username': 'DanClarkSports'}]</td>\n",
              "      <td></td>\n",
              "      <td>en</td>\n",
              "    </tr>\n",
              "    <tr>\n",
              "      <th>1</th>\n",
              "      <td>1197612550403297280</td>\n",
              "      <td>1197612550403297280</td>\n",
              "      <td>2019-11-21 20:27:37</td>\n",
              "      <td>2019-11-21 20:27:37</td>\n",
              "      <td>UTC</td>\n",
              "      <td></td>\n",
              "      <td>I like my role in this 🤷‍♂️ #OkBoomer #GenX pic.twitter.com/6RI4bAsaml</td>\n",
              "      <td>[#okboomer, #genx]</td>\n",
              "      <td>[]</td>\n",
              "      <td>41444665</td>\n",
              "      <td>41444665</td>\n",
              "      <td>sinths</td>\n",
              "      <td>Sven Thomas</td>\n",
              "      <td>2</td>\n",
              "      <td>12</td>\n",
              "      <td>https://twitter.com/sinths/status/1197612550403297280</td>\n",
              "      <td>False</td>\n",
              "      <td>0</td>\n",
              "      <td>0</td>\n",
              "      <td>0</td>\n",
              "      <td></td>\n",
              "      <td>#okboomer</td>\n",
              "      <td></td>\n",
              "      <td></td>\n",
              "      <td></td>\n",
              "      <td></td>\n",
              "      <td></td>\n",
              "      <td></td>\n",
              "      <td>[{'user_id': '41444665', 'username': 'sinths'}]</td>\n",
              "      <td></td>\n",
              "      <td>en</td>\n",
              "    </tr>\n",
              "    <tr>\n",
              "      <th>2</th>\n",
              "      <td>1197612190867476480</td>\n",
              "      <td>1197611882955325440</td>\n",
              "      <td>2019-11-21 20:26:11</td>\n",
              "      <td>2019-11-21 20:26:11</td>\n",
              "      <td>UTC</td>\n",
              "      <td></td>\n",
              "      <td>He looks allot like you. Old and white.\\n\\n#OkBoomer</td>\n",
              "      <td>[#okboomer]</td>\n",
              "      <td>[]</td>\n",
              "      <td>1005516908181925888</td>\n",
              "      <td>1005516908181925888</td>\n",
              "      <td>DustFar</td>\n",
              "      <td>FarThrustStarDust</td>\n",
              "      <td>1</td>\n",
              "      <td>12</td>\n",
              "      <td>https://twitter.com/DustFar/status/1197612190867476481</td>\n",
              "      <td>False</td>\n",
              "      <td>0</td>\n",
              "      <td>1</td>\n",
              "      <td>0</td>\n",
              "      <td></td>\n",
              "      <td>#okboomer</td>\n",
              "      <td></td>\n",
              "      <td></td>\n",
              "      <td></td>\n",
              "      <td></td>\n",
              "      <td></td>\n",
              "      <td></td>\n",
              "      <td>[{'user_id': '1005516908181925888', 'username': 'DustFar'}, {'user_id': '113713991', 'username': 'timstao'}]</td>\n",
              "      <td></td>\n",
              "      <td>en</td>\n",
              "    </tr>\n",
              "    <tr>\n",
              "      <th>3</th>\n",
              "      <td>1197611782669402112</td>\n",
              "      <td>1197611782669402112</td>\n",
              "      <td>2019-11-21 20:24:34</td>\n",
              "      <td>2019-11-21 20:24:34</td>\n",
              "      <td>UTC</td>\n",
              "      <td></td>\n",
              "      <td>wait is my university’s president gaslighting me? #OkBoomer  pic.twitter.com/M2FNkQvKHo</td>\n",
              "      <td>[#okboomer]</td>\n",
              "      <td>[]</td>\n",
              "      <td>2509106274</td>\n",
              "      <td>2509106274</td>\n",
              "      <td>summerash99</td>\n",
              "      <td>queer, sultry summer</td>\n",
              "      <td>7</td>\n",
              "      <td>9</td>\n",
              "      <td>https://twitter.com/summerash99/status/1197611782669402113</td>\n",
              "      <td>False</td>\n",
              "      <td>1</td>\n",
              "      <td>0</td>\n",
              "      <td>0</td>\n",
              "      <td></td>\n",
              "      <td>#okboomer</td>\n",
              "      <td></td>\n",
              "      <td></td>\n",
              "      <td></td>\n",
              "      <td></td>\n",
              "      <td></td>\n",
              "      <td></td>\n",
              "      <td>[{'user_id': '2509106274', 'username': 'summerash99'}]</td>\n",
              "      <td></td>\n",
              "      <td>en</td>\n",
              "    </tr>\n",
              "    <tr>\n",
              "      <th>4</th>\n",
              "      <td>1197611614687637504</td>\n",
              "      <td>1197611614687637504</td>\n",
              "      <td>2019-11-21 20:23:54</td>\n",
              "      <td>2019-11-21 20:23:54</td>\n",
              "      <td>UTC</td>\n",
              "      <td></td>\n",
              "      <td>Shut up Conway you whiny, fragile fossil. #okboomer #expirealready</td>\n",
              "      <td>[#okboomer, #expirealready]</td>\n",
              "      <td>[]</td>\n",
              "      <td>2789202068</td>\n",
              "      <td>2789202068</td>\n",
              "      <td>Crayondroids</td>\n",
              "      <td>Crayondroids</td>\n",
              "      <td>6</td>\n",
              "      <td>22</td>\n",
              "      <td>https://twitter.com/Crayondroids/status/1197611614687637504</td>\n",
              "      <td>False</td>\n",
              "      <td>0</td>\n",
              "      <td>0</td>\n",
              "      <td>0</td>\n",
              "      <td></td>\n",
              "      <td>#okboomer</td>\n",
              "      <td></td>\n",
              "      <td></td>\n",
              "      <td></td>\n",
              "      <td></td>\n",
              "      <td></td>\n",
              "      <td></td>\n",
              "      <td>[{'user_id': '2789202068', 'username': 'Crayondroids'}]</td>\n",
              "      <td></td>\n",
              "      <td>en</td>\n",
              "    </tr>\n",
              "  </tbody>\n",
              "</table>\n",
              "</div>"
            ],
            "text/plain": [
              "                    id      conversation_id  ... retweet_date lang\n",
              "0  1197612747715837952  1197612747715837952  ...               en \n",
              "1  1197612550403297280  1197612550403297280  ...               en \n",
              "2  1197612190867476480  1197611882955325440  ...               en \n",
              "3  1197611782669402112  1197611782669402112  ...               en \n",
              "4  1197611614687637504  1197611614687637504  ...               en \n",
              "\n",
              "[5 rows x 31 columns]"
            ]
          },
          "metadata": {
            "tags": []
          },
          "execution_count": 197
        }
      ]
    },
    {
      "cell_type": "code",
      "metadata": {
        "colab_type": "code",
        "id": "ND3sjBLaJNLY",
        "colab": {}
      },
      "source": [
        "boomer_tweets_df = boomer_tweets_df.set_index(pd.to_datetime(boomer_tweets_df.created_at))"
      ],
      "execution_count": 0,
      "outputs": []
    },
    {
      "cell_type": "code",
      "metadata": {
        "id": "TBDsWK0ELji0",
        "colab_type": "code",
        "colab": {}
      },
      "source": [
        "import preprocessor as p\n",
        "\n",
        "p.set_options(p.OPT.URL, p.OPT.EMOJI, p.OPT.HASHTAG, p.OPT.SMILEY, p.OPT.MENTION)\n",
        "tweets_boomer_clean = boomer_tweets_df['tweet'].map(p.clean)"
      ],
      "execution_count": 0,
      "outputs": []
    },
    {
      "cell_type": "code",
      "metadata": {
        "id": "ZR14ZfaSDi59",
        "colab_type": "code",
        "colab": {}
      },
      "source": [
        "tknzr = TweetTokenizer(strip_handles=True)\n",
        "\n",
        "tweets_boomer_clean = tweets_boomer_clean.map(lambda t: [tok.lower() for tok in word_tokenize(t) if tok not in stop_words and tok.isalpha()])"
      ],
      "execution_count": 0,
      "outputs": []
    },
    {
      "cell_type": "code",
      "metadata": {
        "id": "t7ht2qpEDjDU",
        "colab_type": "code",
        "colab": {}
      },
      "source": [
        "tweets_boomer_clean = tweets_boomer_clean.map(lambda t: \" \".join(t))"
      ],
      "execution_count": 0,
      "outputs": []
    },
    {
      "cell_type": "code",
      "metadata": {
        "id": "9MW2CkOAH92K",
        "colab_type": "code",
        "colab": {
          "base_uri": "https://localhost:8080/",
          "height": 235
        },
        "outputId": "8f7829f0-8e64-4dbd-ac69-4452c74a6350"
      },
      "source": [
        "tweets_boomer_clean"
      ],
      "execution_count": 202,
      "outputs": [
        {
          "output_type": "execute_result",
          "data": {
            "text/plain": [
              "created_at\n",
              "2019-11-21 20:28:24    suddenly trending                                                \n",
              "2019-11-21 20:27:37    i like role                                                      \n",
              "2019-11-21 20:26:11    he looks allot like old white                                    \n",
              "2019-11-21 20:24:34    wait university president gaslighting                            \n",
              "2019-11-21 20:23:54    shut conway whiny fragile fossil                                 \n",
              "                                     ...                                                \n",
              "2019-11-11 13:12:53    lmao                                                             \n",
              "2019-11-11 13:11:46    good thread                                                      \n",
              "2019-11-11 13:09:38    boomer quote either cant get fooled tge new boss old boss the who\n",
              "2019-11-11 13:09:11    i think room                                                     \n",
              "2019-11-11 13:06:11    he legit used                                                    \n",
              "Name: tweet, Length: 9722, dtype: object"
            ]
          },
          "metadata": {
            "tags": []
          },
          "execution_count": 202
        }
      ]
    },
    {
      "cell_type": "code",
      "metadata": {
        "id": "Kmtq0jE9DjIc",
        "colab_type": "code",
        "colab": {}
      },
      "source": [
        "tokens = []\n",
        "\n",
        "for summary in nlp.pipe(tweets_boomer_clean):\n",
        "  proj_tok = [token.lemma_.lower() for token in summary if token.pos_ in ['NOUN', 'PROPN', 'ADJ', 'ADV'] and not token.is_stop] \n",
        "  tokens.append(proj_tok)"
      ],
      "execution_count": 0,
      "outputs": []
    },
    {
      "cell_type": "code",
      "metadata": {
        "id": "iw3jiOv4Hse-",
        "colab_type": "code",
        "colab": {}
      },
      "source": [
        "tokens"
      ],
      "execution_count": 0,
      "outputs": []
    },
    {
      "cell_type": "code",
      "metadata": {
        "id": "cNk72y-7PeXd",
        "colab_type": "code",
        "colab": {}
      },
      "source": [
        "boomer_tweets_df['tokens'] = tokens"
      ],
      "execution_count": 0,
      "outputs": []
    },
    {
      "cell_type": "code",
      "metadata": {
        "id": "motjLUBpDmdL",
        "colab_type": "code",
        "colab": {}
      },
      "source": [
        "!pip install -qq -U gensim"
      ],
      "execution_count": 0,
      "outputs": []
    },
    {
      "cell_type": "code",
      "metadata": {
        "id": "EWU7zITlkwPs",
        "colab_type": "code",
        "colab": {}
      },
      "source": [
        "# Import the dictionary builder\n",
        "from gensim.corpora.dictionary import Dictionary"
      ],
      "execution_count": 0,
      "outputs": []
    },
    {
      "cell_type": "code",
      "metadata": {
        "id": "iOmNmWMvZ8Vy",
        "colab_type": "code",
        "colab": {}
      },
      "source": [
        "# Create a Dictionary from the articles: dictionary\n",
        "dictionary = Dictionary(boomer_tweets_df['tokens'])"
      ],
      "execution_count": 0,
      "outputs": []
    },
    {
      "cell_type": "code",
      "metadata": {
        "id": "wZW6Idn_btnL",
        "colab_type": "code",
        "colab": {}
      },
      "source": [
        "# filter out low-frequency / high-frequency stuff, also limit the vocabulary to max 1000 words\n",
        "dictionary.filter_extremes(no_below=5, no_above=0.5, keep_n=1000)"
      ],
      "execution_count": 0,
      "outputs": []
    },
    {
      "cell_type": "code",
      "metadata": {
        "id": "UB6aB8E-bkW9",
        "colab_type": "code",
        "colab": {}
      },
      "source": [
        "# construct corpus using this dictionary\n",
        "corpus = [dictionary.doc2bow(doc) for doc in boomer_tweets_df['tokens']]"
      ],
      "execution_count": 0,
      "outputs": []
    },
    {
      "cell_type": "code",
      "metadata": {
        "id": "BiwVqyk5KqUo",
        "colab_type": "code",
        "colab": {
          "base_uri": "https://localhost:8080/",
          "height": 50
        },
        "outputId": "83057aab-61f1-4d55-d82f-c832975b56dc"
      },
      "source": [
        "# let's fist install this nice visualizer\n",
        "!pip install -qq pyLDAvis"
      ],
      "execution_count": 218,
      "outputs": [
        {
          "output_type": "stream",
          "text": [
            "\u001b[?25l\r\u001b[K     |▏                               | 10kB 18.1MB/s eta 0:00:01\r\u001b[K     |▍                               | 20kB 7.2MB/s eta 0:00:01\r\u001b[K     |▋                               | 30kB 9.8MB/s eta 0:00:01\r\u001b[K     |▉                               | 40kB 6.2MB/s eta 0:00:01\r\u001b[K     |█                               | 51kB 7.3MB/s eta 0:00:01\r\u001b[K     |█▏                              | 61kB 8.7MB/s eta 0:00:01\r\u001b[K     |█▍                              | 71kB 9.8MB/s eta 0:00:01\r\u001b[K     |█▋                              | 81kB 10.9MB/s eta 0:00:01\r\u001b[K     |█▉                              | 92kB 12.1MB/s eta 0:00:01\r\u001b[K     |██                              | 102kB 9.6MB/s eta 0:00:01\r\u001b[K     |██▎                             | 112kB 9.6MB/s eta 0:00:01\r\u001b[K     |██▍                             | 122kB 9.6MB/s eta 0:00:01\r\u001b[K     |██▋                             | 133kB 9.6MB/s eta 0:00:01\r\u001b[K     |██▉                             | 143kB 9.6MB/s eta 0:00:01\r\u001b[K     |███                             | 153kB 9.6MB/s eta 0:00:01\r\u001b[K     |███▎                            | 163kB 9.6MB/s eta 0:00:01\r\u001b[K     |███▌                            | 174kB 9.6MB/s eta 0:00:01\r\u001b[K     |███▋                            | 184kB 9.6MB/s eta 0:00:01\r\u001b[K     |███▉                            | 194kB 9.6MB/s eta 0:00:01\r\u001b[K     |████                            | 204kB 9.6MB/s eta 0:00:01\r\u001b[K     |████▎                           | 215kB 9.6MB/s eta 0:00:01\r\u001b[K     |████▌                           | 225kB 9.6MB/s eta 0:00:01\r\u001b[K     |████▊                           | 235kB 9.6MB/s eta 0:00:01\r\u001b[K     |████▉                           | 245kB 9.6MB/s eta 0:00:01\r\u001b[K     |█████                           | 256kB 9.6MB/s eta 0:00:01\r\u001b[K     |█████▎                          | 266kB 9.6MB/s eta 0:00:01\r\u001b[K     |█████▌                          | 276kB 9.6MB/s eta 0:00:01\r\u001b[K     |█████▊                          | 286kB 9.6MB/s eta 0:00:01\r\u001b[K     |█████▉                          | 296kB 9.6MB/s eta 0:00:01\r\u001b[K     |██████                          | 307kB 9.6MB/s eta 0:00:01\r\u001b[K     |██████▎                         | 317kB 9.6MB/s eta 0:00:01\r\u001b[K     |██████▌                         | 327kB 9.6MB/s eta 0:00:01\r\u001b[K     |██████▊                         | 337kB 9.6MB/s eta 0:00:01\r\u001b[K     |███████                         | 348kB 9.6MB/s eta 0:00:01\r\u001b[K     |███████                         | 358kB 9.6MB/s eta 0:00:01\r\u001b[K     |███████▎                        | 368kB 9.6MB/s eta 0:00:01\r\u001b[K     |███████▌                        | 378kB 9.6MB/s eta 0:00:01\r\u001b[K     |███████▊                        | 389kB 9.6MB/s eta 0:00:01\r\u001b[K     |████████                        | 399kB 9.6MB/s eta 0:00:01\r\u001b[K     |████████▏                       | 409kB 9.6MB/s eta 0:00:01\r\u001b[K     |████████▎                       | 419kB 9.6MB/s eta 0:00:01\r\u001b[K     |████████▌                       | 430kB 9.6MB/s eta 0:00:01\r\u001b[K     |████████▊                       | 440kB 9.6MB/s eta 0:00:01\r\u001b[K     |█████████                       | 450kB 9.6MB/s eta 0:00:01\r\u001b[K     |█████████▏                      | 460kB 9.6MB/s eta 0:00:01\r\u001b[K     |█████████▍                      | 471kB 9.6MB/s eta 0:00:01\r\u001b[K     |█████████▌                      | 481kB 9.6MB/s eta 0:00:01\r\u001b[K     |█████████▊                      | 491kB 9.6MB/s eta 0:00:01\r\u001b[K     |██████████                      | 501kB 9.6MB/s eta 0:00:01\r\u001b[K     |██████████▏                     | 512kB 9.6MB/s eta 0:00:01\r\u001b[K     |██████████▍                     | 522kB 9.6MB/s eta 0:00:01\r\u001b[K     |██████████▋                     | 532kB 9.6MB/s eta 0:00:01\r\u001b[K     |██████████▊                     | 542kB 9.6MB/s eta 0:00:01\r\u001b[K     |███████████                     | 552kB 9.6MB/s eta 0:00:01\r\u001b[K     |███████████▏                    | 563kB 9.6MB/s eta 0:00:01\r\u001b[K     |███████████▍                    | 573kB 9.6MB/s eta 0:00:01\r\u001b[K     |███████████▋                    | 583kB 9.6MB/s eta 0:00:01\r\u001b[K     |███████████▊                    | 593kB 9.6MB/s eta 0:00:01\r\u001b[K     |████████████                    | 604kB 9.6MB/s eta 0:00:01\r\u001b[K     |████████████▏                   | 614kB 9.6MB/s eta 0:00:01\r\u001b[K     |████████████▍                   | 624kB 9.6MB/s eta 0:00:01\r\u001b[K     |████████████▋                   | 634kB 9.6MB/s eta 0:00:01\r\u001b[K     |████████████▉                   | 645kB 9.6MB/s eta 0:00:01\r\u001b[K     |█████████████                   | 655kB 9.6MB/s eta 0:00:01\r\u001b[K     |█████████████▏                  | 665kB 9.6MB/s eta 0:00:01\r\u001b[K     |█████████████▍                  | 675kB 9.6MB/s eta 0:00:01\r\u001b[K     |█████████████▋                  | 686kB 9.6MB/s eta 0:00:01\r\u001b[K     |█████████████▉                  | 696kB 9.6MB/s eta 0:00:01\r\u001b[K     |██████████████                  | 706kB 9.6MB/s eta 0:00:01\r\u001b[K     |██████████████▏                 | 716kB 9.6MB/s eta 0:00:01\r\u001b[K     |██████████████▍                 | 727kB 9.6MB/s eta 0:00:01\r\u001b[K     |██████████████▋                 | 737kB 9.6MB/s eta 0:00:01\r\u001b[K     |██████████████▉                 | 747kB 9.6MB/s eta 0:00:01\r\u001b[K     |███████████████                 | 757kB 9.6MB/s eta 0:00:01\r\u001b[K     |███████████████▎                | 768kB 9.6MB/s eta 0:00:01\r\u001b[K     |███████████████▍                | 778kB 9.6MB/s eta 0:00:01\r\u001b[K     |███████████████▋                | 788kB 9.6MB/s eta 0:00:01\r\u001b[K     |███████████████▉                | 798kB 9.6MB/s eta 0:00:01\r\u001b[K     |████████████████                | 808kB 9.6MB/s eta 0:00:01\r\u001b[K     |████████████████▎               | 819kB 9.6MB/s eta 0:00:01\r\u001b[K     |████████████████▌               | 829kB 9.6MB/s eta 0:00:01\r\u001b[K     |████████████████▋               | 839kB 9.6MB/s eta 0:00:01\r\u001b[K     |████████████████▉               | 849kB 9.6MB/s eta 0:00:01\r\u001b[K     |█████████████████               | 860kB 9.6MB/s eta 0:00:01\r\u001b[K     |█████████████████▎              | 870kB 9.6MB/s eta 0:00:01\r\u001b[K     |█████████████████▌              | 880kB 9.6MB/s eta 0:00:01\r\u001b[K     |█████████████████▋              | 890kB 9.6MB/s eta 0:00:01\r\u001b[K     |█████████████████▉              | 901kB 9.6MB/s eta 0:00:01\r\u001b[K     |██████████████████              | 911kB 9.6MB/s eta 0:00:01\r\u001b[K     |██████████████████▎             | 921kB 9.6MB/s eta 0:00:01\r\u001b[K     |██████████████████▌             | 931kB 9.6MB/s eta 0:00:01\r\u001b[K     |██████████████████▊             | 942kB 9.6MB/s eta 0:00:01\r\u001b[K     |██████████████████▉             | 952kB 9.6MB/s eta 0:00:01\r\u001b[K     |███████████████████             | 962kB 9.6MB/s eta 0:00:01\r\u001b[K     |███████████████████▎            | 972kB 9.6MB/s eta 0:00:01\r\u001b[K     |███████████████████▌            | 983kB 9.6MB/s eta 0:00:01\r\u001b[K     |███████████████████▊            | 993kB 9.6MB/s eta 0:00:01\r\u001b[K     |████████████████████            | 1.0MB 9.6MB/s eta 0:00:01\r\u001b[K     |████████████████████            | 1.0MB 9.6MB/s eta 0:00:01\r\u001b[K     |████████████████████▎           | 1.0MB 9.6MB/s eta 0:00:01\r\u001b[K     |████████████████████▌           | 1.0MB 9.6MB/s eta 0:00:01\r\u001b[K     |████████████████████▊           | 1.0MB 9.6MB/s eta 0:00:01\r\u001b[K     |█████████████████████           | 1.1MB 9.6MB/s eta 0:00:01\r\u001b[K     |█████████████████████▏          | 1.1MB 9.6MB/s eta 0:00:01\r\u001b[K     |█████████████████████▎          | 1.1MB 9.6MB/s eta 0:00:01\r\u001b[K     |█████████████████████▌          | 1.1MB 9.6MB/s eta 0:00:01\r\u001b[K     |█████████████████████▊          | 1.1MB 9.6MB/s eta 0:00:01\r\u001b[K     |██████████████████████          | 1.1MB 9.6MB/s eta 0:00:01\r\u001b[K     |██████████████████████▏         | 1.1MB 9.6MB/s eta 0:00:01\r\u001b[K     |██████████████████████▍         | 1.1MB 9.6MB/s eta 0:00:01\r\u001b[K     |██████████████████████▌         | 1.1MB 9.6MB/s eta 0:00:01\r\u001b[K     |██████████████████████▊         | 1.1MB 9.6MB/s eta 0:00:01\r\u001b[K     |███████████████████████         | 1.2MB 9.6MB/s eta 0:00:01\r\u001b[K     |███████████████████████▏        | 1.2MB 9.6MB/s eta 0:00:01\r\u001b[K     |███████████████████████▍        | 1.2MB 9.6MB/s eta 0:00:01\r\u001b[K     |███████████████████████▌        | 1.2MB 9.6MB/s eta 0:00:01\r\u001b[K     |███████████████████████▊        | 1.2MB 9.6MB/s eta 0:00:01\r\u001b[K     |████████████████████████        | 1.2MB 9.6MB/s eta 0:00:01\r\u001b[K     |████████████████████████▏       | 1.2MB 9.6MB/s eta 0:00:01\r\u001b[K     |████████████████████████▍       | 1.2MB 9.6MB/s eta 0:00:01\r\u001b[K     |████████████████████████▋       | 1.2MB 9.6MB/s eta 0:00:01\r\u001b[K     |████████████████████████▊       | 1.2MB 9.6MB/s eta 0:00:01\r\u001b[K     |█████████████████████████       | 1.3MB 9.6MB/s eta 0:00:01\r\u001b[K     |█████████████████████████▏      | 1.3MB 9.6MB/s eta 0:00:01\r\u001b[K     |█████████████████████████▍      | 1.3MB 9.6MB/s eta 0:00:01\r\u001b[K     |█████████████████████████▋      | 1.3MB 9.6MB/s eta 0:00:01\r\u001b[K     |█████████████████████████▉      | 1.3MB 9.6MB/s eta 0:00:01\r\u001b[K     |██████████████████████████      | 1.3MB 9.6MB/s eta 0:00:01\r\u001b[K     |██████████████████████████▏     | 1.3MB 9.6MB/s eta 0:00:01\r\u001b[K     |██████████████████████████▍     | 1.3MB 9.6MB/s eta 0:00:01\r\u001b[K     |██████████████████████████▋     | 1.3MB 9.6MB/s eta 0:00:01\r\u001b[K     |██████████████████████████▉     | 1.4MB 9.6MB/s eta 0:00:01\r\u001b[K     |███████████████████████████     | 1.4MB 9.6MB/s eta 0:00:01\r\u001b[K     |███████████████████████████▏    | 1.4MB 9.6MB/s eta 0:00:01\r\u001b[K     |███████████████████████████▍    | 1.4MB 9.6MB/s eta 0:00:01\r\u001b[K     |███████████████████████████▋    | 1.4MB 9.6MB/s eta 0:00:01\r\u001b[K     |███████████████████████████▉    | 1.4MB 9.6MB/s eta 0:00:01\r\u001b[K     |████████████████████████████    | 1.4MB 9.6MB/s eta 0:00:01\r\u001b[K     |████████████████████████████▏   | 1.4MB 9.6MB/s eta 0:00:01\r\u001b[K     |████████████████████████████▍   | 1.4MB 9.6MB/s eta 0:00:01\r\u001b[K     |████████████████████████████▋   | 1.4MB 9.6MB/s eta 0:00:01\r\u001b[K     |████████████████████████████▉   | 1.5MB 9.6MB/s eta 0:00:01\r\u001b[K     |█████████████████████████████   | 1.5MB 9.6MB/s eta 0:00:01\r\u001b[K     |█████████████████████████████▎  | 1.5MB 9.6MB/s eta 0:00:01\r\u001b[K     |█████████████████████████████▍  | 1.5MB 9.6MB/s eta 0:00:01\r\u001b[K     |█████████████████████████████▋  | 1.5MB 9.6MB/s eta 0:00:01\r\u001b[K     |█████████████████████████████▉  | 1.5MB 9.6MB/s eta 0:00:01\r\u001b[K     |██████████████████████████████  | 1.5MB 9.6MB/s eta 0:00:01\r\u001b[K     |██████████████████████████████▎ | 1.5MB 9.6MB/s eta 0:00:01\r\u001b[K     |██████████████████████████████▌ | 1.5MB 9.6MB/s eta 0:00:01\r\u001b[K     |██████████████████████████████▋ | 1.5MB 9.6MB/s eta 0:00:01\r\u001b[K     |██████████████████████████████▉ | 1.6MB 9.6MB/s eta 0:00:01\r\u001b[K     |███████████████████████████████ | 1.6MB 9.6MB/s eta 0:00:01\r\u001b[K     |███████████████████████████████▎| 1.6MB 9.6MB/s eta 0:00:01\r\u001b[K     |███████████████████████████████▌| 1.6MB 9.6MB/s eta 0:00:01\r\u001b[K     |███████████████████████████████▊| 1.6MB 9.6MB/s eta 0:00:01\r\u001b[K     |███████████████████████████████▉| 1.6MB 9.6MB/s eta 0:00:01\r\u001b[K     |████████████████████████████████| 1.6MB 9.6MB/s \n",
            "\u001b[?25h  Building wheel for pyLDAvis (setup.py) ... \u001b[?25l\u001b[?25hdone\n"
          ],
          "name": "stdout"
        }
      ]
    },
    {
      "cell_type": "code",
      "metadata": {
        "id": "OCcCiqHHKqlw",
        "colab_type": "code",
        "colab": {}
      },
      "source": [
        "# and import it\n",
        "import pyLDAvis.gensim\n",
        "%matplotlib inline\n",
        "pyLDAvis.enable_notebook()"
      ],
      "execution_count": 0,
      "outputs": []
    },
    {
      "cell_type": "code",
      "metadata": {
        "id": "G3vcFRRqbsFR",
        "colab_type": "code",
        "colab": {}
      },
      "source": [
        "# we'll use the faster multicore version of LDA\n",
        "\n",
        "from gensim.models import LdaMulticore"
      ],
      "execution_count": 0,
      "outputs": []
    },
    {
      "cell_type": "code",
      "metadata": {
        "id": "Sv_Z6JXIb526",
        "colab_type": "code",
        "colab": {}
      },
      "source": [
        "# Training the model (makes some mess atm due to version clashes)\n",
        "\n",
        "lda_model = LdaMulticore(corpus, id2word=dictionary,  num_topics=10, workers = 4, passes=10)"
      ],
      "execution_count": 0,
      "outputs": []
    },
    {
      "cell_type": "code",
      "metadata": {
        "id": "cXPrQHO9nDhB",
        "colab_type": "code",
        "colab": {
          "base_uri": "https://localhost:8080/",
          "height": 353
        },
        "outputId": "fa44520e-50d1-4c4e-e2e1-3c9b1164ec7c"
      },
      "source": [
        "# Check out topics\n",
        "lda_model.print_topics(-1)"
      ],
      "execution_count": 220,
      "outputs": [
        {
          "output_type": "execute_result",
          "data": {
            "text/plain": [
              "[(0,\n",
              "  '0.084*\"people\" + 0.040*\"today\" + 0.030*\"time\" + 0.027*\"old\" + 0.016*\"word\" + 0.015*\"millennial\" + 0.015*\"new\" + 0.014*\"boomer\" + 0.013*\"perfect\" + 0.012*\"comment\"'),\n",
              " (1,\n",
              "  '0.079*\"boomer\" + 0.058*\"good\" + 0.031*\"ok\" + 0.024*\"millennial\" + 0.020*\"day\" + 0.019*\"pink\" + 0.018*\"job\" + 0.017*\"free\" + 0.017*\"right\" + 0.015*\"time\"'),\n",
              " (2,\n",
              "  '0.064*\"boomer\" + 0.050*\"gen\" + 0.045*\"response\" + 0.032*\"old\" + 0.024*\"people\" + 0.020*\"millennial\" + 0.019*\"young\" + 0.016*\"disney\" + 0.014*\"kid\" + 0.013*\"trend\"'),\n",
              " (3,\n",
              "  '0.080*\"meme\" + 0.027*\"great\" + 0.023*\"day\" + 0.022*\"workplace\" + 0.019*\"old\" + 0.018*\"hashtag\" + 0.016*\"shit\" + 0.015*\"nightmare\" + 0.014*\"lady\" + 0.013*\"week\"'),\n",
              " (4,\n",
              "  '0.058*\"boomer\" + 0.036*\"life\" + 0.024*\"actually\" + 0.022*\"people\" + 0.018*\"phrase\" + 0.017*\"country\" + 0.016*\"moment\" + 0.016*\"google\" + 0.015*\"work\" + 0.014*\"social\"'),\n",
              " (5,\n",
              "  '0.059*\"boomer\" + 0.024*\"time\" + 0.020*\"war\" + 0.014*\"mad\" + 0.012*\"point\" + 0.012*\"world\" + 0.011*\"instead\" + 0.010*\"talk\" + 0.010*\"parent\" + 0.010*\"right\"'),\n",
              " (6,\n",
              "  '0.066*\"generation\" + 0.045*\"man\" + 0.041*\"boomer\" + 0.035*\"guy\" + 0.027*\"old\" + 0.024*\"white\" + 0.019*\"tweet\" + 0.019*\"drug\" + 0.016*\"wrong\" + 0.012*\"thing\"'),\n",
              " (7,\n",
              "  '0.073*\"thing\" + 0.056*\"boomer\" + 0.041*\"kid\" + 0.035*\"year\" + 0.021*\"old\" + 0.019*\"time\" + 0.018*\"mom\" + 0.016*\"lot\" + 0.015*\"finally\" + 0.015*\"tv\"'),\n",
              " (8,\n",
              "  '0.080*\"boomer\" + 0.051*\"new\" + 0.029*\"age\" + 0.024*\"game\" + 0.022*\"millenial\" + 0.020*\"old\" + 0.019*\"president\" + 0.018*\"boom\" + 0.012*\"maybe\" + 0.012*\"future\"'),\n",
              " (9,\n",
              "  '0.175*\"boomer\" + 0.062*\"generation\" + 0.057*\"way\" + 0.043*\"change\" + 0.040*\"millennial\" + 0.035*\"people\" + 0.024*\"young\" + 0.024*\"baby\" + 0.014*\"meme\" + 0.013*\"shop\"')]"
            ]
          },
          "metadata": {
            "tags": []
          },
          "execution_count": 220
        }
      ]
    },
    {
      "cell_type": "code",
      "metadata": {
        "id": "SDIH34Lvb7Cz",
        "colab_type": "code",
        "colab": {
          "base_uri": "https://localhost:8080/",
          "height": 151
        },
        "outputId": "e586ee8c-5023-4359-e9b8-03fa1133528d"
      },
      "source": [
        "# Let's try to visualize\n",
        "lda_display = pyLDAvis.gensim.prepare(lda_model, corpus, dictionary, sort_topics=False)\n"
      ],
      "execution_count": 221,
      "outputs": [
        {
          "output_type": "stream",
          "text": [
            "/usr/local/lib/python3.6/dist-packages/pyLDAvis/_prepare.py:257: FutureWarning: Sorting because non-concatenation axis is not aligned. A future version\n",
            "of pandas will change to not sort by default.\n",
            "\n",
            "To accept the future behavior, pass 'sort=False'.\n",
            "\n",
            "To retain the current behavior and silence the warning, pass 'sort=True'.\n",
            "\n",
            "  return pd.concat([default_term_info] + list(topic_dfs))\n"
          ],
          "name": "stderr"
        }
      ]
    },
    {
      "cell_type": "code",
      "metadata": {
        "id": "bmDFJBBFcBHV",
        "colab_type": "code",
        "outputId": "168c868e-95de-4db0-d8c9-347d3b68038c",
        "colab": {
          "base_uri": "https://localhost:8080/",
          "height": 861
        }
      },
      "source": [
        "# Let's Visualize\n",
        "pyLDAvis.display(lda_display)"
      ],
      "execution_count": 222,
      "outputs": [
        {
          "output_type": "execute_result",
          "data": {
            "text/html": [
              "\n",
              "<link rel=\"stylesheet\" type=\"text/css\" href=\"https://cdn.rawgit.com/bmabey/pyLDAvis/files/ldavis.v1.0.0.css\">\n",
              "\n",
              "\n",
              "<div id=\"ldavis_el1201400749365367845809289559\"></div>\n",
              "<script type=\"text/javascript\">\n",
              "\n",
              "var ldavis_el1201400749365367845809289559_data = {\"mdsDat\": {\"x\": [0.032933683152503224, -0.08374956816140705, -0.07314414349411848, 0.31594823695103713, -0.13270490646740682, -0.026403299709700453, 0.09376042102135032, -0.03796875536763873, -0.06632762041101309, -0.02234404751360625], \"y\": [-0.08677805879225567, -0.06077081663044181, 0.149639892343133, -0.06184065400683538, -0.18660877199803574, -0.09429931941508438, 0.11719765734095978, -0.013681794020385551, 0.11847303343529735, 0.11866883174364837], \"topics\": [1, 2, 3, 4, 5, 6, 7, 8, 9, 10], \"cluster\": [1, 1, 1, 1, 1, 1, 1, 1, 1, 1], \"Freq\": [10.063193321228027, 10.844618797302246, 8.7643404006958, 9.275372505187988, 9.071578979492188, 9.501681327819824, 9.622726440429688, 9.914851188659668, 9.484868049621582, 13.456778526306152]}, \"tinfo\": {\"Category\": [\"Default\", \"Default\", \"Default\", \"Default\", \"Default\", \"Default\", \"Default\", \"Default\", \"Default\", \"Default\", \"Default\", \"Default\", \"Default\", \"Default\", \"Default\", \"Default\", \"Default\", \"Default\", \"Default\", \"Default\", \"Default\", \"Default\", \"Default\", \"Default\", \"Default\", \"Default\", \"Default\", \"Default\", \"Default\", \"Default\", \"Topic1\", \"Topic1\", \"Topic1\", \"Topic1\", \"Topic1\", \"Topic1\", \"Topic1\", \"Topic1\", \"Topic1\", \"Topic1\", \"Topic1\", \"Topic1\", \"Topic1\", \"Topic1\", \"Topic1\", \"Topic1\", \"Topic1\", \"Topic1\", \"Topic1\", \"Topic1\", \"Topic1\", \"Topic1\", \"Topic1\", \"Topic1\", \"Topic1\", \"Topic1\", \"Topic1\", \"Topic1\", \"Topic1\", \"Topic1\", \"Topic1\", \"Topic1\", \"Topic1\", \"Topic1\", \"Topic1\", \"Topic1\", \"Topic1\", \"Topic1\", \"Topic1\", \"Topic1\", \"Topic1\", \"Topic1\", \"Topic1\", \"Topic1\", \"Topic1\", \"Topic1\", \"Topic1\", \"Topic1\", \"Topic1\", \"Topic1\", \"Topic1\", \"Topic1\", \"Topic1\", \"Topic1\", \"Topic1\", \"Topic1\", \"Topic1\", \"Topic1\", \"Topic1\", \"Topic1\", \"Topic1\", \"Topic1\", \"Topic2\", \"Topic2\", \"Topic2\", \"Topic2\", \"Topic2\", \"Topic2\", \"Topic2\", \"Topic2\", \"Topic2\", \"Topic2\", \"Topic2\", \"Topic2\", \"Topic2\", \"Topic2\", \"Topic2\", \"Topic2\", \"Topic2\", \"Topic2\", \"Topic2\", \"Topic2\", \"Topic2\", \"Topic2\", \"Topic2\", \"Topic2\", \"Topic2\", \"Topic2\", \"Topic2\", \"Topic2\", \"Topic2\", \"Topic2\", \"Topic2\", \"Topic2\", \"Topic2\", \"Topic2\", \"Topic2\", \"Topic2\", \"Topic2\", \"Topic2\", \"Topic2\", \"Topic2\", \"Topic2\", \"Topic2\", \"Topic2\", \"Topic2\", \"Topic2\", \"Topic2\", \"Topic2\", \"Topic2\", \"Topic2\", \"Topic2\", \"Topic2\", \"Topic2\", \"Topic2\", \"Topic3\", \"Topic3\", \"Topic3\", \"Topic3\", \"Topic3\", \"Topic3\", \"Topic3\", \"Topic3\", \"Topic3\", \"Topic3\", \"Topic3\", \"Topic3\", \"Topic3\", \"Topic3\", \"Topic3\", \"Topic3\", \"Topic3\", \"Topic3\", \"Topic3\", \"Topic3\", \"Topic3\", \"Topic3\", \"Topic3\", \"Topic3\", \"Topic3\", \"Topic3\", \"Topic3\", \"Topic3\", \"Topic3\", \"Topic3\", \"Topic3\", \"Topic3\", \"Topic3\", \"Topic3\", \"Topic3\", \"Topic3\", \"Topic3\", \"Topic3\", \"Topic3\", \"Topic3\", \"Topic3\", \"Topic3\", \"Topic3\", \"Topic3\", \"Topic3\", \"Topic3\", \"Topic3\", \"Topic3\", \"Topic3\", \"Topic3\", \"Topic3\", \"Topic3\", \"Topic3\", \"Topic3\", \"Topic4\", \"Topic4\", \"Topic4\", \"Topic4\", \"Topic4\", \"Topic4\", \"Topic4\", \"Topic4\", \"Topic4\", \"Topic4\", \"Topic4\", \"Topic4\", \"Topic4\", \"Topic4\", \"Topic4\", \"Topic4\", \"Topic4\", \"Topic4\", \"Topic4\", \"Topic4\", \"Topic4\", \"Topic4\", \"Topic4\", \"Topic4\", \"Topic4\", \"Topic4\", \"Topic4\", \"Topic4\", \"Topic4\", \"Topic4\", \"Topic4\", \"Topic4\", \"Topic4\", \"Topic4\", \"Topic4\", \"Topic4\", \"Topic4\", \"Topic4\", \"Topic4\", \"Topic4\", \"Topic4\", \"Topic4\", \"Topic4\", \"Topic4\", \"Topic4\", \"Topic4\", \"Topic4\", \"Topic4\", \"Topic4\", \"Topic4\", \"Topic4\", \"Topic4\", \"Topic4\", \"Topic4\", \"Topic4\", \"Topic4\", \"Topic4\", \"Topic4\", \"Topic5\", \"Topic5\", \"Topic5\", \"Topic5\", \"Topic5\", \"Topic5\", \"Topic5\", \"Topic5\", \"Topic5\", \"Topic5\", \"Topic5\", \"Topic5\", \"Topic5\", \"Topic5\", \"Topic5\", \"Topic5\", \"Topic5\", \"Topic5\", \"Topic5\", \"Topic5\", \"Topic5\", \"Topic5\", \"Topic5\", \"Topic5\", \"Topic5\", \"Topic5\", \"Topic5\", \"Topic5\", \"Topic5\", \"Topic5\", \"Topic5\", \"Topic5\", \"Topic5\", \"Topic5\", \"Topic5\", \"Topic5\", \"Topic5\", \"Topic5\", \"Topic5\", \"Topic5\", \"Topic5\", \"Topic5\", \"Topic5\", \"Topic5\", \"Topic5\", \"Topic5\", \"Topic5\", \"Topic5\", \"Topic5\", \"Topic5\", \"Topic5\", \"Topic5\", \"Topic5\", \"Topic5\", \"Topic5\", \"Topic6\", \"Topic6\", \"Topic6\", \"Topic6\", \"Topic6\", \"Topic6\", \"Topic6\", \"Topic6\", \"Topic6\", \"Topic6\", \"Topic6\", \"Topic6\", \"Topic6\", \"Topic6\", \"Topic6\", \"Topic6\", \"Topic6\", \"Topic6\", \"Topic6\", \"Topic6\", \"Topic6\", \"Topic6\", \"Topic6\", \"Topic6\", \"Topic6\", \"Topic6\", \"Topic6\", \"Topic6\", \"Topic6\", \"Topic6\", \"Topic6\", \"Topic6\", \"Topic6\", \"Topic6\", \"Topic6\", \"Topic6\", \"Topic6\", \"Topic6\", \"Topic6\", \"Topic6\", \"Topic6\", \"Topic6\", \"Topic6\", \"Topic6\", \"Topic6\", \"Topic6\", \"Topic6\", \"Topic6\", \"Topic6\", \"Topic6\", \"Topic6\", \"Topic6\", \"Topic6\", \"Topic6\", \"Topic6\", \"Topic6\", \"Topic6\", \"Topic6\", \"Topic6\", \"Topic6\", \"Topic6\", \"Topic6\", \"Topic6\", \"Topic6\", \"Topic7\", \"Topic7\", \"Topic7\", \"Topic7\", \"Topic7\", \"Topic7\", \"Topic7\", \"Topic7\", \"Topic7\", \"Topic7\", \"Topic7\", \"Topic7\", \"Topic7\", \"Topic7\", \"Topic7\", \"Topic7\", \"Topic7\", \"Topic7\", \"Topic7\", \"Topic7\", \"Topic7\", \"Topic7\", \"Topic7\", \"Topic7\", \"Topic7\", \"Topic7\", \"Topic7\", \"Topic7\", \"Topic7\", \"Topic7\", \"Topic7\", \"Topic7\", \"Topic7\", \"Topic7\", \"Topic7\", \"Topic7\", \"Topic7\", \"Topic7\", \"Topic7\", \"Topic7\", \"Topic7\", \"Topic7\", \"Topic7\", \"Topic7\", \"Topic7\", \"Topic7\", \"Topic7\", \"Topic7\", \"Topic7\", \"Topic7\", \"Topic7\", \"Topic7\", \"Topic7\", \"Topic7\", \"Topic7\", \"Topic7\", \"Topic7\", \"Topic8\", \"Topic8\", \"Topic8\", \"Topic8\", \"Topic8\", \"Topic8\", \"Topic8\", \"Topic8\", \"Topic8\", \"Topic8\", \"Topic8\", \"Topic8\", \"Topic8\", \"Topic8\", \"Topic8\", \"Topic8\", \"Topic8\", \"Topic8\", \"Topic8\", \"Topic8\", \"Topic8\", \"Topic8\", \"Topic8\", \"Topic8\", \"Topic8\", \"Topic8\", \"Topic8\", \"Topic8\", \"Topic8\", \"Topic8\", \"Topic8\", \"Topic8\", \"Topic8\", \"Topic8\", \"Topic8\", \"Topic8\", \"Topic8\", \"Topic8\", \"Topic8\", \"Topic8\", \"Topic8\", \"Topic8\", \"Topic8\", \"Topic8\", \"Topic8\", \"Topic8\", \"Topic8\", \"Topic8\", \"Topic8\", \"Topic8\", \"Topic8\", \"Topic8\", \"Topic8\", \"Topic8\", \"Topic8\", \"Topic8\", \"Topic9\", \"Topic9\", \"Topic9\", \"Topic9\", \"Topic9\", \"Topic9\", \"Topic9\", \"Topic9\", \"Topic9\", \"Topic9\", \"Topic9\", \"Topic9\", \"Topic9\", \"Topic9\", \"Topic9\", \"Topic9\", \"Topic9\", \"Topic9\", \"Topic9\", \"Topic9\", \"Topic9\", \"Topic9\", \"Topic9\", \"Topic9\", \"Topic9\", \"Topic9\", \"Topic9\", \"Topic9\", \"Topic9\", \"Topic9\", \"Topic9\", \"Topic9\", \"Topic9\", \"Topic9\", \"Topic9\", \"Topic9\", \"Topic9\", \"Topic9\", \"Topic9\", \"Topic9\", \"Topic9\", \"Topic9\", \"Topic9\", \"Topic9\", \"Topic9\", \"Topic9\", \"Topic9\", \"Topic9\", \"Topic9\", \"Topic9\", \"Topic9\", \"Topic9\", \"Topic9\", \"Topic9\", \"Topic9\", \"Topic9\", \"Topic9\", \"Topic9\", \"Topic10\", \"Topic10\", \"Topic10\", \"Topic10\", \"Topic10\", \"Topic10\", \"Topic10\", \"Topic10\", \"Topic10\", \"Topic10\", \"Topic10\", \"Topic10\", \"Topic10\", \"Topic10\", \"Topic10\", \"Topic10\", \"Topic10\", \"Topic10\", \"Topic10\", \"Topic10\", \"Topic10\", \"Topic10\", \"Topic10\", \"Topic10\", \"Topic10\", \"Topic10\", \"Topic10\", \"Topic10\", \"Topic10\", \"Topic10\", \"Topic10\", \"Topic10\", \"Topic10\", \"Topic10\", \"Topic10\", \"Topic10\", \"Topic10\", \"Topic10\", \"Topic10\", \"Topic10\", \"Topic10\", \"Topic10\", \"Topic10\", \"Topic10\", \"Topic10\", \"Topic10\", \"Topic10\", \"Topic10\", \"Topic10\", \"Topic10\", \"Topic10\", \"Topic10\"], \"Freq\": [389.0, 699.0, 2648.0, 341.0, 455.0, 793.0, 327.0, 272.0, 188.0, 159.0, 264.0, 225.0, 215.0, 279.0, 156.0, 175.0, 296.0, 127.0, 92.0, 461.0, 187.0, 287.0, 278.0, 649.0, 90.0, 80.0, 107.0, 302.0, 568.0, 224.0, 17.6303768157959, 17.319286346435547, 25.82851791381836, 16.890775680541992, 15.058409690856934, 17.368886947631836, 13.518738746643066, 14.95545482635498, 12.300372123718262, 12.215003967285156, 10.766640663146973, 11.182412147521973, 10.530773162841797, 8.00193977355957, 7.976869106292725, 9.350768089294434, 15.024880409240723, 7.915745258331299, 10.16529655456543, 14.342752456665039, 10.280610084533691, 8.368440628051758, 13.178204536437988, 37.9044075012207, 9.588824272155762, 10.563940048217773, 27.380414962768555, 6.970027446746826, 7.383768081665039, 7.27949333190918, 157.15841674804688, 50.85676574707031, 19.9195613861084, 36.874969482421875, 63.96509552001953, 331.97442626953125, 49.48728942871094, 33.48011016845703, 15.366279602050781, 38.10500717163086, 22.218320846557617, 26.548236846923828, 117.86897277832031, 29.572202682495117, 38.16303634643555, 28.257495880126953, 18.935327529907227, 36.89225769042969, 108.31670379638672, 58.733421325683594, 22.93400001525879, 25.748685836791992, 46.88747787475586, 58.999122619628906, 27.400863647460938, 20.624788284301758, 34.24943923950195, 55.35080337524414, 30.59710121154785, 31.89542579650879, 26.985733032226562, 26.637866973876953, 79.35686492919922, 74.4630126953125, 33.30033874511719, 32.7170295715332, 20.37621307373047, 26.440744400024414, 15.741774559020996, 14.318368911743164, 15.028069496154785, 10.364131927490234, 10.17582893371582, 9.893211364746094, 8.765628814697266, 9.16981029510498, 37.285011291503906, 8.270033836364746, 7.830432415008545, 9.102334022521973, 7.811920642852783, 7.358802795410156, 30.008573532104492, 5.745182037353516, 7.756936550140381, 7.219151496887207, 43.01502990722656, 34.83325958251953, 12.111490249633789, 31.58271598815918, 19.853055953979492, 248.362060546875, 78.96658325195312, 27.99118423461914, 44.30366134643555, 54.848140716552734, 34.89080810546875, 44.67824935913086, 32.930755615234375, 133.35552978515625, 61.83720397949219, 64.54701232910156, 48.200775146484375, 23.07657814025879, 27.083393096923828, 43.25069808959961, 336.3818359375, 86.56120300292969, 70.69485473632812, 104.1960220336914, 39.46180725097656, 40.66377258300781, 66.22793579101562, 31.680219650268555, 32.62582015991211, 156.88265991210938, 31.83427619934082, 18.924537658691406, 17.48021697998047, 55.61659622192383, 16.34281349182129, 16.483173370361328, 13.981478691101074, 13.324740409851074, 30.79500961303711, 11.878313064575195, 10.927901268005371, 173.9520263671875, 12.062555313110352, 12.380349159240723, 11.765450477600098, 9.754900932312012, 9.200342178344727, 9.157124519348145, 7.854337692260742, 28.011199951171875, 30.76140022277832, 7.509304046630859, 6.238677978515625, 9.886106491088867, 23.641576766967773, 4.83988094329834, 13.06689453125, 20.226097106933594, 9.165247917175293, 42.7481575012207, 31.88915252685547, 45.18165969848633, 45.895782470703125, 37.085227966308594, 29.375446319580078, 21.603334426879883, 26.664823532104492, 29.536006927490234, 39.79551696777344, 112.05003356933594, 65.54065704345703, 221.06137084960938, 43.22521209716797, 25.55175018310547, 81.986083984375, 68.92628479003906, 44.7540397644043, 47.151405334472656, 38.8484992980957, 27.937467575073242, 26.00834083557129, 27.986141204833984, 25.764751434326172, 53.42412567138672, 23.572124481201172, 18.3027286529541, 16.93842315673828, 15.448025703430176, 14.55805492401123, 13.855947494506836, 16.826190948486328, 11.700709342956543, 11.170207023620605, 22.513044357299805, 11.154165267944336, 35.33400344848633, 10.439265251159668, 9.382160186767578, 11.476888656616211, 8.846638679504395, 15.07466983795166, 81.04619598388672, 8.657837867736816, 8.030560493469238, 38.20481872558594, 23.65958023071289, 5.426436901092529, 38.82954025268555, 50.518585205078125, 25.906461715698242, 19.83624839782715, 10.4090576171875, 18.5156307220459, 100.63274383544922, 292.85711669921875, 21.738231658935547, 35.34549331665039, 64.5510025024414, 48.77574157714844, 23.468883514404297, 19.645347595214844, 24.450916290283203, 26.68548011779785, 23.97057342529297, 37.254146575927734, 47.27168655395508, 56.7635383605957, 24.937509536743164, 82.46018981933594, 29.87291145324707, 21.580127716064453, 68.97325134277344, 25.994184494018555, 30.510251998901367, 30.08730697631836, 43.424713134765625, 37.371150970458984, 30.00986671447754, 27.24785041809082, 28.351228713989258, 26.154342651367188, 23.318450927734375, 19.087060928344727, 16.368146896362305, 13.836356163024902, 13.83069133758545, 13.326441764831543, 13.315704345703125, 10.5316801071167, 8.888516426086426, 8.856616020202637, 27.142845153808594, 35.891929626464844, 8.188727378845215, 10.519930839538574, 5.651542663574219, 50.52387237548828, 5.115736961364746, 21.29119300842285, 130.68626403808594, 19.517913818359375, 21.926265716552734, 15.861492156982422, 15.440174102783203, 24.65159034729004, 38.36892318725586, 16.994537353515625, 57.496829986572266, 12.688406944274902, 8.671611785888672, 26.671175003051758, 34.94927978515625, 61.16980743408203, 58.6300048828125, 19.353235244750977, 25.210956573486328, 65.17076873779297, 84.5947036743164, 41.83147048950195, 29.38734245300293, 46.93804168701172, 48.979209899902344, 50.83565902709961, 51.502933502197266, 52.930904388427734, 25.851585388183594, 206.17706298828125, 38.088077545166016, 79.71399688720703, 31.771263122558594, 27.268449783325195, 38.306907653808594, 40.98227310180664, 40.013999938964844, 31.5677490234375, 25.45305633544922, 51.965328216552734, 24.623109817504883, 18.09452247619629, 21.71912956237793, 16.66518211364746, 16.465356826782227, 15.694755554199219, 15.318901062011719, 11.481234550476074, 16.980022430419922, 10.052276611328125, 9.573802947998047, 8.840970993041992, 8.39234447479248, 38.12242889404297, 6.98220157623291, 7.7993879318237305, 5.365515232086182, 9.922037124633789, 9.576835632324219, 19.537437438964844, 13.122750282287598, 31.981822967529297, 9.977778434753418, 4.692711353302002, 22.461627960205078, 75.84844207763672, 12.336280822753906, 9.87204360961914, 8.529457092285156, 22.697946548461914, 16.011934280395508, 38.97856903076172, 36.69706344604492, 38.06582260131836, 20.282920837402344, 28.889535903930664, 20.54446792602539, 30.794065475463867, 27.314619064331055, 27.05356788635254, 23.36080551147461, 25.332326889038086, 28.78310775756836, 45.29016876220703, 22.60991096496582, 21.484554290771484, 91.59524536132812, 223.1619873046875, 39.72578430175781, 44.4954948425293, 33.51054000854492, 38.818031311035156, 34.56698226928711, 31.004051208496094, 38.630088806152344, 23.999025344848633, 32.82341766357422, 34.366188049316406, 26.567420959472656, 33.80080032348633, 27.87163543701172, 30.714813232421875, 29.542373657226562, 70.95687103271484, 47.28643035888672, 37.97727966308594, 14.497611045837402, 21.37675666809082, 13.575826644897461, 13.252300262451172, 12.248146057128906, 19.696887969970703, 11.743021011352539, 11.74246597290039, 11.728860855102539, 21.39767837524414, 9.404867172241211, 8.444374084472656, 9.770320892333984, 7.254215240478516, 29.91497802734375, 7.093166351318359, 5.72503662109375, 8.954390525817871, 27.95063018798828, 11.623188972473145, 17.07773780822754, 10.677818298339844, 8.3837251663208, 9.901838302612305, 5.038234233856201, 18.79900360107422, 44.18510818481445, 169.42086791992188, 131.2925262451172, 73.8637466430664, 61.96644592285156, 92.0351333618164, 28.46381378173828, 249.75314331054688, 24.733407974243164, 30.388072967529297, 27.426610946655273, 47.27353286743164, 22.902057647705078, 33.446693420410156, 101.70536041259766, 19.553085327148438, 23.204729080200195, 156.97662353515625, 30.68071937561035, 27.340303421020508, 30.49365234375, 39.69546127319336, 47.2889404296875, 22.509370803833008, 24.091625213623047, 23.751935958862305, 23.65888786315918, 23.201101303100586, 47.369842529296875, 17.287616729736328, 16.66537094116211, 21.832435607910156, 16.302207946777344, 13.800629615783691, 13.788097381591797, 20.12466049194336, 11.966992378234863, 11.358238220214844, 11.816600799560547, 11.151398658752441, 12.231664657592773, 10.370109558105469, 10.646455764770508, 58.486141204833984, 8.018310546875, 70.54447174072266, 57.40879440307617, 6.024680137634277, 5.043508052825928, 4.966589450836182, 7.087521553039551, 9.815966606140137, 6.710137844085693, 53.455650329589844, 25.732511520385742, 13.984167098999023, 10.701783180236816, 14.207077980041504, 14.185050010681152, 284.29974365234375, 45.220420837402344, 160.08091735839844, 60.975582122802734, 135.5760498046875, 47.50292205810547, 36.441864013671875, 47.30783462524414, 23.389408111572266, 39.491458892822266, 22.49097442626953, 36.235591888427734, 25.55617332458496, 19.715030670166016, 217.46324157714844, 39.20163345336914, 73.90467071533203, 82.85477447509766, 54.21543502807617, 22.394886016845703, 25.679630279541016, 27.02143669128418, 41.86805725097656, 31.250282287597656, 28.55598258972168, 69.22152709960938, 89.58478546142578, 33.287193298339844, 18.833459854125977, 13.549150466918945, 16.83849334716797, 12.038176536560059, 12.81160831451416, 8.309285163879395, 8.30839729309082, 8.286426544189453, 8.271639823913574, 22.66206169128418, 18.00225257873535, 38.32268142700195, 6.073512554168701, 5.557632923126221, 5.120060443878174, 5.976328372955322, 10.11968994140625, 20.34308624267578, 22.998451232910156, 14.827434539794922, 20.398263931274414, 7.276686191558838, 13.596172332763672, 11.522928237915039, 22.39299201965332, 15.100034713745117, 7.041227340698242, 21.469438552856445, 190.80699157714844, 72.083984375, 82.75475311279297, 20.019939422607422, 37.321258544921875, 38.57850646972656, 110.14008331298828, 43.18837356567383, 37.310707092285156, 16.888538360595703, 24.65711784362793, 26.478961944580078, 298.02227783203125, 37.623748779296875, 45.644508361816406, 41.415809631347656, 22.441125869750977, 73.46826934814453, 24.381996154785156, 24.392335891723633, 22.761690139770508, 26.237064361572266, 29.609844207763672, 28.786928176879883, 28.85136604309082, 25.038461685180664, 22.52870750427246, 66.02468872070312, 41.369014739990234, 27.404844284057617, 25.450817108154297, 22.06789779663086, 18.2583065032959, 15.818825721740723, 15.626920700073242, 14.748549461364746, 62.20244216918945, 12.73365592956543, 12.007638931274414, 11.998043060302734, 13.057075500488281, 18.278759002685547, 8.814268112182617, 303.1195373535156, 6.9348063468933105, 227.56256103515625, 11.337648391723633, 8.686431884765625, 71.03031158447266, 17.316497802734375, 6.513978958129883, 16.4199161529541, 10.719220161437988, 8.045212745666504, 7.856969833374023, 129.6873321533203, 6.483300685882568, 24.436553955078125, 23.141489028930664, 330.3122253417969, 932.0584716796875, 130.01637268066406, 31.988569259643555, 214.70681762695312, 52.755096435546875, 183.38145446777344, 40.26772689819336, 27.969263076782227, 76.08656311035156, 29.830463409423828, 69.26471710205078, 29.131778717041016, 32.17449951171875, 23.450977325439453, 20.3657169342041, 20.99493408203125, 23.931028366088867, 25.01188850402832, 21.609968185424805], \"Term\": [\"meme\", \"generation\", \"boomer\", \"way\", \"thing\", \"people\", \"good\", \"new\", \"gen\", \"response\", \"change\", \"man\", \"today\", \"kid\", \"life\", \"guy\", \"year\", \"great\", \"game\", \"time\", \"baby\", \"young\", \"ok\", \"old\", \"workplace\", \"pink\", \"job\", \"day\", \"millennial\", \"age\", \"topic\", \"sweet\", \"voter\", \"poll\", \"citizen\", \"education\", \"idk\", \"revolution\", \"roll\", \"yo\", \"mood\", \"establishment\", \"section\", \"myrna\", \"luck\", \"dick\", \"reaction\", \"birthday\", \"incredibly\", \"senior\", \"bs\", \"model\", \"digital\", \"story\", \"force\", \"aarp\", \"peak\", \"nfl\", \"network\", \"apart\", \"today\", \"perfect\", \"billionaire\", \"twitt\", \"word\", \"people\", \"comment\", \"school\", \"million\", \"well\", \"clearly\", \"middle\", \"time\", \"example\", \"vote\", \"video\", \"eye\", \"child\", \"old\", \"new\", \"shirt\", \"movement\", \"year\", \"millennial\", \"fact\", \"touch\", \"young\", \"boomer\", \"age\", \"good\", \"actually\", \"day\", \"pink\", \"free\", \"color\", \"trademark\", \"insurer\", \"troll\", \"play\", \"band\", \"wonder\", \"insane\", \"computer\", \"brilliant\", \"result\", \"hoodie\", \"facebook\", \"technically\", \"award\", \"acceptable\", \"dinosaur\", \"moron\", \"crazy\", \"dis\", \"coach\", \"lesson\", \"seriously\", \"live\", \"gender\", \"line\", \"suddenly\", \"good\", \"job\", \"morning\", \"fun\", \"rich\", \"advice\", \"lol\", \"hand\", \"ok\", \"not\", \"use\", \"late\", \"veteran\", \"business\", \"long\", \"boomer\", \"day\", \"right\", \"millennial\", \"little\", \"hard\", \"time\", \"dad\", \"thing\", \"response\", \"fellow\", \"birth\", \"thinking\", \"disney\", \"haha\", \"potus\", \"lawn\", \"box\", \"abigail\", \"deep\", \"image\", \"gen\", \"mess\", \"hat\", \"executive\", \"super\", \"proper\", \"art\", \"hypocrisy\", \"simply\", \"appropriate\", \"witness\", \"grandkid\", \"left\", \"dude\", \"set\", \"constantly\", \"zoomer\", \"frustration\", \"thread\", \"class\", \"respect\", \"trend\", \"candidate\", \"elder\", \"male\", \"reply\", \"song\", \"funny\", \"old\", \"young\", \"boomer\", \"bad\", \"folk\", \"people\", \"millennial\", \"right\", \"kid\", \"year\", \"person\", \"climate\", \"white\", \"generation\", \"nightmare\", \"tonight\", \"board\", \"oil\", \"customer\", \"george\", \"spot\", \"app\", \"bank\", \"fool\", \"minute\", \"popularity\", \"coffee\", \"financial\", \"stick\", \"nearly\", \"volume\", \"grandma\", \"workplace\", \"netflix\", \"flat\", \"hour\", \"available\", \"drive\", \"start\", \"lady\", \"dinner\", \"definition\", \"note\", \"crowd\", \"great\", \"meme\", \"radio\", \"nice\", \"hashtag\", \"week\", \"amazing\", \"want\", \"christmas\", \"check\", \"half\", \"music\", \"insult\", \"shit\", \"wife\", \"day\", \"early\", \"fan\", \"old\", \"online\", \"big\", \"social\", \"generation\", \"time\", \"man\", \"maybe\", \"kid\", \"millennial\", \"assistant\", \"conflict\", \"btw\", \"coverage\", \"update\", \"instagram\", \"ceo\", \"elanation\", \"equality\", \"tell\", \"fake\", \"law\", \"division\", \"massive\", \"sondland\", \"cool\", \"restaurant\", \"relevant\", \"life\", \"reminder\", \"colleague\", \"german\", \"push\", \"hot\", \"cherry\", \"site\", \"google\", \"fuckin\", \"defense\", \"account\", \"true\", \"country\", \"moment\", \"original\", \"value\", \"phrase\", \"actually\", \"probably\", \"economy\", \"literally\", \"medium\", \"don\", \"social\", \"work\", \"sorry\", \"boomer\", \"problem\", \"people\", \"thank\", \"article\", \"ok\", \"thing\", \"time\", \"millennial\", \"real\", \"mad\", \"crime\", \"hillary\", \"bunch\", \"thousand\", \"ahead\", \"ring\", \"popular\", \"television\", \"correct\", \"valid\", \"annoying\", \"shot\", \"warren\", \"piece\", \"fossil\", \"sort\", \"prison\", \"character\", \"blog\", \"dear\", \"female\", \"totally\", \"awesome\", \"progress\", \"head\", \"war\", \"order\", \"pop\", \"strong\", \"close\", \"trust\", \"talk\", \"exactly\", \"post\", \"respond\", \"need\", \"team\", \"office\", \"slur\", \"damn\", \"act\", \"apparently\", \"son\", \"point\", \"thought\", \"bullshit\", \"time\", \"boomer\", \"instead\", \"world\", \"hard\", \"parent\", \"shit\", \"twitter\", \"right\", \"house\", \"baby\", \"year\", \"group\", \"millennial\", \"today\", \"generation\", \"people\", \"drug\", \"gateway\", \"marijuana\", \"driver\", \"brain\", \"weed\", \"win\", \"stream\", \"joe\", \"participation\", \"trophy\", \"cute\", \"teacher\", \"daily\", \"jail\", \"claim\", \"feed\", \"dead\", \"legal\", \"cannabis\", \"jesus\", \"karen\", \"drop\", \"lmao\", \"meeting\", \"attempt\", \"door\", \"nominee\", \"list\", \"help\", \"man\", \"guy\", \"tweet\", \"wrong\", \"white\", \"silent\", \"generation\", \"hell\", \"hilarious\", \"anymore\", \"trump\", \"discrimination\", \"vote\", \"old\", \"support\", \"truly\", \"boomer\", \"fuck\", \"woman\", \"big\", \"right\", \"thing\", \"biden\", \"group\", \"dad\", \"shit\", \"day\", \"okay\", \"omg\", \"gay\", \"officially\", \"retirement\", \"degree\", \"somebody\", \"dog\", \"controversy\", \"warming\", \"justice\", \"global\", \"shitty\", \"sarcasm\", \"cultural\", \"finally\", \"catalyst\", \"mom\", \"tv\", \"madness\", \"living\", \"mouth\", \"marriage\", \"hope\", \"mate\", \"friend\", \"sick\", \"awful\", \"specific\", \"secret\", \"ad\", \"thing\", \"racist\", \"kid\", \"lot\", \"year\", \"generational\", \"reason\", \"sure\", \"common\", \"love\", \"political\", \"home\", \"current\", \"watch\", \"boomer\", \"person\", \"time\", \"old\", \"day\", \"sense\", \"pretty\", \"job\", \"people\", \"ok\", \"way\", \"boom\", \"game\", \"happy\", \"oklahoma\", \"grandpa\", \"science\", \"fix\", \"return\", \"lie\", \"dangerous\", \"united\", \"understanding\", \"liberal\", \"zealand\", \"end\", \"blood\", \"cut\", \"legalization\", \"taxis\", \"corporate\", \"room\", \"red\", \"general\", \"ridiculous\", \"incredible\", \"player\", \"brother\", \"tax\", \"progressive\", \"responsible\", \"idiot\", \"new\", \"president\", \"millenial\", \"land\", \"bit\", \"term\", \"age\", \"future\", \"idea\", \"viral\", \"reality\", \"state\", \"boomer\", \"phone\", \"maybe\", \"person\", \"history\", \"old\", \"internet\", \"kind\", \"adult\", \"problem\", \"ok\", \"young\", \"year\", \"world\", \"bad\", \"congratulation\", \"far\", \"uk\", \"rude\", \"language\", \"headphone\", \"round\", \"legit\", \"argo\", \"purchase\", \"responsibility\", \"info\", \"smh\", \"wisdom\", \"likely\", \"leftist\", \"way\", \"platform\", \"change\", \"earth\", \"poster\", \"shop\", \"previous\", \"everyday\", \"mean\", \"divide\", \"sentence\", \"reference\", \"baby\", \"civil\", \"lazy\", \"society\", \"generation\", \"boomer\", \"young\", \"power\", \"millennial\", \"snowflake\", \"people\", \"climate\", \"stuff\", \"meme\", \"culture\", \"old\", \"long\", \"parent\", \"american\", \"important\", \"student\", \"actually\", \"time\", \"group\"], \"Total\": [389.0, 699.0, 2648.0, 341.0, 455.0, 793.0, 327.0, 272.0, 188.0, 159.0, 264.0, 225.0, 215.0, 279.0, 156.0, 175.0, 296.0, 127.0, 92.0, 461.0, 187.0, 287.0, 278.0, 649.0, 90.0, 80.0, 107.0, 302.0, 568.0, 224.0, 18.515039443969727, 18.192419052124023, 27.22269058227539, 17.809566497802734, 15.943558692932129, 18.497440338134766, 14.40052604675293, 15.94058609008789, 13.179783821105957, 13.174168586730957, 11.637602806091309, 12.145718574523926, 11.445589065551758, 8.87414264678955, 8.872227668762207, 10.409621238708496, 16.765682220458984, 8.871480941772461, 11.593080520629883, 16.53733253479004, 11.877028465270996, 9.851959228515625, 15.564399719238281, 45.72928237915039, 11.630793571472168, 13.252439498901367, 34.50321578979492, 8.805002212524414, 9.345513343811035, 9.368945121765137, 215.14434814453125, 69.04903411865234, 26.153207778930664, 53.146480560302734, 101.34528350830078, 793.2407836914062, 84.144775390625, 53.19456100463867, 20.407777786254883, 68.19725036621094, 33.97188186645508, 44.870758056640625, 461.1382141113281, 55.29792404174805, 84.42875671386719, 53.48646926879883, 28.269306182861328, 88.54222869873047, 649.08203125, 272.56414794921875, 43.88042068481445, 56.6129150390625, 296.76934814453125, 568.3319091796875, 84.28160858154297, 36.52133560180664, 287.0583190917969, 2648.65576171875, 224.02206420898438, 327.22882080078125, 179.11126708984375, 302.4655456542969, 80.29548645019531, 75.62181854248047, 34.42038345336914, 33.90528106689453, 21.27275848388672, 27.93950080871582, 16.656932830810547, 15.236873626708984, 16.00372314453125, 11.269423484802246, 11.09209156036377, 10.793682098388672, 9.670931816101074, 10.144436836242676, 41.4029655456543, 9.197856903076172, 8.724178314208984, 10.143147468566895, 8.722256660461426, 8.249235153198242, 33.890995025634766, 6.651004791259766, 9.23136043548584, 8.701773643493652, 52.72246170043945, 43.38479995727539, 15.208833694458008, 40.986602783203125, 25.78346824645996, 327.22882080078125, 107.64330291748047, 38.28960418701172, 64.23747253417969, 81.99357604980469, 51.22950744628906, 70.54298400878906, 49.92264938354492, 278.63092041015625, 111.41651916503906, 123.94364929199219, 89.06634521484375, 34.00483322143555, 46.674774169921875, 93.4771728515625, 2648.65576171875, 302.4655456542969, 242.41180419921875, 568.3319091796875, 95.48235321044922, 105.7258071899414, 461.1382141113281, 90.8036880493164, 455.4152526855469, 159.4534454345703, 32.93147659301758, 19.811695098876953, 18.380842208862305, 58.5505485534668, 17.24658203125, 17.431703567504883, 14.861655235290527, 14.207059860229492, 32.88885498046875, 12.77472972869873, 11.820070266723633, 188.33035278320312, 13.082350730895996, 13.429080963134766, 12.777738571166992, 10.69289493560791, 10.22021770477295, 10.209847450256348, 8.778098106384277, 31.782318115234375, 35.181846618652344, 8.611173629760742, 7.17046594619751, 11.364712715148926, 27.908723831176758, 5.738184452056885, 15.895509719848633, 26.443830490112305, 12.03243637084961, 59.09650421142578, 47.31950759887695, 73.4443130493164, 76.30988311767578, 60.916542053222656, 49.146549224853516, 33.34165954589844, 45.71696090698242, 53.867225646972656, 93.83529663085938, 649.08203125, 287.0583190917969, 2648.65576171875, 145.03541564941406, 54.850460052490234, 793.2407836914062, 568.3319091796875, 242.41180419921875, 279.50439453125, 296.76934814453125, 125.1854476928711, 98.1020736694336, 151.35604858398438, 699.2642822265625, 54.44034194946289, 24.549392700195312, 19.2086124420166, 17.805898666381836, 16.335481643676758, 15.464875221252441, 14.732690811157227, 17.916982650756836, 12.59131908416748, 12.058721542358398, 24.30951690673828, 12.054978370666504, 38.2296028137207, 11.324291229248047, 10.255596160888672, 12.572912216186523, 9.721434593200684, 16.595531463623047, 90.86758422851562, 9.70947265625, 9.154745101928711, 43.820594787597656, 27.262737274169922, 6.311276435852051, 45.510921478271484, 60.12085723876953, 30.86220932006836, 23.708303451538086, 12.763163566589355, 23.007139205932617, 127.02198791503906, 389.11767578125, 27.248668670654297, 47.249183654785156, 97.79437255859375, 72.12664794921875, 30.616695404052734, 24.807884216308594, 32.80010986328125, 38.25672912597656, 33.50338363647461, 62.79549026489258, 94.1058578491211, 138.3181915283203, 38.378143310546875, 302.4655456542969, 60.624759674072266, 31.631301879882812, 649.08203125, 56.72148132324219, 93.60554504394531, 118.51446533203125, 699.2642822265625, 461.1382141113281, 225.67625427246094, 126.66980743408203, 279.50439453125, 568.3319091796875, 24.222789764404297, 19.97928810119629, 17.254697799682617, 14.718339920043945, 14.719231605529785, 14.211578369140625, 14.21131420135498, 11.479914665222168, 9.775739669799805, 9.773558616638184, 30.6536808013916, 40.56600570678711, 9.255627632141113, 11.933942794799805, 6.545087814331055, 59.35531997680664, 6.0320000648498535, 25.510175704956055, 156.9657745361328, 23.847436904907227, 27.180923461914062, 19.808738708496094, 19.78176498413086, 32.20046615600586, 50.59288787841797, 22.430641174316406, 76.93531799316406, 17.238309860229492, 11.7884521484375, 36.41555404663086, 49.18378829956055, 87.76480865478516, 88.87494659423828, 27.152149200439453, 37.47612380981445, 124.8095474243164, 179.11126708984375, 73.9530258178711, 48.28166961669922, 93.47882843017578, 105.5357437133789, 112.6392593383789, 118.51446533203125, 130.38710021972656, 42.06634521484375, 2648.65576171875, 103.6220703125, 793.2407836914062, 87.35448455810547, 60.769371032714844, 278.63092041015625, 455.4152526855469, 461.1382141113281, 568.3319091796875, 124.78404998779297, 53.791866302490234, 25.720947265625, 18.9857177734375, 22.84157943725586, 17.542930603027344, 17.36414909362793, 16.581562042236328, 16.223541259765625, 12.378401756286621, 18.320764541625977, 10.937556266784668, 10.456009864807129, 9.801025390625, 9.318056106567383, 42.47178268432617, 7.874527931213379, 8.833895683288574, 6.253021240234375, 11.77598762512207, 11.40344524383545, 24.609642028808594, 16.907588958740234, 42.075340270996094, 13.31772232055664, 6.289067268371582, 30.173494338989258, 103.60050964355469, 16.87051773071289, 13.835006713867188, 11.991399765014648, 32.0956916809082, 22.705137252807617, 58.00602722167969, 54.90935134887695, 58.41575241088867, 29.272592544555664, 44.758052825927734, 30.130985260009766, 50.33205032348633, 43.62744903564453, 43.51526641845703, 36.91399383544922, 43.189266204833984, 52.334346771240234, 103.28953552246094, 37.58582305908203, 35.008819580078125, 461.1382141113281, 2648.65576171875, 107.01779174804688, 147.30941772460938, 105.7258071899414, 157.1251220703125, 138.3181915283203, 101.23629760742188, 242.41180419921875, 51.95685958862305, 187.9094696044922, 296.76934814453125, 97.57999420166016, 568.3319091796875, 215.14434814453125, 699.2642822265625, 793.2407836914062, 72.21539306640625, 48.28844451904297, 39.37211227416992, 15.370138168334961, 22.73133659362793, 14.47541618347168, 14.153944969177246, 13.12923812866211, 21.122682571411133, 12.618526458740234, 12.61849308013916, 12.61642837524414, 23.28410530090332, 10.375933647155762, 9.351335525512695, 10.865018844604492, 8.137819290161133, 34.14563751220703, 8.132831573486328, 6.601187229156494, 10.374567031860352, 32.6065788269043, 13.596454620361328, 20.308439254760742, 12.954780578613281, 10.831857681274414, 12.820260047912598, 6.525478363037109, 24.4564208984375, 57.70110321044922, 225.67625427246094, 175.5966033935547, 104.01538848876953, 96.21538543701172, 151.35604858398438, 43.088314056396484, 699.2642822265625, 37.49685287475586, 50.847251892089844, 44.72407531738281, 106.53056335449219, 40.70734786987305, 84.42875671386719, 649.08203125, 32.794769287109375, 45.84724426269531, 2648.65576171875, 86.11524963378906, 68.70916748046875, 93.60554504394531, 242.41180419921875, 455.4152526855469, 47.12229537963867, 97.57999420166016, 90.8036880493164, 138.3181915283203, 302.4655456542969, 48.691158294677734, 18.18128776550293, 17.5614013671875, 23.01751708984375, 17.37809944152832, 14.71225643157959, 14.711270332336426, 21.515432357788086, 12.858242988586426, 12.23625659942627, 12.730864524841309, 12.052267074584961, 13.222825050354004, 11.244756698608398, 11.556463241577148, 63.561622619628906, 8.894930839538574, 78.80249786376953, 64.45808410644531, 6.910906791687012, 5.920612812042236, 5.917365074157715, 9.091361999511719, 12.656492233276367, 8.659446716308594, 69.70738983154297, 33.562625885009766, 18.43926239013672, 14.491717338562012, 19.326608657836914, 19.429336547851562, 455.4152526855469, 65.91873168945312, 279.50439453125, 109.69725799560547, 296.76934814453125, 86.23949432373047, 63.504539489746094, 89.12920379638672, 36.55080795288086, 74.08450317382812, 35.056278228759766, 71.17164611816406, 48.138671875, 32.66565704345703, 2648.65576171875, 125.1854476928711, 461.1382141113281, 649.08203125, 302.4655456542969, 44.662601470947266, 74.26347351074219, 107.64330291748047, 793.2407836914062, 278.63092041015625, 341.5760498046875, 70.20858001708984, 92.0970687866211, 34.32775115966797, 19.84662628173828, 14.436627388000488, 17.944900512695312, 12.92505168914795, 14.111790657043457, 9.21044921875, 9.212522506713867, 9.21341323852539, 9.215703010559082, 25.69392967224121, 20.44154167175293, 43.84008026123047, 7.009030342102051, 6.500285625457764, 6.001754283905029, 7.007462024688721, 11.92398452758789, 24.068925857543945, 28.018198013305664, 18.09459686279297, 25.33851432800293, 9.195404052734375, 17.822282791137695, 15.32945728302002, 29.88543701171875, 20.279666900634766, 9.547271728515625, 29.17690658569336, 272.56414794921875, 109.69607543945312, 132.80760192871094, 27.867033004760742, 57.81370544433594, 61.32728576660156, 224.02206420898438, 73.93043518066406, 67.5980453491211, 24.51958465576172, 44.841461181640625, 50.593170166015625, 2648.65576171875, 89.3561782836914, 126.66980743408203, 125.1854476928711, 40.94712448120117, 649.08203125, 54.0025634765625, 54.175697326660156, 50.09728240966797, 103.6220703125, 278.63092041015625, 287.0583190917969, 296.76934814453125, 147.30941772460938, 145.03541564941406, 66.91521453857422, 42.33241653442383, 28.29277992248535, 26.350584030151367, 22.987533569335938, 19.163747787475586, 16.709842681884766, 16.541004180908203, 15.627450942993164, 66.13377380371094, 13.631932258605957, 12.887001991271973, 12.888887405395508, 14.283891677856445, 20.299833297729492, 9.827005386352539, 341.5760498046875, 8.006693840026855, 264.7701110839844, 13.386530876159668, 10.302544593811035, 84.62702941894531, 21.29205894470215, 8.055119514465332, 22.114927291870117, 14.657960891723633, 11.388863563537598, 11.367037773132324, 187.9094696044922, 9.492366790771484, 37.348976135253906, 36.85114288330078, 699.2642822265625, 2648.65576171875, 287.0583190917969, 54.058143615722656, 568.3319091796875, 105.99759674072266, 793.2407836914062, 98.1020736694336, 59.2620849609375, 389.11767578125, 77.57041931152344, 649.08203125, 93.4771728515625, 157.1251220703125, 64.11534118652344, 41.39466094970703, 58.65646743774414, 179.11126708984375, 461.1382141113281, 97.57999420166016], \"loglift\": [30.0, 29.0, 28.0, 27.0, 26.0, 25.0, 24.0, 23.0, 22.0, 21.0, 20.0, 19.0, 18.0, 17.0, 16.0, 15.0, 14.0, 13.0, 12.0, 11.0, 10.0, 9.0, 8.0, 7.0, 6.0, 5.0, 4.0, 3.0, 2.0, 1.0, 2.247299909591675, 2.2471001148223877, 2.2437000274658203, 2.243299961090088, 2.2392001152038574, 2.233299970626831, 2.233099937438965, 2.2325000762939453, 2.2272000312805176, 2.2207000255584717, 2.2184998989105225, 2.21370005607605, 2.2130000591278076, 2.1928000450134277, 2.1898999214172363, 2.188999891281128, 2.1867001056671143, 2.182300090789795, 2.164900064468384, 2.153899908065796, 2.151900053024292, 2.1331000328063965, 2.1298999786376953, 2.108599901199341, 2.1031999588012695, 2.0696001052856445, 2.0650999546051025, 2.0625998973846436, 2.060699939727783, 2.0439000129699707, 1.982200026512146, 1.9904999732971191, 2.0239999294281006, 1.930799961090088, 1.8360999822616577, 1.4251999855041504, 1.7654999494552612, 1.833299994468689, 2.012500047683716, 1.7142000198364258, 1.8717000484466553, 1.7714999914169312, 0.932200014591217, 1.6704000234603882, 1.5022000074386597, 1.6582000255584717, 1.8954999446868896, 1.420799970626831, 0.5058000087738037, 0.7613999843597412, 1.6474000215530396, 1.5083999633789062, 0.4510999917984009, 0.031099999323487282, 1.172700047492981, 1.7249000072479248, 0.17030000686645508, -1.5717999935150146, 0.305400013923645, -0.03189999982714653, 0.4036000072956085, -0.13330000638961792, 2.209700107574463, 2.2060999870300293, 2.1884000301361084, 2.185800075531006, 2.1784000396728516, 2.1663999557495117, 2.1649999618530273, 2.1593000888824463, 2.158600091934204, 2.1377999782562256, 2.1352999210357666, 2.134399890899658, 2.123199939727783, 2.120500087738037, 2.1166999340057373, 2.1152000427246094, 2.1133999824523926, 2.1131999492645264, 2.111299991607666, 2.107300043106079, 2.0998001098632812, 2.0750999450683594, 2.047499895095825, 2.0346999168395996, 2.0179998874664307, 2.002000093460083, 1.9938000440597534, 1.9608999490737915, 1.9601000547409058, 1.9457000494003296, 1.9117000102996826, 1.9082000255584717, 1.850000023841858, 1.8193999528884888, 1.837399959564209, 1.764799952507019, 1.805400013923645, 1.4845999479293823, 1.632699966430664, 1.569100022315979, 1.6074999570846558, 1.833799958229065, 1.6771999597549438, 1.4507999420166016, 0.15790000557899475, 0.9703999757766724, 0.9891999959945679, 0.5250999927520752, 1.3379000425338745, 1.2660000324249268, 0.2809000015258789, 1.1684999465942383, -0.4146000146865845, 2.4182000160217285, 2.400599956512451, 2.388700008392334, 2.384200096130371, 2.3831000328063965, 2.38070011138916, 2.378499984741211, 2.3733999729156494, 2.3703999519348145, 2.3687000274658203, 2.3617000579833984, 2.3559999465942383, 2.35509991645813, 2.353300094604492, 2.3531999588012695, 2.351900100708008, 2.3427000045776367, 2.329400062561035, 2.325700044631958, 2.3232998847961426, 2.308199882507324, 2.3001999855041504, 2.297600030899048, 2.295300006866455, 2.295099973678589, 2.2685000896453857, 2.26419997215271, 2.2385001182556152, 2.1663999557495117, 2.1623001098632812, 2.110599994659424, 2.039799928665161, 1.9486000537872314, 1.9259999990463257, 1.9381999969482422, 1.919800043106079, 2.000499963760376, 1.895400047302246, 1.8336000442504883, 1.57669997215271, 0.6779000163078308, 0.9574999809265137, -0.048900000751018524, 1.2238999605178833, 1.6706000566482544, 0.164900004863739, 0.3248000144958496, 0.7450000047683716, 0.6547999978065491, 0.40119999647140503, 0.9347000122070312, 1.1068999767303467, 0.7465999722480774, -0.8665000200271606, 2.3589999675750732, 2.3371999263763428, 2.3294999599456787, 2.327899932861328, 2.321899890899658, 2.3173999786376953, 2.316499948501587, 2.315000057220459, 2.3043999671936035, 2.301300048828125, 2.3010001182556152, 2.300100088119507, 2.2990000247955322, 2.2964000701904297, 2.288800001144409, 2.286600112915039, 2.2834999561309814, 2.2816998958587646, 2.263400077819824, 2.263200044631958, 2.246799945831299, 2.2407000064849854, 2.2360999584198, 2.226799964904785, 2.2190001010894775, 2.2037999629974365, 2.2028000354766846, 2.19950008392334, 2.1738998889923096, 2.160599946975708, 2.14490008354187, 2.093600034713745, 2.151900053024292, 2.0875000953674316, 1.962399959564209, 1.9866000413894653, 2.1119000911712646, 2.1445000171661377, 2.0840001106262207, 2.0176000595092773, 2.0429999828338623, 1.8557000160217285, 1.6892999410629272, 1.4871000051498413, 1.9466999769210815, 1.0781999826431274, 1.6700999736785889, 1.9953999519348145, 0.13600000739097595, 1.597499966621399, 1.2568000555038452, 1.0068999528884888, -0.40119999647140503, -0.13500000536441803, 0.3601999878883362, 0.8411999940872192, 0.08950000256299973, -0.7009000182151794, 2.361999988555908, 2.354300022125244, 2.3473000526428223, 2.338200092315674, 2.3378000259399414, 2.335700035095215, 2.33489990234375, 2.313800096511841, 2.3048999309539795, 2.301500082015991, 2.27839994430542, 2.277600049972534, 2.277600049972534, 2.273900032043457, 2.253200054168701, 2.2388999462127686, 2.235300064086914, 2.2191998958587646, 2.2167999744415283, 2.199700117111206, 2.1851999759674072, 2.177799940109253, 2.1521999835968018, 2.1328999996185303, 2.123500108718872, 2.122499942779541, 2.108799934387207, 2.093600034713745, 2.0929999351501465, 2.088599920272827, 2.0583999156951904, 2.0390000343322754, 1.9839999675750732, 2.0613999366760254, 2.0035998821258545, 1.7502000331878662, 1.649899959564209, 1.830199956893921, 1.903499960899353, 1.7110999822616577, 1.6324000358581543, 1.6044000387191772, 1.56659996509552, 1.4984999895095825, 1.913100004196167, -0.15299999713897705, 1.3991999626159668, 0.1023000031709671, 1.3885999917984009, 1.5987000465393066, 0.415800005197525, -0.00800000037997961, -0.04439999908208847, -0.49050000309944153, 0.8102999925613403, 2.319200038909912, 2.3101000785827637, 2.3055999279022217, 2.303299903869629, 2.3024001121520996, 2.300600051879883, 2.2987000942230225, 2.296299934387207, 2.2785000801086426, 2.2776999473571777, 2.2692999839782715, 2.2655999660491943, 2.2506000995635986, 2.2490999698638916, 2.245699882507324, 2.2334001064300537, 2.2291998863220215, 2.2005999088287354, 2.1823999881744385, 2.1791000366210938, 2.1229000091552734, 2.1003000736236572, 2.079400062561035, 2.065000057220459, 2.0608999729156494, 2.058500051498413, 2.0418999195098877, 2.0406999588012695, 2.016200065612793, 2.013000011444092, 2.0072999000549316, 2.0044000148773193, 1.9562000036239624, 1.950700044631958, 1.9254000186920166, 1.986799955368042, 1.9158999919891357, 1.9707000255584717, 1.8624000549316406, 1.8854000568389893, 1.8783999681472778, 1.8961999416351318, 1.820199966430664, 1.7558000087738037, 1.5292999744415283, 1.8454999923706055, 1.865399956703186, 0.7373999953269958, -0.12020000070333481, 1.3626999855041504, 1.156599998474121, 1.204699993133545, 0.9555000066757202, 0.9670000076293945, 1.1704000234603882, 0.5170999765396118, 1.5813000202178955, 0.6089000105857849, 0.19779999554157257, 1.0527000427246094, -0.4684999883174896, 0.3100000023841858, -0.7716000080108643, -0.9366000294685364, 2.323499917984009, 2.3201000690460205, 2.305000066757202, 2.282599925994873, 2.279599905014038, 2.276900053024292, 2.2751998901367188, 2.2716000080108643, 2.271199941635132, 2.2690999507904053, 2.2690999507904053, 2.2681000232696533, 2.2565999031066895, 2.242799997329712, 2.239000082015991, 2.234800100326538, 2.226099967956543, 2.2088000774383545, 2.2042999267578125, 2.1986000537872314, 2.1937999725341797, 2.187000036239624, 2.1842000484466553, 2.167799949645996, 2.147700071334839, 2.0848000049591064, 2.08270001411438, 2.08240008354187, 2.078000068664551, 2.074199914932251, 2.05430006980896, 2.050299882888794, 1.9987000226974487, 1.9010000228881836, 1.8436000347137451, 1.9263999462127686, 1.3114999532699585, 1.9249000549316406, 1.826300024986267, 1.8519999980926514, 1.5285999774932861, 1.7659000158309937, 1.4150999784469604, 0.4875999987125397, 1.8238999843597412, 1.660099983215332, -0.4846999943256378, 1.309000015258789, 1.4194999933242798, 1.219499945640564, 0.5315999984741211, 0.07609999924898148, 1.6022000312805176, 0.9422000050544739, 1.0, 0.5752000212669373, -0.22669999301433563, 2.283600091934204, 2.260699987411499, 2.2588000297546387, 2.2583000659942627, 2.2472000122070312, 2.2472000122070312, 2.246299982070923, 2.24429988861084, 2.239300012588501, 2.2367000579833984, 2.236599922180176, 2.2334001064300537, 2.2332000732421875, 2.2302000522613525, 2.229099988937378, 2.2279000282287598, 2.20740008354187, 2.2004001140594482, 2.1953001022338867, 2.1738998889923096, 2.1507999897003174, 2.135999917984009, 2.0620999336242676, 2.056999921798706, 2.0560998916625977, 2.0457000732421875, 2.0455000400543213, 2.034600019454956, 2.007999897003174, 2.0034000873565674, 1.996500015258789, 1.840000033378601, 1.9342999458312988, 1.7538000345230103, 1.7238999605178833, 1.5276999473571777, 1.7148000001907349, 1.7556999921798706, 1.6777000427246094, 1.8646999597549438, 1.6820000410079956, 1.867300033569336, 1.6361000537872314, 1.677899956703186, 1.8062000274658203, -0.18860000371932983, 1.1500999927520752, 0.48019999265670776, 0.25270000100135803, 0.5921000242233276, 1.6208000183105469, 1.2491999864578247, 0.9289000034332275, -0.6305000185966492, 0.12330000102519989, -0.17059999704360962, 2.3413000106811523, 2.3278000354766846, 2.324700117111206, 2.303100109100342, 2.2920000553131104, 2.291800022125244, 2.28439998626709, 2.2588000297546387, 2.252500057220459, 2.25219988822937, 2.2493999004364014, 2.2474000453948975, 2.2298998832702637, 2.2283999919891357, 2.2209999561309814, 2.2121999263763428, 2.1988000869750977, 2.1965999603271484, 2.1963000297546387, 2.1914000511169434, 2.187299966812134, 2.1579999923706055, 2.1563000679016113, 2.1386001110076904, 2.1214001178741455, 2.0848000049591064, 2.069999933242798, 2.066800117492676, 2.0606000423431396, 2.0510001182556152, 2.0487000942230225, 1.998900055885315, 1.9356000423431396, 1.8825000524520874, 2.0248000621795654, 1.917799949645996, 1.8918999433517456, 1.6454999446868896, 1.8178999423980713, 1.761199951171875, 1.9825999736785889, 1.7574000358581543, 1.7079999446868896, 0.17080000042915344, 1.4904999732971191, 1.3348000049591064, 1.2493000030517578, 1.75409996509552, 0.17679999768733978, 1.5602999925613403, 1.5575000047683716, 1.56659996509552, 0.9818999767303467, 0.1137000024318695, 0.05570000037550926, 0.024700000882148743, 0.5834000110626221, 0.4932999908924103, 1.992300033569336, 1.982699990272522, 1.9737999439239502, 1.970900058746338, 1.964900016784668, 1.9572999477386475, 1.9508999586105347, 1.948799967765808, 1.9478000402450562, 1.9443999528884888, 1.9375, 1.934999942779541, 1.9341000318527222, 1.9158999919891357, 1.9007999897003174, 1.8969000577926636, 1.886199951171875, 1.8619999885559082, 1.8543000221252441, 1.8395999670028687, 1.8351000547409058, 1.8305000066757202, 1.7990000247955322, 1.7933000326156616, 1.707900047302246, 1.6927000284194946, 1.6581000089645386, 1.6363999843597412, 1.6348999738693237, 1.624400019645691, 1.5815000534057617, 1.5404000282287598, 1.2556999921798706, 0.9613000154495239, 1.2137000560760498, 1.4809999465942383, 1.0322999954223633, 1.3078999519348145, 0.541100025177002, 1.1152000427246094, 1.2547999620437622, 0.37369999289512634, 1.0499999523162842, -0.23190000653266907, 0.8398000001907349, 0.4198000133037567, 0.9998999834060669, 1.2963999509811401, 0.9782999753952026, -0.0071000000461936, -0.9086999893188477, 0.498199999332428], \"logprob\": [30.0, 29.0, 28.0, 27.0, 26.0, 25.0, 24.0, 23.0, 22.0, 21.0, 20.0, 19.0, 18.0, 17.0, 16.0, 15.0, 14.0, 13.0, 12.0, 11.0, 10.0, 9.0, 8.0, 7.0, 6.0, 5.0, 4.0, 3.0, 2.0, 1.0, -5.417500019073486, -5.435299873352051, -5.035699844360352, -5.460400104522705, -5.575200080871582, -5.432400226593018, -5.68310022354126, -5.582099914550781, -5.777500152587891, -5.7845001220703125, -5.910699844360352, -5.872799873352051, -5.932799816131592, -6.207399845123291, -6.210599899291992, -6.051700115203857, -5.577400207519531, -6.218299865722656, -5.968100070953369, -5.623899936676025, -5.956900119781494, -6.162700176239014, -5.708600044250488, -4.652100086212158, -6.026500225067139, -5.929699897766113, -4.97730016708374, -6.3454999923706055, -6.287799835205078, -6.30210018157959, -3.2298998832702637, -4.358099937438965, -5.295400142669678, -4.679599761962891, -4.128799915313721, -2.482100009918213, -4.38539981842041, -4.776199817657471, -5.554999828338623, -4.6468000411987305, -5.186200141906738, -5.008200168609619, -3.5176000595092773, -4.900300025939941, -4.645299911499023, -4.945799827575684, -5.346099853515625, -4.679100036621094, -3.602099895477295, -4.214099884033203, -5.1545000076293945, -5.038700103759766, -4.4394001960754395, -4.20959997177124, -4.976600170135498, -5.2606000900268555, -4.753499984741211, -4.273399829864502, -4.866199970245361, -4.824699878692627, -4.991799831390381, -5.004799842834473, -3.98799991607666, -4.051599979400635, -4.856299877166748, -4.874000072479248, -5.347499847412109, -5.086999893188477, -5.605599880218506, -5.700399875640869, -5.6519999504089355, -6.023600101470947, -6.041900157928467, -6.070099830627441, -6.191100120544434, -6.145999908447266, -4.743299961090088, -6.249300003051758, -6.303899765014648, -6.15339994430542, -6.306300163269043, -6.366000175476074, -4.960400104522705, -6.61359977722168, -6.313300132751465, -6.385200023651123, -4.600399971008301, -4.811299800872803, -5.867800235748291, -4.909299850463867, -5.373600006103516, -2.8469998836517334, -3.9928998947143555, -5.03000020980835, -4.570799827575684, -4.3572998046875, -4.809700012207031, -4.562399864196777, -4.867499828338623, -3.468899965286255, -4.237400054931641, -4.194499969482422, -4.486499786376953, -5.223100185394287, -5.063000202178955, -4.594900131225586, -2.5436999797821045, -3.901099920272827, -4.103499889373779, -3.71560001373291, -4.686600208282471, -4.656599998474121, -4.168799877166748, -4.906199932098389, -4.876800060272217, -3.093400001525879, -4.688399791717529, -5.208499908447266, -5.287899971008301, -4.130499839782715, -5.355100154876709, -5.34660005569458, -5.511199951171875, -5.559299945831299, -4.72160005569458, -5.674200057983398, -5.757599830627441, -2.9902000427246094, -5.65880012512207, -5.632800102233887, -5.683800220489502, -5.871200084686279, -5.929699897766113, -5.9344000816345215, -6.087900161743164, -4.816299915313721, -4.722700119018555, -6.132800102233887, -6.31820011138916, -5.857800006866455, -4.985899925231934, -6.572000026702881, -5.57889986038208, -5.142000198364258, -5.933499813079834, -4.393599987030029, -4.686699867248535, -4.338200092315674, -4.3225998878479, -4.535699844360352, -4.768799781799316, -5.076099872589111, -4.865600109100342, -4.763299942016602, -4.465199947357178, -3.430000066757202, -3.9663000106811523, -2.750499963760376, -4.382500171661377, -4.908199787139893, -3.7423999309539795, -3.9158999919891357, -4.347799777984619, -4.295599937438965, -4.489299774169922, -4.818999767303467, -4.890500068664551, -4.817200183868408, -4.899899959564209, -4.22730016708374, -5.045499801635742, -5.298600196838379, -5.375999927520752, -5.468100070953369, -5.527500152587891, -5.576900005340576, -5.382699966430664, -5.745999813079834, -5.792399883270264, -5.0914998054504395, -5.793799877166748, -4.6407999992370605, -5.860000133514404, -5.966800212860107, -5.7652997970581055, -6.025599956512451, -5.492599964141846, -3.8106000423431396, -6.047100067138672, -6.122399806976318, -4.562600135803223, -5.041800022125244, -6.5142998695373535, -4.54640007019043, -4.283299922943115, -4.951099872589111, -5.218100070953369, -5.8628997802734375, -5.2870001792907715, -3.594099998474121, -2.525899887084961, -5.126500129699707, -4.640399932861328, -4.0381999015808105, -4.318399906158447, -5.049900054931641, -5.227799892425537, -5.008900165557861, -4.921500205993652, -5.028800010681152, -4.587800025939941, -4.349699974060059, -4.1666998863220215, -4.989200115203857, -3.793299913406372, -4.808700084686279, -5.133800029754639, -3.97189998626709, -4.947700023651123, -4.787499904632568, -4.801499843597412, -4.434599876403809, -4.584700107574463, -4.804100036621094, -4.900599956512451, -4.860899925231934, -4.9415998458862305, -5.03410005569458, -5.234399795532227, -5.3881001472473145, -5.556099891662598, -5.55649995803833, -5.593599796295166, -5.594399929046631, -5.828999996185303, -5.998600006103516, -6.002200126647949, -4.882299900054932, -4.60290002822876, -6.080599784851074, -5.830100059509277, -6.451499938964844, -4.260900020599365, -6.55109977722168, -5.125100135803223, -3.3106000423431396, -5.212100028991699, -5.095699787139893, -5.41949987411499, -5.446400165557861, -4.978499889373779, -4.536099910736084, -5.350500106811523, -4.131700038909912, -5.6427001953125, -6.0233001708984375, -4.899799823760986, -4.629499912261963, -4.069699764251709, -4.112100124359131, -5.2204999923706055, -4.956099987030029, -4.006400108337402, -3.745500087738037, -4.449699878692627, -4.802800178527832, -4.33459997177124, -4.291999816894531, -4.254799842834473, -4.241799831390381, -4.214399814605713, -4.931000232696533, -2.8547000885009766, -4.543499946594238, -3.8048999309539795, -4.724800109863281, -4.877699851989746, -4.537799835205078, -4.470300197601318, -4.494200229644775, -4.731299877166748, -4.946599960327148, -4.279099941253662, -5.026000022888184, -5.334099769592285, -5.151500225067139, -5.416399955749512, -5.428500175476074, -5.476399898529053, -5.5005998611450195, -5.789000034332275, -5.39769983291626, -5.921899795532227, -5.970699787139893, -6.050300121307373, -6.102399826049805, -4.588900089263916, -6.286300182342529, -6.1757001876831055, -6.549699783325195, -5.934999942779541, -5.970399856567383, -5.257400035858154, -5.655399799346924, -4.764500141143799, -5.9293999671936035, -6.683700084686279, -5.1178998947143555, -3.9010000228881836, -5.717199802398682, -5.940000057220459, -6.08620023727417, -5.107399940490723, -5.456399917602539, -4.566699981689453, -4.626999855041504, -4.590400218963623, -5.219900131225586, -4.866199970245361, -5.207099914550781, -4.8024001121521, -4.922299861907959, -4.9319000244140625, -5.078700065612793, -4.997600078582764, -4.869900226593018, -4.416600227355957, -5.111299991607666, -5.162399768829346, -3.7123000621795654, -2.8217999935150146, -4.547699928283691, -4.434299945831299, -4.717899799346924, -4.570799827575684, -4.686800003051758, -4.795599937438965, -4.575699806213379, -5.051700115203857, -4.73859977722168, -4.692599773406982, -4.949999809265137, -4.709199905395508, -4.902100086212158, -4.804999828338623, -4.843900203704834, -3.980299949645996, -4.386099815368652, -4.605400085449219, -5.568399906158447, -5.180099964141846, -5.634099960327148, -5.658199787139893, -5.736999988555908, -5.261899948120117, -5.779099941253662, -5.779200077056885, -5.780300140380859, -5.179100036621094, -6.001100063323975, -6.10890007019043, -5.9629998207092285, -6.260799884796143, -4.843999862670898, -6.283199787139893, -6.497499942779541, -6.05019998550415, -4.911900043487549, -5.789400100708008, -5.404600143432617, -5.874199867248535, -6.116099834442139, -5.949699878692627, -6.62529993057251, -5.308599948883057, -4.453999996185303, -3.109999895095825, -3.3649001121520996, -3.940200090408325, -4.115799903869629, -3.7202000617980957, -4.893700122833252, -2.72189998626709, -5.034200191497803, -4.8282999992370605, -4.9309000968933105, -4.38640022277832, -5.111100196838379, -4.732399940490723, -3.620300054550171, -5.269199848175049, -5.0980000495910645, -3.186300039291382, -4.818699836730957, -4.934000015258789, -4.824900150299072, -4.561100006103516, -4.386099815368652, -5.128399848937988, -5.060500144958496, -5.074699878692627, -5.07859992980957, -5.098199844360352, -4.414299964904785, -5.422299861907959, -5.458899974822998, -5.188899993896484, -5.480999946594238, -5.647600173950195, -5.648499965667725, -5.270299911499023, -5.79010009765625, -5.842299938201904, -5.802800178527832, -5.8607001304626465, -5.7683000564575195, -5.9334001541137695, -5.907100200653076, -4.203499794006348, -6.1905999183654785, -4.015999794006348, -4.222099781036377, -6.476399898529053, -6.654200077056885, -6.66949987411499, -6.313899993896484, -5.98829984664917, -6.36870002746582, -4.293399810791016, -5.024499893188477, -5.634399890899658, -5.901899814605713, -5.618500232696533, -5.620100021362305, -2.6222000122070312, -4.460700035095215, -3.1965999603271484, -4.161799907684326, -3.3626999855041504, -4.411499977111816, -4.676599979400635, -4.415599822998047, -5.119999885559082, -4.596199989318848, -5.159200191497803, -4.682199954986572, -5.031400203704834, -5.290900230407715, -2.890199899673462, -4.603600025177002, -3.9695000648498535, -3.8552000522613525, -4.279300212860107, -5.163400173187256, -5.026599884033203, -4.975599765777588, -4.537799835205078, -4.8302998542785645, -4.920400142669678, -3.990600109100342, -3.732800006866455, -4.722799777984619, -5.292300224304199, -5.621600151062012, -5.404300212860107, -5.7399001121521, -5.677599906921387, -6.110599994659424, -6.1107001304626465, -6.11329984664917, -6.115099906921387, -5.1072998046875, -5.337399959564209, -4.581900119781494, -6.423999786376953, -6.512800216674805, -6.594799995422363, -6.440100193023682, -5.91349983215332, -5.215199947357178, -5.09250020980835, -5.531499862670898, -5.212500095367432, -6.243299961090088, -5.618199825286865, -5.783599853515625, -5.119200229644775, -5.513199806213379, -6.276199817657471, -5.161300182342529, -2.9767000675201416, -3.9500999450683594, -3.8120999336242676, -5.231200218200684, -4.608399868011475, -4.575200080871582, -3.52620005607605, -4.462399959564209, -4.608699798583984, -5.401299953460693, -5.022900104522705, -4.951600074768066, -2.5308001041412354, -4.600299835205078, -4.407100200653076, -4.504300117492676, -5.117000102996826, -3.9310998916625977, -5.03410005569458, -5.033699989318848, -5.10290002822876, -4.9608001708984375, -4.839799880981445, -4.868000030517578, -4.865799903869629, -5.007500171661377, -5.1132001876831055, -4.387700080871582, -4.855199813842773, -5.267000198364258, -5.341000080108643, -5.48360013961792, -5.673099994659424, -5.816500186920166, -5.828700065612793, -5.886600017547607, -4.447299957275391, -6.0335001945495605, -6.092199802398682, -6.0929999351501465, -6.008399963378906, -5.671999931335449, -6.401400089263916, -2.863600015640259, -6.641200065612793, -3.1503000259399414, -6.149600028991699, -6.415999889373779, -4.314599990844727, -5.726099967956543, -6.703800201416016, -5.779200077056885, -6.205699920654297, -6.492700099945068, -6.516300201416016, -3.712599992752075, -6.708499908447266, -5.3815999031066895, -5.436100006103516, -2.7776999473571777, -1.7403000593185425, -3.710099935531616, -5.112299919128418, -3.2084999084472656, -4.612100124359131, -3.3661999702453613, -4.882199764251709, -5.246600151062012, -4.2459001541137695, -5.182199954986572, -4.339799880981445, -5.205900192260742, -5.106599807739258, -5.422800064086914, -5.563899993896484, -5.533400058746338, -5.402599811553955, -5.358399868011475, -5.5046000480651855]}, \"token.table\": {\"Topic\": [1, 9, 3, 7, 2, 2, 5, 8, 2, 6, 7, 9, 1, 2, 3, 4, 5, 7, 8, 9, 10, 8, 9, 1, 2, 3, 4, 9, 10, 2, 4, 7, 8, 10, 1, 2, 3, 4, 5, 6, 7, 9, 10, 6, 3, 4, 1, 3, 5, 6, 9, 10, 6, 1, 3, 6, 7, 1, 5, 4, 1, 6, 7, 10, 3, 6, 10, 3, 1, 3, 5, 6, 8, 10, 5, 7, 8, 2, 4, 7, 2, 4, 6, 9, 6, 8, 2, 3, 6, 7, 9, 10, 1, 3, 4, 5, 6, 8, 9, 10, 2, 4, 3, 6, 7, 3, 4, 6, 7, 8, 9, 1, 2, 3, 1, 6, 7, 9, 2, 6, 9, 4, 9, 1, 2, 3, 4, 5, 6, 7, 8, 9, 10, 3, 1, 7, 2, 9, 10, 1, 10, 5, 1, 6, 9, 6, 2, 4, 1, 2, 3, 4, 7, 7, 8, 5, 3, 4, 6, 7, 10, 1, 6, 4, 7, 9, 2, 3, 5, 7, 1, 2, 4, 6, 7, 8, 9, 4, 8, 10, 1, 6, 8, 10, 7, 1, 3, 1, 2, 7, 3, 4, 6, 7, 10, 1, 6, 2, 9, 4, 8, 5, 7, 2, 1, 2, 3, 4, 5, 8, 9, 2, 5, 10, 3, 6, 7, 8, 1, 3, 5, 5, 9, 3, 6, 5, 6, 10, 5, 2, 8, 6, 1, 4, 8, 1, 6, 7, 8, 9, 10, 1, 3, 4, 6, 8, 4, 9, 7, 2, 5, 7, 8, 9, 7, 2, 6, 9, 1, 2, 4, 5, 6, 7, 8, 9, 3, 7, 2, 3, 6, 8, 3, 5, 9, 4, 10, 8, 1, 1, 10, 1, 4, 9, 2, 2, 2, 5, 6, 7, 3, 4, 7, 5, 8, 10, 5, 8, 1, 2, 3, 5, 7, 6, 7, 4, 7, 6, 7, 9, 7, 2, 3, 4, 7, 8, 10, 2, 10, 2, 5, 6, 8, 10, 1, 5, 1, 3, 10, 7, 9, 5, 1, 1, 10, 5, 6, 7, 8, 1, 2, 5, 7, 9, 10, 3, 1, 2, 2, 10, 1, 2, 3, 5, 7, 8, 9, 10, 1, 5, 2, 4, 9, 10, 7, 3, 6, 10, 4, 7, 8, 4, 9, 4, 2, 3, 6, 8, 9, 4, 1, 7, 6, 2, 7, 8, 9, 10, 3, 4, 2, 3, 5, 6, 7, 5, 6, 2, 3, 4, 8, 10, 2, 3, 4, 6, 8, 9, 2, 3, 5, 9, 10, 6, 9, 7, 8, 3, 4, 8, 10, 2, 7, 9, 10, 1, 3, 4, 6, 7, 8, 9, 10, 1, 4, 6, 7, 8, 10, 4, 5, 6, 8, 1, 2, 4, 6, 7, 8, 10, 2, 5, 8, 3, 2, 4, 9, 1, 3, 4, 10, 1, 3, 6, 7, 8, 9, 10, 1, 2, 3, 4, 6, 7, 8, 9, 3, 1, 4, 2, 9, 9, 1, 2, 5, 6, 7, 9, 10, 3, 4, 5, 10, 3, 1, 6, 7, 10, 1, 2, 4, 7, 4, 7, 8, 10, 4, 7, 9, 10, 6, 6, 8, 9, 10, 2, 6, 8, 9, 2, 4, 5, 8, 5, 6, 4, 8, 2, 3, 6, 7, 8, 3, 1, 3, 5, 6, 7, 9, 10, 8, 9, 1, 3, 2, 4, 6, 7, 10, 8, 9, 1, 2, 10, 2, 5, 1, 3, 5, 6, 8, 9, 10, 1, 2, 4, 5, 7, 8, 10, 2, 2, 8, 9, 10, 7, 7, 2, 8, 10, 7, 9, 8, 4, 7, 1, 2, 3, 4, 5, 7, 8, 9, 10, 1, 2, 3, 8, 9, 4, 7, 4, 9, 10, 2, 3, 4, 7, 9, 10, 1, 5, 3, 2, 8, 10, 3, 8, 10, 7, 9, 10, 2, 10, 5, 9, 9, 1, 2, 4, 5, 6, 7, 8, 10, 5, 10, 2, 3, 4, 5, 7, 4, 7, 1, 3, 4, 5, 7, 2, 3, 4, 7, 8, 9, 2, 5, 7, 8, 1, 7, 2, 5, 7, 8, 1, 2, 3, 5, 10, 3, 5, 7, 8, 9, 4, 5, 7, 8, 9, 10, 1, 4, 6, 8, 3, 5, 6, 1, 4, 6, 7, 8, 7, 8, 9, 5, 10, 4, 8, 1, 3, 4, 6, 7, 9, 8, 10, 1, 3, 4, 5, 6, 10, 1, 7, 1, 2, 4, 5, 7, 9, 10, 3, 1, 2, 4, 7, 1, 3, 5, 7, 9, 10, 1, 2, 3, 4, 5, 6, 7, 8, 9, 10, 1, 2, 4, 7, 1, 2, 1, 2, 4, 8, 1, 5, 7, 8, 1, 2, 9, 2, 8, 1, 2, 4, 10, 1, 4, 6, 9, 10, 1, 4, 2, 3, 5, 6, 8, 4, 1, 8, 1, 2, 5, 7, 8, 9, 10, 1, 6, 3, 4, 7, 4, 7, 10, 1, 2, 3, 4, 7, 8, 9, 4, 6, 6, 9, 10, 8, 4, 1, 2, 3, 5, 6, 7, 8, 9, 10, 8, 9, 1, 2, 3, 4, 5, 6, 7, 8, 9, 10, 8, 2, 4, 5, 6, 7, 8, 6, 9, 5, 6, 7, 8, 1, 2, 4, 6, 7, 8, 10, 7, 1, 2, 1, 2, 3, 4, 5, 6, 7, 8, 9, 10, 1, 4, 8, 1, 3, 8, 9, 10, 4, 5, 6, 7, 9, 1, 2, 3, 5, 6, 7, 9, 10, 6, 10, 2, 10, 2, 9, 10, 1, 3, 4, 6, 9, 10, 1, 3, 8, 9, 1, 6, 10, 6, 4, 2, 5, 6, 6, 10, 3, 4, 8, 9, 10, 1, 2, 3, 4, 6, 9, 2, 3, 5, 6, 8, 10, 3, 10, 6, 3, 5, 7, 8, 9, 1, 3, 5, 8, 9, 10, 6, 7, 5, 9, 10, 3, 3, 10, 5, 10, 5, 6, 8, 1, 4, 1, 5, 1, 2, 3, 4, 5, 6, 8, 10, 4, 5, 9, 3, 4, 8, 10, 4, 9, 6, 9, 10, 2, 5, 5, 10, 1, 2, 3, 7, 8, 10, 2, 3, 7, 8, 10, 3, 5, 6, 10, 3, 7, 10, 9, 10, 5, 2, 8, 9, 1, 2, 3, 5, 6, 1, 9, 1, 2, 3, 5, 6, 7, 8, 9, 10, 6, 1, 6, 9, 10, 10, 8, 1, 2, 4, 6, 8, 9, 5, 8, 1, 1, 8, 3, 7, 8, 9, 5, 8, 10, 2, 4, 8, 3, 1, 2, 4, 5, 1, 2, 4, 5, 6, 7, 10, 8, 2, 4, 10, 6, 8, 10, 3, 5, 7, 10, 2, 3, 4, 5, 6, 9, 10, 10, 2, 3, 4, 6, 8, 10, 2, 3, 4, 5, 6, 7, 8, 9, 1, 8, 9, 10, 8, 1, 3, 5, 6, 10, 5, 1, 3, 4, 8, 9, 3, 5, 7, 10, 6, 1, 8, 4, 4, 5, 6, 1, 2, 5, 7, 9, 4, 1, 7, 10, 7, 2, 6, 1, 2, 3, 9, 10, 2, 5, 6, 8, 10, 2, 6, 3, 1, 2, 7, 1, 2, 3, 4, 6, 7, 8, 9, 10, 1, 1, 6, 10, 7, 9, 9, 4, 7, 1, 2, 6, 10, 2, 6, 5, 7, 9, 10, 1, 2, 4, 5, 6, 9, 2, 4, 5, 6, 7, 8, 9, 10, 3, 3, 5, 6, 6, 1, 2, 3, 1, 2, 3, 4, 5, 6, 8, 10, 1, 2, 6, 7, 9, 4, 1, 6, 7, 1, 3, 4, 7, 9, 10, 2, 3, 5, 8, 9, 2, 9, 7, 5, 6, 9, 6, 7, 8, 9, 1, 3, 6, 7, 8, 9, 10, 6, 10, 2, 3, 8, 10, 1, 2, 3, 7, 8, 9, 1, 2, 4, 1, 2, 5, 6, 7, 8, 10, 9, 9, 5, 1, 2, 5, 6, 8, 9, 10, 6, 3, 5, 8, 10, 2, 3, 5, 1, 4, 8, 9, 9, 10, 4, 1, 2, 5, 7, 1, 3, 4, 6, 4, 6, 8, 8, 6, 6, 8, 9, 4, 7, 8, 10, 7, 4, 5, 6, 8, 10, 1, 5, 6, 9, 1, 2, 3, 4, 5, 6, 7, 8, 9, 4, 6, 7, 10, 3, 1, 2, 4, 5, 6, 7, 9, 2, 1, 2, 3, 4, 5, 8, 10, 1, 2, 3, 4, 5, 6, 7, 8, 9, 10, 2, 4, 6, 9, 1, 2, 3, 5, 6, 9, 10, 3, 7, 8, 1, 2, 3, 4, 6, 7, 8, 9, 10, 1, 1, 3, 4, 7, 9, 10, 2, 9, 3, 10], \"Freq\": [0.8300358653068542, 0.15091560781002045, 0.9425685405731201, 0.03040543757379055, 0.8872985243797302, 0.08238238096237183, 0.7414414286613464, 0.16476476192474365, 0.10835999250411987, 0.6230699419975281, 0.10835999250411987, 0.13544999063014984, 0.15074428915977478, 0.08374682813882828, 0.005583121906965971, 0.0669974610209465, 0.4745653569698334, 0.0669974610209465, 0.005583121906965971, 0.005583121906965971, 0.133994922041893, 0.72055983543396, 0.2058742493391037, 0.1197669729590416, 0.0998058095574379, 0.0798446536064148, 0.1796504706144333, 0.4591067433357239, 0.0798446536064148, 0.6832000017166138, 0.019519999623298645, 0.19519999623298645, 0.07807999849319458, 0.019519999623298645, 0.13837923109531403, 0.044638458639383316, 0.03124692291021347, 0.08034922927618027, 0.004463845863938332, 0.0982046127319336, 0.02678307704627514, 0.49102306365966797, 0.08927691727876663, 0.9214387536048889, 0.1959715038537979, 0.7512241005897522, 0.10917823761701584, 0.07798445224761963, 0.03119378164410591, 0.23395337164402008, 0.17156580090522766, 0.3587284982204437, 0.9563877582550049, 0.13415592908859253, 0.08943729102611542, 0.13415592908859253, 0.6037017107009888, 0.7471492290496826, 0.10673560202121735, 0.9488204717636108, 0.18523120880126953, 0.5788475275039673, 0.13892340660095215, 0.06946170330047607, 0.8811362385749817, 0.08527124673128128, 0.9598494172096252, 0.8815019130706787, 0.09873394668102264, 0.01645565778017044, 0.4443027675151825, 0.09873394668102264, 0.1974678933620453, 0.13164526224136353, 0.9495190382003784, 0.7385621666908264, 0.1846405416727066, 0.03668010234832764, 0.8803224563598633, 0.07336020469665527, 0.9169918298721313, 0.07508791238069534, 0.750879168510437, 0.15017582476139069, 0.2169284224510193, 0.7592494487762451, 0.026608558371663094, 0.021286847069859505, 0.17561648786067963, 0.005321711767464876, 0.07982567697763443, 0.6918225288391113, 0.1310024857521057, 0.29647931456565857, 0.034474339336156845, 0.16547682881355286, 0.15168708562850952, 0.04826407507061958, 0.1585819572210312, 0.013789735734462738, 0.9188236594200134, 0.9530375599861145, 0.38198480010032654, 0.10610688477754593, 0.48809167742729187, 0.09614814817905426, 0.3311769664287567, 0.05341563746333122, 0.3204938471317291, 0.09614814817905426, 0.09614814817905426, 0.7647245526313782, 0.19118113815784454, 0.959029495716095, 0.9017660021781921, 0.08648468554019928, 0.25945404171943665, 0.6399866342544556, 0.08769279718399048, 0.8769279718399048, 0.856038510799408, 0.937079668045044, 0.9827858805656433, 0.02076525054872036, 0.12685680389404297, 0.08343855291604996, 0.0007550999871455133, 0.07777529954910278, 0.084193654358387, 0.05927535146474838, 0.08192835003137589, 0.11250989884138107, 0.3518766164779663, 0.9150380492210388, 0.04399213194847107, 0.9238348007202148, 0.9264678955078125, 0.7828065752983093, 0.19570164382457733, 0.8419614434242249, 0.08419614285230637, 0.9272837042808533, 0.02856423147022724, 0.5998488664627075, 0.3427707552909851, 0.9631558060646057, 0.5784709453582764, 0.40707212686538696, 0.08207951486110687, 0.13132721185684204, 0.6073883771896362, 0.016415901482105255, 0.13132721185684204, 0.9089273810386658, 0.8993886709213257, 0.9147641062736511, 0.04909919574856758, 0.02266116812825203, 0.0037768613547086716, 0.06420664489269257, 0.8611243963241577, 0.0849185660481453, 0.8491856455802917, 0.7057582139968872, 0.10455676913261414, 0.18297435343265533, 0.07906249910593033, 0.07906249910593033, 0.7510936856269836, 0.0592968724668026, 0.41787970066070557, 0.1129404604434967, 0.0225880928337574, 0.0903523713350296, 0.0903523713350296, 0.1129404604434967, 0.16941069066524506, 0.7317048907279968, 0.12195081263780594, 0.0914631113409996, 0.9408187866210938, 0.10534780472517014, 0.10534780472517014, 0.6320868134498596, 0.92038494348526, 0.29586106538772583, 0.6762538552284241, 0.6475943922996521, 0.05887221544981003, 0.2649249732494354, 0.2650300860404968, 0.050967320799827576, 0.050967320799827576, 0.21406275033950806, 0.4077385663986206, 0.2804114818572998, 0.7166070938110352, 0.8666111826896667, 0.10832639783620834, 0.9155209064483643, 0.05231548100709915, 0.80939120054245, 0.1471620351076126, 0.9587342143058777, 0.5823296904563904, 0.17826418578624725, 0.21391703188419342, 0.011884279549121857, 0.13679587841033936, 0.6292610764503479, 0.21887341141700745, 0.9015432000160217, 0.9509848356246948, 0.9863227605819702, 0.8178410530090332, 0.06291084736585617, 0.06291084736585617, 0.9332534670829773, 0.06739075481891632, 0.06739075481891632, 0.8592321872711182, 0.08386458456516266, 0.8386458158493042, 0.0545828752219677, 0.9279088973999023, 0.6950393915176392, 0.2734581232070923, 0.01139408815652132, 0.9511942267417908, 0.8851909041404724, 0.08851908892393112, 0.9719704389572144, 0.17385907471179962, 0.8258306384086609, 0.9518483281135559, 0.06445755809545517, 0.12891511619091034, 0.2320472151041031, 0.11602360755205154, 0.06445755809545517, 0.3867453634738922, 0.12463991343975067, 0.08309327811002731, 0.16618655622005463, 0.08309327811002731, 0.5401062965393066, 0.9182465672492981, 0.9230363368988037, 0.951140820980072, 0.35240858793258667, 0.08810214698314667, 0.2643064558506012, 0.17620429396629333, 0.11012768745422363, 0.86739182472229, 0.34470662474632263, 0.6204718947410583, 0.8683832287788391, 0.08926636725664139, 0.28763607144355774, 0.27110525965690613, 0.01322464644908905, 0.019836969673633575, 0.07604172080755234, 0.17853273451328278, 0.06281707435846329, 0.08785895258188248, 0.8785895705223083, 0.040634479373693466, 0.040634479373693466, 0.8126896023750305, 0.08126895874738693, 0.9393545389175415, 0.7634590268135071, 0.16965755820274353, 0.8435863256454468, 0.12653794884681702, 0.9515875577926636, 0.864584743976593, 0.8352394104003906, 0.128498375415802, 0.12960834801197052, 0.8424542546272278, 0.03240208700299263, 0.9171938300132751, 0.9021193385124207, 0.09826235473155975, 0.1965247094631195, 0.12282794713973999, 0.5650085806846619, 0.9564385414123535, 0.01707926020026207, 0.01707926020026207, 0.13644462823867798, 0.06822231411933899, 0.7504454255104065, 0.8643389940261841, 0.9295653104782104, 0.08877899497747421, 0.15092429518699646, 0.13316848874092102, 0.452772855758667, 0.15980218350887299, 0.15600307285785675, 0.7800153493881226, 0.7922327518463135, 0.9108571410179138, 0.0735485851764679, 0.8825830221176147, 0.0735485851764679, 0.9831699132919312, 0.10749327391386032, 0.8599461913108826, 0.4948473274707794, 0.11546437442302704, 0.2969083786010742, 0.06597964465618134, 0.0747019499540329, 0.8217214941978455, 0.02071179449558258, 0.6006420254707336, 0.12427076697349548, 0.1035589724779129, 0.14498256146907806, 0.9190461039543152, 0.9581952691078186, 0.12208385020494461, 0.590071976184845, 0.2645150125026703, 0.11405088752508163, 0.8667867183685303, 0.9206464290618896, 0.9056689143180847, 0.12414465099573135, 0.8690125346183777, 0.1639065146446228, 0.6738378405570984, 0.09105917066335678, 0.07284733653068542, 0.5425158739089966, 0.07233544439077377, 0.07233544439077377, 0.07233544439077377, 0.07233544439077377, 0.16275475919246674, 0.93913334608078, 0.6721070408821106, 0.31836649775505066, 0.8936557769775391, 0.07245858013629913, 0.3203545808792114, 0.059324923902750015, 0.11864984780550003, 0.1067848652601242, 0.08305489271879196, 0.04745993763208389, 0.04745993763208389, 0.201704740524292, 0.09786752611398697, 0.8808077573776245, 0.18968552350997925, 0.6955136060714722, 0.12645702064037323, 0.9685249328613281, 0.8601813316345215, 0.9717146754264832, 0.7688854932785034, 0.17743511497974396, 0.04719829186797142, 0.015732763335108757, 0.9125003218650818, 0.8830574750900269, 0.9284295439720154, 0.8738637566566467, 0.09115693718194962, 0.47401607036590576, 0.09115693718194962, 0.1093883290886879, 0.2187766581773758, 0.9122028350830078, 0.8597865700721741, 0.08597865700721741, 0.8889421820640564, 0.9785535335540771, 0.11476545035839081, 0.7603210806846619, 0.0717284083366394, 0.0430370457470417, 0.7479782104492188, 0.1662173718214035, 0.09289876371622086, 0.023224690929055214, 0.2786962687969208, 0.24385924637317657, 0.3599826991558075, 0.7541342377662659, 0.23204131424427032, 0.6849584579467773, 0.10897066444158554, 0.07783618569374084, 0.07783618569374084, 0.046701714396476746, 0.042627882212400436, 0.42627882957458496, 0.22379638254642487, 0.11722667515277863, 0.1385406255722046, 0.042627882212400436, 0.06763114780187607, 0.054104916751384735, 0.17584097385406494, 0.5816278457641602, 0.1217360645532608, 0.021716218441724777, 0.9772297739982605, 0.9733177423477173, 0.9680320620536804, 0.9239084124565125, 0.0053098187781870365, 0.04247855022549629, 0.021239275112748146, 0.7890151143074036, 0.13150252401828766, 0.8289767503738403, 0.11053023487329483, 0.004290223587304354, 0.03718193620443344, 0.06149320304393768, 0.04433230683207512, 0.35751861333847046, 0.0028601489029824734, 0.020021041855216026, 0.4719245731830597, 0.08116930723190308, 0.09276492148637772, 0.12755176424980164, 0.0579780749976635, 0.5565895438194275, 0.06957369297742844, 0.9699399471282959, 0.8077242970466614, 0.1514483094215393, 0.9126913547515869, 0.09779089689254761, 0.7578794360160828, 0.030559655278921127, 0.030559655278921127, 0.009167896583676338, 0.05500737950205803, 0.012223862111568451, 0.03899379447102547, 0.7408820986747742, 0.19496896862983704, 0.836765706539154, 0.060257185250520706, 0.9038577675819397, 0.9697555899620056, 0.03936326503753662, 0.03149061277508736, 0.7951379418373108, 0.12596245110034943, 0.07173601537942886, 0.10248002409934998, 0.2766960561275482, 0.2459520548582077, 0.010248002596199512, 0.061488013714551926, 0.22545604407787323, 0.06264358013868332, 0.01138974167406559, 0.02847435511648655, 0.005694870837032795, 0.03986409679055214, 0.7460281252861023, 0.09111793339252472, 0.01708461344242096, 0.9277200698852539, 0.2686295807361603, 0.7163455486297607, 0.6610226035118103, 0.3204958140850067, 0.9613213539123535, 0.04729214310646057, 0.3877955675125122, 0.09458428621292114, 0.32158657908439636, 0.04729214310646057, 0.03783371299505234, 0.06620900332927704, 0.2351873517036438, 0.6646599173545837, 0.04090214893221855, 0.06135322526097298, 0.8935831189155579, 0.1325666755437851, 0.7291167378425598, 0.09942501038312912, 0.939273476600647, 0.10667561739683151, 0.10667561739683151, 0.10667561739683151, 0.6667225956916809, 0.1733069121837616, 0.762550413608551, 0.01733069121837616, 0.03466138243675232, 0.07866698503494263, 0.5900023579597473, 0.2753344476222992, 0.019666746258735657, 0.9480810761451721, 0.17095217108726501, 0.04884347692131996, 0.5372782945632935, 0.19537390768527985, 0.22480863332748413, 0.18265700340270996, 0.5058193802833557, 0.07025269418954849, 0.8871857523918152, 0.07901083678007126, 0.07901083678007126, 0.790108323097229, 0.7763862609863281, 0.18633270263671875, 0.8671721816062927, 0.09128127992153168, 0.15397389233112335, 0.1924673616886139, 0.46192169189453125, 0.057740211486816406, 0.13472715020179749, 0.9113591313362122, 0.059173308312892914, 0.10355328768491745, 0.10355328768491745, 0.07396663725376129, 0.08875996619462967, 0.5473530888557434, 0.014793327078223228, 0.23991577327251434, 0.7197473049163818, 0.9721866846084595, 0.930620551109314, 0.14494623243808746, 0.2898924648761749, 0.04831540957093239, 0.024157704785466194, 0.4831540882587433, 0.10874997824430466, 0.761249840259552, 0.8625835180282593, 0.08625835180282593, 0.9311708211898804, 0.8873568177223206, 0.9147471189498901, 0.0467212051153183, 0.19622905552387238, 0.06540968269109726, 0.3737696409225464, 0.1868848204612732, 0.12147513031959534, 0.00934424065053463, 0.0318789929151535, 0.127515971660614, 0.4994375705718994, 0.063757985830307, 0.05313165485858917, 0.10626330971717834, 0.11688964068889618, 0.9401695728302002, 0.09258819371461868, 0.16665875911712646, 0.4444233477115631, 0.29628223180770874, 0.8554927706718445, 0.8675060868263245, 0.7339053750038147, 0.25082841515541077, 0.009289941750466824, 0.9468494057655334, 0.04734247177839279, 0.94259113073349, 0.12267462909221649, 0.8587223887443542, 0.0035777613520622253, 0.09659955650568008, 0.168154776096344, 0.10017731785774231, 0.017888806760311127, 0.0035777613520622253, 0.572441816329956, 0.007155522704124451, 0.028622090816497803, 0.14766769111156464, 0.1292092204093933, 0.16612614691257477, 0.07383384555578232, 0.4430030584335327, 0.848291277885437, 0.14969846606254578, 0.2511928677558899, 0.7176939249038696, 0.9570404887199402, 0.5389240980148315, 0.10104826837778091, 0.19086895883083344, 0.1122758537530899, 0.04491034150123596, 0.01122758537530899, 0.0986047312617302, 0.8874425888061523, 0.9420216083526611, 0.29451945424079895, 0.053548991680145264, 0.6425879001617432, 0.8799166679382324, 0.08799166232347488, 0.9158436059951782, 0.8607088327407837, 0.8330897688865662, 0.9672931432723999, 0.8044337034225464, 0.11491910368204117, 0.07783939689397812, 0.8951530456542969, 0.8685786724090576, 0.06370815634727478, 0.019112447276711464, 0.03185407817363739, 0.8345768451690674, 0.025483261793851852, 0.019112447276711464, 0.006370815448462963, 0.006370815448462963, 0.049261488020420074, 0.8867067694664001, 0.7807429432868958, 0.024398216977715492, 0.024398216977715492, 0.048796433955430984, 0.09759286791086197, 0.20444528758525848, 0.7768920660018921, 0.11767370253801346, 0.09627848863601685, 0.1818593591451645, 0.5027876496315002, 0.09627848863601685, 0.40845245122909546, 0.10473139584064484, 0.11520453542470932, 0.15709708631038666, 0.041892558336257935, 0.15709708631038666, 0.8067341446876526, 0.023049546405673027, 0.16134683787822723, 0.8445071578025818, 0.09848122298717499, 0.8370904326438904, 0.637908935546875, 0.12758179008960724, 0.01417575404047966, 0.2126363068819046, 0.06418679654598236, 0.46000534296035767, 0.09628018736839294, 0.053488995879888535, 0.3102361559867859, 0.19143596291542053, 0.11850797384977341, 0.09115998446941376, 0.5560758709907532, 0.04557999223470688, 0.13498099148273468, 0.20247149467468262, 0.06749049574136734, 0.5264258980751038, 0.05399239808320999, 0.013498099520802498, 0.9016901254653931, 0.01859017089009285, 0.966688871383667, 0.8681928515434265, 0.659835159778595, 0.02999250777065754, 0.2999250888824463, 0.031017884612083435, 0.13293379545211792, 0.06646689772605896, 0.7488603591918945, 0.013293378986418247, 0.9651501774787903, 0.7699616551399231, 0.10999452322721481, 0.9217406511306763, 0.08379460126161575, 0.11548081785440445, 0.8083657622337341, 0.1184181198477745, 0.10262903571128845, 0.21315260231494904, 0.12631265819072723, 0.07894541323184967, 0.36314889788627625, 0.2260916382074356, 0.723493218421936, 0.037901852279901505, 0.047377314418554306, 0.19898471236228943, 0.46429768204689026, 0.18003378808498383, 0.05685277655720711, 0.07719158381223679, 0.8491073846817017, 0.002569916658103466, 0.005139833316206932, 0.7529855966567993, 0.03340891748666763, 0.002569916658103466, 0.007709749974310398, 0.19531366229057312, 0.9172663688659668, 0.6017282009124756, 0.08914491534233093, 0.22286228835582733, 0.08914491534233093, 0.03764844685792923, 0.10541564971208572, 0.0677672028541565, 0.07529689371585846, 0.6249642372131348, 0.09035627543926239, 0.103812575340271, 0.1829916536808014, 0.12140792608261108, 0.04574791342020035, 0.05630512535572052, 0.059824198484420776, 0.019354887306690216, 0.03167163208127022, 0.0017595351673662663, 0.3783000707626343, 0.7350139021873474, 0.19600370526313782, 0.9461315274238586, 0.04113615304231644, 0.8120211958885193, 0.10150264948606491, 0.05075981095433235, 0.012689952738583088, 0.03806985914707184, 0.9009866714477539, 0.06751058995723724, 0.6638541221618652, 0.22503529489040375, 0.04500706121325493, 0.9452118277549744, 0.7312690019607544, 0.2350507378578186, 0.8485634922981262, 0.844970703125, 0.45925915241241455, 0.12364669889211655, 0.1766381412744522, 0.22962957620620728, 0.19109652936458588, 0.5892142653465271, 0.03184942156076431, 0.12739768624305725, 0.06369884312152863, 0.9014955163002014, 0.874896764755249, 0.044684696942567825, 0.06702704727649689, 0.13405409455299377, 0.6479281187057495, 0.08936939388513565, 0.9269298315048218, 0.7490225434303284, 0.10700321942567825, 0.21646280586719513, 0.036688610911369324, 0.0293508879840374, 0.003668860998004675, 0.003668860998004675, 0.7007524967193604, 0.0146754439920187, 0.7950026392936707, 0.11357180774211884, 0.1269863247871399, 0.7407535314559937, 0.10582193732261658, 0.9735427498817444, 0.7662273645401001, 0.1532454639673233, 0.00897532980889082, 0.5564704537391663, 0.19745725393295288, 0.03590131923556328, 0.06282731145620346, 0.05385197699069977, 0.08077796548604965, 0.7835047841072083, 0.1567009538412094, 0.61590975522995, 0.2384166717529297, 0.13907639682292938, 0.9557937979698181, 0.9547398090362549, 0.007177954073995352, 0.4773339629173279, 0.014355908147990704, 0.136381134390831, 0.017944885417819023, 0.0681905671954155, 0.11125829070806503, 0.10766931623220444, 0.06101261079311371, 0.9652676582336426, 0.9573415517807007, 0.16638882458209991, 0.01848764717578888, 0.17255137860774994, 0.10630397498607635, 0.00462191179394722, 0.026190834119915962, 0.15714500844478607, 0.12787289917469025, 0.11246652156114578, 0.10630397498607635, 0.9350273013114929, 0.15867003798484802, 0.4583801329135895, 0.03526001051068306, 0.14104004204273224, 0.10578002780675888, 0.10578002780675888, 0.7113000154495239, 0.2371000200510025, 0.6997604370117188, 0.07365899533033371, 0.14731799066066742, 0.036829497665166855, 0.1081940308213234, 0.16547322273254395, 0.06364354491233826, 0.24820983409881592, 0.1145583838224411, 0.09546531736850739, 0.20365935564041138, 0.9509826898574829, 0.78253573179245, 0.17389683425426483, 0.4185362160205841, 0.01764911785721779, 0.10337340086698532, 0.006303256377577782, 0.1008521020412445, 0.03781953826546669, 0.006303256377577782, 0.052947353571653366, 0.026473676785826683, 0.23069918155670166, 0.7386055588722229, 0.10137723386287689, 0.14482462406158447, 0.03994074463844299, 0.223668172955513, 0.31153780221939087, 0.327514111995697, 0.08786963671445847, 0.1678675264120102, 0.2126321941614151, 0.12310285121202469, 0.05595583841204643, 0.4252643883228302, 0.08012207597494125, 0.03204882889986038, 0.14421974122524261, 0.5207934975624084, 0.03204882889986038, 0.04006103798747063, 0.008012207224965096, 0.14421974122524261, 0.8947116732597351, 0.07063513249158859, 0.9838660359382629, 0.8742684721946716, 0.9605609774589539, 0.7855334877967834, 0.16832859814167023, 0.11617827415466309, 0.038726091384887695, 0.13554131984710693, 0.4356685280799866, 0.11617827415466309, 0.15490436553955078, 0.2567300498485565, 0.028525561094284058, 0.6275623440742493, 0.028525561094284058, 0.9545431733131409, 0.7228041291236877, 0.21684123575687408, 0.9245823621749878, 0.9124860763549805, 0.136949360370636, 0.20542404055595398, 0.6505094766616821, 0.09706339985132217, 0.8735706210136414, 0.9178678393363953, 0.22198320925235748, 0.07399439811706543, 0.11099160462617874, 0.5919551849365234, 0.1823219209909439, 0.027348289266228676, 0.009116096422076225, 0.009116096422076225, 0.1093931570649147, 0.6563589572906494, 0.14812126755714417, 0.1211901307106018, 0.06732784956693649, 0.17505240440368652, 0.35010480880737305, 0.13465569913387299, 0.14089760184288025, 0.798419713973999, 0.7996134757995605, 0.013522096909582615, 0.5679280757904053, 0.09465467929840088, 0.25691986083984375, 0.0676104873418808, 0.028951361775398254, 0.07720363140106201, 0.36671724915504456, 0.12545590102672577, 0.25091180205345154, 0.13510635495185852, 0.7950304746627808, 0.15900608897209167, 0.04931047558784485, 0.7396571040153503, 0.1972419023513794, 0.8806074857711792, 0.045362602919340134, 0.9374937415122986, 0.7582740783691406, 0.20220643281936646, 0.045510582625865936, 0.24272312223911285, 0.6826587915420532, 0.18349520862102509, 0.807378888130188, 0.8946847319602966, 0.059645649045705795, 0.04006922245025635, 0.20034611225128174, 0.16829073429107666, 0.04006922245025635, 0.20034611225128174, 0.19233226776123047, 0.09616613388061523, 0.05609691143035889, 0.2007071077823639, 0.2230079025030136, 0.5575197339057922, 0.22045667469501495, 0.1417221575975418, 0.5668886303901672, 0.06298762559890747, 0.1427643597126007, 0.8208950757980347, 0.08797366917133331, 0.08797366917133331, 0.7037893533706665, 0.11760012805461884, 0.8232009410858154, 0.8386645317077637, 0.12579968571662903, 0.02187371999025345, 0.0437474399805069, 0.5905904173851013, 0.1749897599220276, 0.02187371999025345, 0.15311603248119354, 0.05446303263306618, 0.612709105014801, 0.05446303263306618, 0.06807879358530045, 0.19062061607837677, 0.1366465985774994, 0.10248494148254395, 0.6832329630851746, 0.0683232992887497, 0.9846134185791016, 0.00627142284065485, 0.953643262386322, 0.7331937551498413, 0.20948393642902374, 0.8289124369621277, 0.9306238889694214, 0.9206990599632263, 0.9212154746055603, 0.9409942626953125, 0.6707842350006104, 0.1707450896501541, 0.1097646951675415, 0.03658823296427727, 0.15786245465278625, 0.7893122434616089, 0.016500847414135933, 0.2928900420665741, 0.1856345236301422, 0.06600338965654373, 0.16088324785232544, 0.16500847041606903, 0.008250423707067966, 0.06600338965654373, 0.045377328991889954, 0.9649271965026855, 0.9104853272438049, 0.1246420368552208, 0.8309469223022461, 0.9575194716453552, 0.9487455487251282, 0.8893033862113953, 0.6203641891479492, 0.07519565522670746, 0.07519565522670746, 0.09399457275867462, 0.13159240782260895, 0.9473443627357483, 0.2069685459136963, 0.724389910697937, 0.9610689282417297, 0.8465694189071655, 0.06046924367547035, 0.06717029213905334, 0.08956038951873779, 0.49258214235305786, 0.3134613633155823, 0.08780506998300552, 0.17561013996601105, 0.7024405598640442, 0.8155916333198547, 0.09483624249696732, 0.07586899399757385, 0.8713557720184326, 0.5241517424583435, 0.15952445566654205, 0.22789207100868225, 0.0683676227927208, 0.028918828815221786, 0.04337824136018753, 0.41209331154823303, 0.03614853695034981, 0.25303974747657776, 0.17351296544075012, 0.05783765763044357, 0.907521665096283, 0.035449665039777756, 0.11816555261611938, 0.8389754295349121, 0.9182712435722351, 0.774671196937561, 0.20856532454490662, 0.023208148777484894, 0.13924889266490936, 0.6498281359672546, 0.16245703399181366, 0.09439210593700409, 0.8809930086135864, 0.2229093611240387, 0.757891833782196, 0.6188764572143555, 0.22921349108219147, 0.11460674554109573, 0.9310345649719238, 0.056605055928230286, 0.20755188167095184, 0.09434176236391068, 0.028302527964115143, 0.11321011185646057, 0.5000113248825073, 0.06750230491161346, 0.03375115245580673, 0.2531336545944214, 0.4387650191783905, 0.042188942432403564, 0.09281567484140396, 0.016875576227903366, 0.0506267324090004, 0.054272402077913284, 0.054272402077913284, 0.2713620066642761, 0.6241326332092285, 0.9516513347625732, 0.1337553709745407, 0.11464746296405792, 0.11464746296405792, 0.554129421710968, 0.05732373148202896, 0.9167180061340332, 0.2784624695777893, 0.5569249391555786, 0.07425665855407715, 0.07425665855407715, 0.018564164638519287, 0.07131591439247131, 0.6180712580680847, 0.21394775807857513, 0.09508789330720901, 0.905602753162384, 0.207014799118042, 0.7590543031692505, 0.9502676725387573, 0.8569371700286865, 0.043945495039224625, 0.08789099007844925, 0.21742065250873566, 0.019765513017773628, 0.09882757067680359, 0.11859308183193207, 0.5139033794403076, 0.8775696754455566, 0.8309773802757263, 0.10933913290500641, 0.043735653162002563, 0.9139905571937561, 0.16678619384765625, 0.7505378723144531, 0.23867785930633545, 0.17048418521881104, 0.18753260374069214, 0.03409683704376221, 0.3580167889595032, 0.15186776220798492, 0.06749678403139114, 0.10124517232179642, 0.20249034464359283, 0.4724774658679962, 0.7756908535957336, 0.1939227133989334, 0.9352004528045654, 0.24394133687019348, 0.15246333181858063, 0.6098533272743225, 0.04487866908311844, 0.02243933454155922, 0.01121966727077961, 0.04487866908311844, 0.1121966689825058, 0.07853767275810242, 0.527324378490448, 0.12341634184122086, 0.03365899994969368, 0.934455156326294, 0.275833398103714, 0.672343909740448, 0.03447917476296425, 0.2007666826248169, 0.736144483089447, 0.8562301397323608, 0.04294775426387787, 0.9019027948379517, 0.13275370001792908, 0.0995652824640274, 0.696956992149353, 0.06637685000896454, 0.8697678446769714, 0.8886446356773376, 0.9208518862724304, 0.0326119102537632, 0.6359322667121887, 0.30981317162513733, 0.12592370808124542, 0.25184741616249084, 0.05723804607987404, 0.3663235008716583, 0.12592370808124542, 0.06868565827608109, 0.07246134430170059, 0.0373285710811615, 0.09002772718667984, 0.04391596466302872, 0.10320251435041428, 0.6236066818237305, 0.004391596652567387, 0.024153780192136765, 0.9248760342597961, 0.21284620463848114, 0.18624043464660645, 0.6119328737258911, 0.9690513014793396, 0.016921475529670715, 0.25382211804389954, 0.7276234030723572, 0.25588858127593994, 0.14312411844730377, 0.019516924396157265, 0.08023624867200851, 0.08674188703298569, 0.19950634241104126, 0.16047249734401703, 0.05421368032693863, 0.7297426462173462, 0.04648042097687721, 0.13014517724514008, 0.08831280469894409, 0.004648042377084494, 0.9776208996772766, 0.9721826314926147, 0.7605404853820801, 0.21390201151371002, 0.575006365776062, 0.027381254360079765, 0.10952501744031906, 0.24643129110336304, 0.027381254360079765, 0.027381254360079765, 0.9732996821403503, 0.6028052568435669, 0.05241784825921059, 0.15725354850292206, 0.1834624707698822, 0.9305821061134338, 0.03579162061214447, 0.9509851932525635, 0.711616575717926, 0.16265521943569183, 0.12199141830205917, 0.13086937367916107, 0.5016659498214722, 0.10905780643224716, 0.23992717266082764, 0.1595786213874817, 0.009386977180838585, 0.08448279649019241, 0.44118794798851013, 0.10325675457715988, 0.17835257947444916, 0.01877395436167717, 0.7046863436698914, 0.26425737142562866, 0.06205582991242409, 0.015513957478106022, 0.8842955827713013, 0.015513957478106022, 0.009613961912691593, 0.07691169530153275, 0.009613961912691593, 0.7114331722259521, 0.17305131256580353, 0.019227923825383186, 0.6961891055107117, 0.20697513222694397, 0.07526368647813797, 0.17780184745788574, 0.11853455752134323, 0.14816820621490479, 0.30621427297592163, 0.04938939958810806, 0.187679722905159, 0.9543070793151855, 0.8680835366249084, 0.8682992458343506, 0.951136589050293, 0.15329547226428986, 0.5244318842887878, 0.14522728323936462, 0.00806818250566721, 0.09681819379329681, 0.07261364161968231, 0.00806818250566721, 0.9142810106277466, 0.1334182769060135, 0.667091429233551, 0.10673462599515915, 0.053367312997579575, 0.6763744354248047, 0.08822274953126907, 0.20585308969020844, 0.5234968662261963, 0.13087421655654907, 0.1495705395936966, 0.18696317076683044, 0.6933233141899109, 0.2854860723018646, 0.9257892966270447, 0.4500836133956909, 0.011844305321574211, 0.13028736412525177, 0.3908620774745941, 0.9550856351852417, 0.03673406317830086, 0.8061953186988831, 0.16123905777931213, 0.15443938970565796, 0.7335871458053589, 0.10617708414793015, 0.8989677429199219, 0.8585481643676758, 0.21429233253002167, 0.6122637987136841, 0.15306594967842102, 0.0029276057612150908, 0.023420846089720726, 0.08490056544542313, 0.887064516544342, 0.9671570062637329, 0.679360568523407, 0.1386450082063675, 0.06932250410318375, 0.06932250410318375, 0.04159350320696831, 0.5572072267532349, 0.07331673800945282, 0.19062352180480957, 0.16129682958126068, 0.04624856635928154, 0.03964162617921829, 0.18499426543712616, 0.013213875703513622, 0.026427751407027245, 0.013213875703513622, 0.6078382730484009, 0.006606937851756811, 0.06606937944889069, 0.6514124274253845, 0.3387344777584076, 0.9184718728065491, 0.9101161360740662, 0.9290255308151245, 0.10187868773937225, 0.10187868773937225, 0.2619737684726715, 0.01455409824848175, 0.10187868773937225, 0.39296066761016846, 0.0291081964969635, 0.9372819066047668, 0.631504476070404, 0.009867257438600063, 0.029601771384477615, 0.06907080113887787, 0.09867257624864578, 0.05920354276895523, 0.0789380595088005, 0.04601682350039482, 0.07669470459222794, 0.15338940918445587, 0.10737258195877075, 0.40648192167282104, 0.06902523338794708, 0.04601682350039482, 0.06135576218366623, 0.03834735229611397, 0.007669470272958279, 0.011005024425685406, 0.8914070129394531, 0.03301507234573364, 0.04402009770274162, 0.1493455022573471, 0.10182648152112961, 0.0950380489230156, 0.040730591863393784, 0.2986910045146942, 0.16971080005168915, 0.12898021936416626, 0.23904700577259064, 0.6443876028060913, 0.10393348336219788, 0.15837214887142181, 0.0033696203026920557, 0.13141518831253052, 0.013478481210768223, 0.11456708610057831, 0.0033696203026920557, 0.45826834440231323, 0.0977189838886261, 0.023587342351675034, 0.9108734130859375, 0.1184428334236145, 0.22991843521595, 0.041803352534770966, 0.055737804621458054, 0.10102476924657822, 0.4528696537017822, 0.09783998131752014, 0.8805598020553589, 0.756320059299469, 0.18908001482486725], \"Term\": [\"aarp\", \"aarp\", \"abigail\", \"abigail\", \"acceptable\", \"account\", \"account\", \"account\", \"act\", \"act\", \"act\", \"act\", \"actually\", \"actually\", \"actually\", \"actually\", \"actually\", \"actually\", \"actually\", \"actually\", \"actually\", \"ad\", \"ad\", \"adult\", \"adult\", \"adult\", \"adult\", \"adult\", \"adult\", \"advice\", \"advice\", \"advice\", \"advice\", \"advice\", \"age\", \"age\", \"age\", \"age\", \"age\", \"age\", \"age\", \"age\", \"age\", \"ahead\", \"amazing\", \"amazing\", \"american\", \"american\", \"american\", \"american\", \"american\", \"american\", \"annoying\", \"anymore\", \"anymore\", \"anymore\", \"anymore\", \"apart\", \"apart\", \"app\", \"apparently\", \"apparently\", \"apparently\", \"apparently\", \"appropriate\", \"appropriate\", \"argo\", \"art\", \"article\", \"article\", \"article\", \"article\", \"article\", \"article\", \"assistant\", \"attempt\", \"attempt\", \"available\", \"available\", \"available\", \"award\", \"awesome\", \"awesome\", \"awesome\", \"awful\", \"awful\", \"baby\", \"baby\", \"baby\", \"baby\", \"baby\", \"baby\", \"bad\", \"bad\", \"bad\", \"bad\", \"bad\", \"bad\", \"bad\", \"bad\", \"band\", \"bank\", \"biden\", \"biden\", \"biden\", \"big\", \"big\", \"big\", \"big\", \"big\", \"big\", \"billionaire\", \"billionaire\", \"birth\", \"birthday\", \"bit\", \"bit\", \"bit\", \"blog\", \"blog\", \"blood\", \"board\", \"boom\", \"boomer\", \"boomer\", \"boomer\", \"boomer\", \"boomer\", \"boomer\", \"boomer\", \"boomer\", \"boomer\", \"boomer\", \"box\", \"brain\", \"brain\", \"brilliant\", \"brother\", \"brother\", \"bs\", \"bs\", \"btw\", \"bullshit\", \"bullshit\", \"bullshit\", \"bunch\", \"business\", \"business\", \"candidate\", \"candidate\", \"candidate\", \"candidate\", \"candidate\", \"cannabis\", \"catalyst\", \"ceo\", \"change\", \"change\", \"change\", \"change\", \"change\", \"character\", \"character\", \"check\", \"check\", \"check\", \"cherry\", \"cherry\", \"cherry\", \"cherry\", \"child\", \"child\", \"child\", \"child\", \"child\", \"child\", \"child\", \"christmas\", \"christmas\", \"christmas\", \"citizen\", \"civil\", \"civil\", \"civil\", \"claim\", \"class\", \"class\", \"clearly\", \"clearly\", \"clearly\", \"climate\", \"climate\", \"climate\", \"climate\", \"climate\", \"close\", \"close\", \"coach\", \"coach\", \"coffee\", \"coffee\", \"colleague\", \"colleague\", \"color\", \"comment\", \"comment\", \"comment\", \"comment\", \"common\", \"common\", \"common\", \"computer\", \"conflict\", \"congratulation\", \"constantly\", \"constantly\", \"constantly\", \"controversy\", \"cool\", \"cool\", \"cool\", \"corporate\", \"corporate\", \"correct\", \"correct\", \"country\", \"country\", \"country\", \"coverage\", \"crazy\", \"crazy\", \"crime\", \"crowd\", \"crowd\", \"cultural\", \"culture\", \"culture\", \"culture\", \"culture\", \"culture\", \"culture\", \"current\", \"current\", \"current\", \"current\", \"current\", \"customer\", \"cut\", \"cute\", \"dad\", \"dad\", \"dad\", \"dad\", \"dad\", \"daily\", \"damn\", \"damn\", \"dangerous\", \"day\", \"day\", \"day\", \"day\", \"day\", \"day\", \"day\", \"day\", \"dead\", \"dead\", \"dear\", \"dear\", \"dear\", \"dear\", \"deep\", \"defense\", \"defense\", \"definition\", \"definition\", \"degree\", \"dick\", \"digital\", \"digital\", \"dinner\", \"dinner\", \"dinner\", \"dinosaur\", \"dis\", \"discrimination\", \"discrimination\", \"discrimination\", \"discrimination\", \"disney\", \"disney\", \"disney\", \"divide\", \"divide\", \"divide\", \"division\", \"dog\", \"don\", \"don\", \"don\", \"don\", \"don\", \"door\", \"door\", \"drive\", \"driver\", \"drop\", \"drop\", \"drop\", \"drug\", \"dude\", \"dude\", \"early\", \"early\", \"early\", \"early\", \"earth\", \"earth\", \"economy\", \"economy\", \"economy\", \"economy\", \"economy\", \"education\", \"elanation\", \"elder\", \"elder\", \"elder\", \"end\", \"end\", \"equality\", \"establishment\", \"everyday\", \"everyday\", \"exactly\", \"exactly\", \"exactly\", \"exactly\", \"example\", \"example\", \"example\", \"example\", \"example\", \"example\", \"executive\", \"eye\", \"eye\", \"facebook\", \"facebook\", \"fact\", \"fact\", \"fact\", \"fact\", \"fact\", \"fact\", \"fact\", \"fact\", \"fake\", \"fake\", \"fan\", \"fan\", \"fan\", \"far\", \"feed\", \"fellow\", \"female\", \"female\", \"finally\", \"finally\", \"finally\", \"financial\", \"fix\", \"flat\", \"folk\", \"folk\", \"folk\", \"folk\", \"folk\", \"fool\", \"force\", \"force\", \"fossil\", \"free\", \"friend\", \"friend\", \"friend\", \"friend\", \"frustration\", \"frustration\", \"fuck\", \"fuck\", \"fuck\", \"fuck\", \"fuck\", \"fuckin\", \"fuckin\", \"fun\", \"fun\", \"fun\", \"fun\", \"fun\", \"funny\", \"funny\", \"funny\", \"funny\", \"funny\", \"funny\", \"future\", \"future\", \"future\", \"future\", \"future\", \"game\", \"game\", \"gateway\", \"gay\", \"gen\", \"gen\", \"gen\", \"gen\", \"gender\", \"gender\", \"general\", \"general\", \"generation\", \"generation\", \"generation\", \"generation\", \"generation\", \"generation\", \"generation\", \"generation\", \"generational\", \"generational\", \"generational\", \"generational\", \"generational\", \"generational\", \"george\", \"german\", \"german\", \"global\", \"good\", \"good\", \"good\", \"good\", \"good\", \"good\", \"good\", \"google\", \"google\", \"google\", \"grandkid\", \"grandma\", \"grandma\", \"grandpa\", \"great\", \"great\", \"great\", \"great\", \"group\", \"group\", \"group\", \"group\", \"group\", \"group\", \"group\", \"guy\", \"guy\", \"guy\", \"guy\", \"guy\", \"guy\", \"guy\", \"guy\", \"haha\", \"half\", \"half\", \"hand\", \"hand\", \"happy\", \"hard\", \"hard\", \"hard\", \"hard\", \"hard\", \"hard\", \"hard\", \"hashtag\", \"hashtag\", \"hashtag\", \"hashtag\", \"hat\", \"head\", \"head\", \"head\", \"headphone\", \"hell\", \"hell\", \"hell\", \"hell\", \"help\", \"help\", \"help\", \"help\", \"hilarious\", \"hilarious\", \"hilarious\", \"hilarious\", \"hillary\", \"history\", \"history\", \"history\", \"history\", \"home\", \"home\", \"home\", \"home\", \"hoodie\", \"hope\", \"hope\", \"hope\", \"hot\", \"hot\", \"hour\", \"hour\", \"house\", \"house\", \"house\", \"house\", \"house\", \"hypocrisy\", \"idea\", \"idea\", \"idea\", \"idea\", \"idea\", \"idea\", \"idea\", \"idiot\", \"idiot\", \"idk\", \"image\", \"important\", \"important\", \"important\", \"important\", \"important\", \"incredible\", \"incredible\", \"incredibly\", \"incredibly\", \"info\", \"insane\", \"instagram\", \"instead\", \"instead\", \"instead\", \"instead\", \"instead\", \"instead\", \"instead\", \"insult\", \"insult\", \"insult\", \"insult\", \"insult\", \"insult\", \"insult\", \"insurer\", \"internet\", \"internet\", \"internet\", \"internet\", \"jail\", \"jesus\", \"job\", \"job\", \"job\", \"joe\", \"joe\", \"justice\", \"karen\", \"karen\", \"kid\", \"kid\", \"kid\", \"kid\", \"kid\", \"kid\", \"kid\", \"kid\", \"kid\", \"kind\", \"kind\", \"kind\", \"kind\", \"kind\", \"lady\", \"lady\", \"land\", \"land\", \"language\", \"late\", \"late\", \"late\", \"late\", \"late\", \"late\", \"law\", \"law\", \"lawn\", \"lazy\", \"lazy\", \"lazy\", \"left\", \"left\", \"leftist\", \"legal\", \"legalization\", \"legit\", \"lesson\", \"lesson\", \"liberal\", \"liberal\", \"lie\", \"life\", \"life\", \"life\", \"life\", \"life\", \"life\", \"life\", \"life\", \"likely\", \"likely\", \"line\", \"line\", \"line\", \"line\", \"line\", \"list\", \"list\", \"literally\", \"literally\", \"literally\", \"literally\", \"literally\", \"little\", \"little\", \"little\", \"little\", \"little\", \"little\", \"live\", \"live\", \"live\", \"living\", \"lmao\", \"lmao\", \"lol\", \"lol\", \"lol\", \"lol\", \"long\", \"long\", \"long\", \"long\", \"long\", \"lot\", \"lot\", \"lot\", \"lot\", \"lot\", \"love\", \"love\", \"love\", \"love\", \"love\", \"love\", \"luck\", \"mad\", \"mad\", \"madness\", \"male\", \"male\", \"male\", \"man\", \"man\", \"man\", \"man\", \"man\", \"marijuana\", \"marriage\", \"marriage\", \"massive\", \"massive\", \"mate\", \"mate\", \"maybe\", \"maybe\", \"maybe\", \"maybe\", \"maybe\", \"maybe\", \"mean\", \"mean\", \"medium\", \"medium\", \"medium\", \"medium\", \"medium\", \"medium\", \"meeting\", \"meeting\", \"meme\", \"meme\", \"meme\", \"meme\", \"meme\", \"meme\", \"meme\", \"mess\", \"middle\", \"middle\", \"middle\", \"middle\", \"millenial\", \"millenial\", \"millenial\", \"millenial\", \"millenial\", \"millenial\", \"millennial\", \"millennial\", \"millennial\", \"millennial\", \"millennial\", \"millennial\", \"millennial\", \"millennial\", \"millennial\", \"millennial\", \"million\", \"million\", \"minute\", \"minute\", \"model\", \"model\", \"mom\", \"mom\", \"mom\", \"mom\", \"moment\", \"moment\", \"moment\", \"moment\", \"mood\", \"morning\", \"morning\", \"moron\", \"mouth\", \"movement\", \"movement\", \"movement\", \"movement\", \"music\", \"music\", \"music\", \"music\", \"music\", \"myrna\", \"nearly\", \"need\", \"need\", \"need\", \"need\", \"need\", \"netflix\", \"network\", \"network\", \"new\", \"new\", \"new\", \"new\", \"new\", \"new\", \"new\", \"nfl\", \"nfl\", \"nice\", \"nice\", \"nice\", \"nightmare\", \"nominee\", \"nominee\", \"not\", \"not\", \"not\", \"not\", \"not\", \"not\", \"not\", \"note\", \"note\", \"office\", \"office\", \"office\", \"officially\", \"oil\", \"ok\", \"ok\", \"ok\", \"ok\", \"ok\", \"ok\", \"ok\", \"ok\", \"ok\", \"okay\", \"oklahoma\", \"old\", \"old\", \"old\", \"old\", \"old\", \"old\", \"old\", \"old\", \"old\", \"old\", \"omg\", \"online\", \"online\", \"online\", \"online\", \"online\", \"online\", \"order\", \"order\", \"original\", \"original\", \"original\", \"original\", \"parent\", \"parent\", \"parent\", \"parent\", \"parent\", \"parent\", \"parent\", \"participation\", \"peak\", \"peak\", \"people\", \"people\", \"people\", \"people\", \"people\", \"people\", \"people\", \"people\", \"people\", \"people\", \"perfect\", \"perfect\", \"perfect\", \"person\", \"person\", \"person\", \"person\", \"person\", \"phone\", \"phone\", \"phone\", \"phone\", \"phone\", \"phrase\", \"phrase\", \"phrase\", \"phrase\", \"phrase\", \"phrase\", \"phrase\", \"phrase\", \"piece\", \"piece\", \"pink\", \"platform\", \"play\", \"player\", \"player\", \"point\", \"point\", \"point\", \"point\", \"point\", \"point\", \"political\", \"political\", \"political\", \"political\", \"poll\", \"pop\", \"pop\", \"popular\", \"popularity\", \"post\", \"post\", \"post\", \"poster\", \"poster\", \"potus\", \"power\", \"power\", \"power\", \"power\", \"president\", \"president\", \"president\", \"president\", \"president\", \"president\", \"pretty\", \"pretty\", \"pretty\", \"pretty\", \"pretty\", \"pretty\", \"previous\", \"previous\", \"prison\", \"probably\", \"probably\", \"probably\", \"probably\", \"probably\", \"problem\", \"problem\", \"problem\", \"problem\", \"problem\", \"problem\", \"progress\", \"progress\", \"progressive\", \"progressive\", \"progressive\", \"proper\", \"purchase\", \"purchase\", \"push\", \"push\", \"racist\", \"racist\", \"racist\", \"radio\", \"radio\", \"reaction\", \"reaction\", \"real\", \"real\", \"real\", \"real\", \"real\", \"real\", \"real\", \"real\", \"reality\", \"reality\", \"reality\", \"reason\", \"reason\", \"reason\", \"reason\", \"red\", \"red\", \"reference\", \"reference\", \"reference\", \"relevant\", \"relevant\", \"reminder\", \"reminder\", \"reply\", \"reply\", \"reply\", \"reply\", \"reply\", \"reply\", \"respect\", \"respect\", \"respect\", \"respect\", \"respect\", \"respond\", \"respond\", \"respond\", \"respond\", \"response\", \"response\", \"responsibility\", \"responsible\", \"responsible\", \"restaurant\", \"result\", \"retirement\", \"return\", \"revolution\", \"rich\", \"rich\", \"rich\", \"rich\", \"ridiculous\", \"ridiculous\", \"right\", \"right\", \"right\", \"right\", \"right\", \"right\", \"right\", \"right\", \"right\", \"ring\", \"roll\", \"room\", \"room\", \"round\", \"rude\", \"sarcasm\", \"school\", \"school\", \"school\", \"school\", \"school\", \"science\", \"secret\", \"secret\", \"section\", \"senior\", \"senior\", \"sense\", \"sense\", \"sense\", \"sense\", \"sentence\", \"sentence\", \"sentence\", \"seriously\", \"seriously\", \"seriously\", \"set\", \"shirt\", \"shirt\", \"shirt\", \"shirt\", \"shit\", \"shit\", \"shit\", \"shit\", \"shit\", \"shit\", \"shit\", \"shitty\", \"shop\", \"shop\", \"shop\", \"shot\", \"sick\", \"sick\", \"silent\", \"silent\", \"silent\", \"silent\", \"simply\", \"simply\", \"site\", \"site\", \"slur\", \"slur\", \"slur\", \"smh\", \"snowflake\", \"snowflake\", \"snowflake\", \"snowflake\", \"snowflake\", \"snowflake\", \"social\", \"social\", \"social\", \"social\", \"social\", \"social\", \"social\", \"social\", \"society\", \"society\", \"society\", \"society\", \"somebody\", \"son\", \"son\", \"son\", \"son\", \"son\", \"sondland\", \"song\", \"song\", \"song\", \"song\", \"song\", \"sorry\", \"sorry\", \"sorry\", \"sorry\", \"sort\", \"specific\", \"specific\", \"spot\", \"start\", \"start\", \"start\", \"state\", \"state\", \"state\", \"state\", \"state\", \"stick\", \"story\", \"story\", \"story\", \"stream\", \"strong\", \"strong\", \"student\", \"student\", \"student\", \"student\", \"student\", \"stuff\", \"stuff\", \"stuff\", \"stuff\", \"stuff\", \"suddenly\", \"suddenly\", \"super\", \"support\", \"support\", \"support\", \"sure\", \"sure\", \"sure\", \"sure\", \"sure\", \"sure\", \"sure\", \"sure\", \"sure\", \"sweet\", \"talk\", \"talk\", \"talk\", \"tax\", \"tax\", \"taxis\", \"teacher\", \"teacher\", \"team\", \"team\", \"team\", \"team\", \"technically\", \"television\", \"tell\", \"term\", \"term\", \"term\", \"thank\", \"thank\", \"thank\", \"thank\", \"thank\", \"thank\", \"thing\", \"thing\", \"thing\", \"thing\", \"thing\", \"thing\", \"thing\", \"thing\", \"thinking\", \"thought\", \"thought\", \"thought\", \"thousand\", \"thread\", \"thread\", \"thread\", \"time\", \"time\", \"time\", \"time\", \"time\", \"time\", \"time\", \"time\", \"today\", \"today\", \"today\", \"today\", \"today\", \"tonight\", \"topic\", \"totally\", \"totally\", \"touch\", \"touch\", \"touch\", \"touch\", \"touch\", \"touch\", \"trademark\", \"trend\", \"trend\", \"trend\", \"trend\", \"troll\", \"troll\", \"trophy\", \"true\", \"true\", \"true\", \"truly\", \"truly\", \"truly\", \"truly\", \"trump\", \"trump\", \"trump\", \"trump\", \"trump\", \"trump\", \"trump\", \"trust\", \"trust\", \"tv\", \"tv\", \"tv\", \"tv\", \"tweet\", \"tweet\", \"tweet\", \"tweet\", \"tweet\", \"tweet\", \"twitt\", \"twitt\", \"twitt\", \"twitter\", \"twitter\", \"twitter\", \"twitter\", \"twitter\", \"twitter\", \"uk\", \"understanding\", \"united\", \"update\", \"use\", \"use\", \"use\", \"use\", \"use\", \"use\", \"use\", \"valid\", \"value\", \"value\", \"value\", \"value\", \"veteran\", \"veteran\", \"veteran\", \"video\", \"video\", \"video\", \"video\", \"viral\", \"viral\", \"volume\", \"vote\", \"vote\", \"vote\", \"vote\", \"voter\", \"voter\", \"want\", \"want\", \"war\", \"war\", \"war\", \"warming\", \"warren\", \"watch\", \"watch\", \"watch\", \"way\", \"way\", \"way\", \"way\", \"weed\", \"week\", \"week\", \"week\", \"week\", \"week\", \"well\", \"well\", \"well\", \"well\", \"white\", \"white\", \"white\", \"white\", \"white\", \"white\", \"white\", \"white\", \"white\", \"wife\", \"wife\", \"win\", \"wisdom\", \"witness\", \"woman\", \"woman\", \"woman\", \"woman\", \"woman\", \"woman\", \"woman\", \"wonder\", \"word\", \"word\", \"word\", \"word\", \"word\", \"word\", \"word\", \"work\", \"work\", \"work\", \"work\", \"work\", \"work\", \"work\", \"work\", \"work\", \"work\", \"workplace\", \"workplace\", \"workplace\", \"workplace\", \"world\", \"world\", \"world\", \"world\", \"world\", \"world\", \"world\", \"wrong\", \"wrong\", \"wrong\", \"year\", \"year\", \"year\", \"year\", \"year\", \"year\", \"year\", \"year\", \"year\", \"yo\", \"young\", \"young\", \"young\", \"young\", \"young\", \"young\", \"zealand\", \"zealand\", \"zoomer\", \"zoomer\"]}, \"R\": 30, \"lambda.step\": 0.01, \"plot.opts\": {\"xlab\": \"PC1\", \"ylab\": \"PC2\"}, \"topic.order\": [1, 2, 3, 4, 5, 6, 7, 8, 9, 10]};\n",
              "\n",
              "function LDAvis_load_lib(url, callback){\n",
              "  var s = document.createElement('script');\n",
              "  s.src = url;\n",
              "  s.async = true;\n",
              "  s.onreadystatechange = s.onload = callback;\n",
              "  s.onerror = function(){console.warn(\"failed to load library \" + url);};\n",
              "  document.getElementsByTagName(\"head\")[0].appendChild(s);\n",
              "}\n",
              "\n",
              "if(typeof(LDAvis) !== \"undefined\"){\n",
              "   // already loaded: just create the visualization\n",
              "   !function(LDAvis){\n",
              "       new LDAvis(\"#\" + \"ldavis_el1201400749365367845809289559\", ldavis_el1201400749365367845809289559_data);\n",
              "   }(LDAvis);\n",
              "}else if(typeof define === \"function\" && define.amd){\n",
              "   // require.js is available: use it to load d3/LDAvis\n",
              "   require.config({paths: {d3: \"https://cdnjs.cloudflare.com/ajax/libs/d3/3.5.5/d3.min\"}});\n",
              "   require([\"d3\"], function(d3){\n",
              "      window.d3 = d3;\n",
              "      LDAvis_load_lib(\"https://cdn.rawgit.com/bmabey/pyLDAvis/files/ldavis.v1.0.0.js\", function(){\n",
              "        new LDAvis(\"#\" + \"ldavis_el1201400749365367845809289559\", ldavis_el1201400749365367845809289559_data);\n",
              "      });\n",
              "    });\n",
              "}else{\n",
              "    // require.js not available: dynamically load d3 & LDAvis\n",
              "    LDAvis_load_lib(\"https://cdnjs.cloudflare.com/ajax/libs/d3/3.5.5/d3.min.js\", function(){\n",
              "         LDAvis_load_lib(\"https://cdn.rawgit.com/bmabey/pyLDAvis/files/ldavis.v1.0.0.js\", function(){\n",
              "                 new LDAvis(\"#\" + \"ldavis_el1201400749365367845809289559\", ldavis_el1201400749365367845809289559_data);\n",
              "            })\n",
              "         });\n",
              "}\n",
              "</script>"
            ],
            "text/plain": [
              "<IPython.core.display.HTML object>"
            ]
          },
          "metadata": {
            "tags": []
          },
          "execution_count": 222
        }
      ]
    },
    {
      "cell_type": "markdown",
      "metadata": {
        "id": "H4dMXwJiMvqE",
        "colab_type": "text"
      },
      "source": [
        "Plotting most common topics per day"
      ]
    },
    {
      "cell_type": "code",
      "metadata": {
        "id": "xQ5DTVN75l_w",
        "colab_type": "code",
        "colab": {}
      },
      "source": [
        "# Get columns of interest into a new DF\n",
        "\n",
        "tweets_boomer_token = boomer_tweets_df[['tweet', 'tokens', 'id','created_at']]"
      ],
      "execution_count": 0,
      "outputs": []
    },
    {
      "cell_type": "code",
      "metadata": {
        "id": "2EuE6RVqx_7H",
        "colab_type": "code",
        "colab": {}
      },
      "source": [
        "# Get most common topics\n",
        "\n",
        "most_common = Counter(itertools.chain(*boomer_tweets_df.tokens)).most_common(11)"
      ],
      "execution_count": 0,
      "outputs": []
    },
    {
      "cell_type": "code",
      "metadata": {
        "id": "B8HN1bekWXgT",
        "colab_type": "code",
        "outputId": "b1626afa-ac6d-473b-f69d-1597344839d8",
        "colab": {
          "base_uri": "https://localhost:8080/",
          "height": 202
        }
      },
      "source": [
        "most_common"
      ],
      "execution_count": 236,
      "outputs": [
        {
          "output_type": "execute_result",
          "data": {
            "text/plain": [
              "[('boomer', 2599),\n",
              " ('people', 788),\n",
              " ('generation', 689),\n",
              " ('old', 680),\n",
              " ('millennial', 544),\n",
              " ('time', 462),\n",
              " ('thing', 443),\n",
              " ('meme', 414),\n",
              " ('way', 406),\n",
              " ('good', 335),\n",
              " ('young', 330)]"
            ]
          },
          "metadata": {
            "tags": []
          },
          "execution_count": 236
        }
      ]
    },
    {
      "cell_type": "code",
      "metadata": {
        "id": "1LEHoLZtyMY4",
        "colab_type": "code",
        "colab": {}
      },
      "source": [
        "# Isolate the tokens only (x for x,y because before it is a list of tuples)\n",
        "most_common = [x for x,y in most_common][1:]"
      ],
      "execution_count": 0,
      "outputs": []
    },
    {
      "cell_type": "code",
      "metadata": {
        "id": "DyEboySgyqmq",
        "colab_type": "code",
        "outputId": "946dfb80-46f0-470d-b886-1c681011f328",
        "colab": {
          "base_uri": "https://localhost:8080/",
          "height": 118
        }
      },
      "source": [
        "# Create new columns (one for each hashtag) and fill with 0\n",
        "\n",
        "for col in most_common:\n",
        "  tweets_boomer_token[col] = 0"
      ],
      "execution_count": 238,
      "outputs": [
        {
          "output_type": "stream",
          "text": [
            "/usr/local/lib/python3.6/dist-packages/ipykernel_launcher.py:3: SettingWithCopyWarning: \n",
            "A value is trying to be set on a copy of a slice from a DataFrame.\n",
            "Try using .loc[row_indexer,col_indexer] = value instead\n",
            "\n",
            "See the caveats in the documentation: http://pandas.pydata.org/pandas-docs/stable/user_guide/indexing.html#returning-a-view-versus-a-copy\n",
            "  This is separate from the ipykernel package so we can avoid doing imports until\n"
          ],
          "name": "stderr"
        }
      ]
    },
    {
      "cell_type": "code",
      "metadata": {
        "id": "9Mgq-Vb_zDvf",
        "colab_type": "code",
        "outputId": "aee2b342-7d39-4482-a93f-c0e11dd48c66",
        "colab": {
          "base_uri": "https://localhost:8080/",
          "height": 118
        }
      },
      "source": [
        "# Iterate over hashtags and fill in the corresponding columns with 1 if hashtag present in a tweet\n",
        "for tokens in most_common:\n",
        "  tweets_boomer_token[tokens] = tweets_boomer_token['tokens'].map(lambda t: 1 if tokens in t else 0)"
      ],
      "execution_count": 240,
      "outputs": [
        {
          "output_type": "stream",
          "text": [
            "/usr/local/lib/python3.6/dist-packages/ipykernel_launcher.py:2: SettingWithCopyWarning: \n",
            "A value is trying to be set on a copy of a slice from a DataFrame.\n",
            "Try using .loc[row_indexer,col_indexer] = value instead\n",
            "\n",
            "See the caveats in the documentation: http://pandas.pydata.org/pandas-docs/stable/user_guide/indexing.html#returning-a-view-versus-a-copy\n",
            "  \n"
          ],
          "name": "stderr"
        }
      ]
    },
    {
      "cell_type": "code",
      "metadata": {
        "id": "5fy75FyZXIp8",
        "colab_type": "code",
        "outputId": "f7d942ab-080d-44b4-f7cc-6ba7b689f4ae",
        "colab": {
          "base_uri": "https://localhost:8080/",
          "height": 636
        }
      },
      "source": [
        "tweets_boomer_token"
      ],
      "execution_count": 0,
      "outputs": [
        {
          "output_type": "execute_result",
          "data": {
            "text/html": [
              "<div>\n",
              "<style scoped>\n",
              "    .dataframe tbody tr th:only-of-type {\n",
              "        vertical-align: middle;\n",
              "    }\n",
              "\n",
              "    .dataframe tbody tr th {\n",
              "        vertical-align: top;\n",
              "    }\n",
              "\n",
              "    .dataframe thead th {\n",
              "        text-align: right;\n",
              "    }\n",
              "</style>\n",
              "<table border=\"1\" class=\"dataframe\">\n",
              "  <thead>\n",
              "    <tr style=\"text-align: right;\">\n",
              "      <th></th>\n",
              "      <th>tweet</th>\n",
              "      <th>hashtags</th>\n",
              "      <th>id</th>\n",
              "      <th>created_at</th>\n",
              "      <th>#boomer</th>\n",
              "      <th>#millennials</th>\n",
              "      <th>#genx</th>\n",
              "      <th>#genz</th>\n",
              "      <th>#okboomers</th>\n",
              "      <th>#oktrumper</th>\n",
              "      <th>#boomers</th>\n",
              "      <th>#okmillennial</th>\n",
              "      <th>#okayboomer</th>\n",
              "      <th>#boom25</th>\n",
              "    </tr>\n",
              "    <tr>\n",
              "      <th>created_at</th>\n",
              "      <th></th>\n",
              "      <th></th>\n",
              "      <th></th>\n",
              "      <th></th>\n",
              "      <th></th>\n",
              "      <th></th>\n",
              "      <th></th>\n",
              "      <th></th>\n",
              "      <th></th>\n",
              "      <th></th>\n",
              "      <th></th>\n",
              "      <th></th>\n",
              "      <th></th>\n",
              "      <th></th>\n",
              "    </tr>\n",
              "  </thead>\n",
              "  <tbody>\n",
              "    <tr>\n",
              "      <th>2019-11-21 20:28:24</th>\n",
              "      <td>Suddenly, #OkBoomer is trending again.  https://twitter.com/Fox35Matt/status/1197185353330909184 …</td>\n",
              "      <td>[#okboomer]</td>\n",
              "      <td>1197612747715837952</td>\n",
              "      <td>2019-11-21 20:28:24</td>\n",
              "      <td>0</td>\n",
              "      <td>0</td>\n",
              "      <td>0</td>\n",
              "      <td>0</td>\n",
              "      <td>0</td>\n",
              "      <td>0</td>\n",
              "      <td>0</td>\n",
              "      <td>0</td>\n",
              "      <td>0</td>\n",
              "      <td>0</td>\n",
              "    </tr>\n",
              "    <tr>\n",
              "      <th>2019-11-21 20:27:37</th>\n",
              "      <td>I like my role in this 🤷‍♂️ #OkBoomer #GenX pic.twitter.com/6RI4bAsaml</td>\n",
              "      <td>[#okboomer, #genx]</td>\n",
              "      <td>1197612550403297280</td>\n",
              "      <td>2019-11-21 20:27:37</td>\n",
              "      <td>0</td>\n",
              "      <td>0</td>\n",
              "      <td>1</td>\n",
              "      <td>0</td>\n",
              "      <td>0</td>\n",
              "      <td>0</td>\n",
              "      <td>0</td>\n",
              "      <td>0</td>\n",
              "      <td>0</td>\n",
              "      <td>0</td>\n",
              "    </tr>\n",
              "    <tr>\n",
              "      <th>2019-11-21 20:26:11</th>\n",
              "      <td>He looks allot like you. Old and white.\\n\\n#OkBoomer</td>\n",
              "      <td>[#okboomer]</td>\n",
              "      <td>1197612190867476480</td>\n",
              "      <td>2019-11-21 20:26:11</td>\n",
              "      <td>0</td>\n",
              "      <td>0</td>\n",
              "      <td>0</td>\n",
              "      <td>0</td>\n",
              "      <td>0</td>\n",
              "      <td>0</td>\n",
              "      <td>0</td>\n",
              "      <td>0</td>\n",
              "      <td>0</td>\n",
              "      <td>0</td>\n",
              "    </tr>\n",
              "    <tr>\n",
              "      <th>2019-11-21 20:24:34</th>\n",
              "      <td>wait is my university’s president gaslighting me? #OkBoomer  pic.twitter.com/M2FNkQvKHo</td>\n",
              "      <td>[#okboomer]</td>\n",
              "      <td>1197611782669402112</td>\n",
              "      <td>2019-11-21 20:24:34</td>\n",
              "      <td>0</td>\n",
              "      <td>0</td>\n",
              "      <td>0</td>\n",
              "      <td>0</td>\n",
              "      <td>0</td>\n",
              "      <td>0</td>\n",
              "      <td>0</td>\n",
              "      <td>0</td>\n",
              "      <td>0</td>\n",
              "      <td>0</td>\n",
              "    </tr>\n",
              "    <tr>\n",
              "      <th>2019-11-21 20:23:54</th>\n",
              "      <td>Shut up Conway you whiny, fragile fossil. #okboomer #expirealready</td>\n",
              "      <td>[#okboomer, #expirealready]</td>\n",
              "      <td>1197611614687637504</td>\n",
              "      <td>2019-11-21 20:23:54</td>\n",
              "      <td>0</td>\n",
              "      <td>0</td>\n",
              "      <td>0</td>\n",
              "      <td>0</td>\n",
              "      <td>0</td>\n",
              "      <td>0</td>\n",
              "      <td>0</td>\n",
              "      <td>0</td>\n",
              "      <td>0</td>\n",
              "      <td>0</td>\n",
              "    </tr>\n",
              "    <tr>\n",
              "      <th>...</th>\n",
              "      <td>...</td>\n",
              "      <td>...</td>\n",
              "      <td>...</td>\n",
              "      <td>...</td>\n",
              "      <td>...</td>\n",
              "      <td>...</td>\n",
              "      <td>...</td>\n",
              "      <td>...</td>\n",
              "      <td>...</td>\n",
              "      <td>...</td>\n",
              "      <td>...</td>\n",
              "      <td>...</td>\n",
              "      <td>...</td>\n",
              "      <td>...</td>\n",
              "    </tr>\n",
              "    <tr>\n",
              "      <th>2019-11-11 13:12:53</th>\n",
              "      <td>#OkBoomer LMAO  https://twitter.com/SyedSaddiq/status/1193734457175396352 …</td>\n",
              "      <td>[#okboomer]</td>\n",
              "      <td>1193879268263989248</td>\n",
              "      <td>2019-11-11 13:12:53</td>\n",
              "      <td>0</td>\n",
              "      <td>0</td>\n",
              "      <td>0</td>\n",
              "      <td>0</td>\n",
              "      <td>0</td>\n",
              "      <td>0</td>\n",
              "      <td>0</td>\n",
              "      <td>0</td>\n",
              "      <td>0</td>\n",
              "      <td>0</td>\n",
              "    </tr>\n",
              "    <tr>\n",
              "      <th>2019-11-11 13:11:46</th>\n",
              "      <td>Good #OkBoomer thread  https://twitter.com/kurteichenwald/status/1193677778413137920 …</td>\n",
              "      <td>[#okboomer]</td>\n",
              "      <td>1193878986125971456</td>\n",
              "      <td>2019-11-11 13:11:46</td>\n",
              "      <td>0</td>\n",
              "      <td>0</td>\n",
              "      <td>0</td>\n",
              "      <td>0</td>\n",
              "      <td>0</td>\n",
              "      <td>0</td>\n",
              "      <td>0</td>\n",
              "      <td>0</td>\n",
              "      <td>0</td>\n",
              "      <td>0</td>\n",
              "    </tr>\n",
              "    <tr>\n",
              "      <th>2019-11-11 13:09:38</th>\n",
              "      <td>Boomer quote \"either , we cant get fooled again or tge new boss is the old boss, The Who. #OkBoomer  https://twitter.com/ZoomerClips/status/1193761072445943808 …</td>\n",
              "      <td>[#okboomer]</td>\n",
              "      <td>1193878449556881408</td>\n",
              "      <td>2019-11-11 13:09:38</td>\n",
              "      <td>0</td>\n",
              "      <td>0</td>\n",
              "      <td>0</td>\n",
              "      <td>0</td>\n",
              "      <td>0</td>\n",
              "      <td>0</td>\n",
              "      <td>0</td>\n",
              "      <td>0</td>\n",
              "      <td>0</td>\n",
              "      <td>0</td>\n",
              "    </tr>\n",
              "    <tr>\n",
              "      <th>2019-11-11 13:09:11</th>\n",
              "      <td>I think there's room for both.\\n\\n#OkBoomer #OkCapitalist https://twitter.com/goodyweaver/status/1193584284864569346 …</td>\n",
              "      <td>[#okboomer, #okcapitalist]</td>\n",
              "      <td>1193878337204244480</td>\n",
              "      <td>2019-11-11 13:09:11</td>\n",
              "      <td>0</td>\n",
              "      <td>0</td>\n",
              "      <td>0</td>\n",
              "      <td>0</td>\n",
              "      <td>0</td>\n",
              "      <td>0</td>\n",
              "      <td>0</td>\n",
              "      <td>0</td>\n",
              "      <td>0</td>\n",
              "      <td>0</td>\n",
              "    </tr>\n",
              "    <tr>\n",
              "      <th>2019-11-11 13:06:11</th>\n",
              "      <td>He legit used #OKBoomer 😂</td>\n",
              "      <td>[#okboomer]</td>\n",
              "      <td>1193877582791397376</td>\n",
              "      <td>2019-11-11 13:06:11</td>\n",
              "      <td>0</td>\n",
              "      <td>0</td>\n",
              "      <td>0</td>\n",
              "      <td>0</td>\n",
              "      <td>0</td>\n",
              "      <td>0</td>\n",
              "      <td>0</td>\n",
              "      <td>0</td>\n",
              "      <td>0</td>\n",
              "      <td>0</td>\n",
              "    </tr>\n",
              "  </tbody>\n",
              "</table>\n",
              "<p>9722 rows × 14 columns</p>\n",
              "</div>"
            ],
            "text/plain": [
              "                                                                                                                                                                                 tweet  ... #boom25\n",
              "created_at                                                                                                                                                                              ...        \n",
              "2019-11-21 20:28:24  Suddenly, #OkBoomer is trending again.  https://twitter.com/Fox35Matt/status/1197185353330909184 …                                                                 ...  0     \n",
              "2019-11-21 20:27:37  I like my role in this 🤷‍♂️ #OkBoomer #GenX pic.twitter.com/6RI4bAsaml                                                                                             ...  0     \n",
              "2019-11-21 20:26:11  He looks allot like you. Old and white.\\n\\n#OkBoomer                                                                                                               ...  0     \n",
              "2019-11-21 20:24:34  wait is my university’s president gaslighting me? #OkBoomer  pic.twitter.com/M2FNkQvKHo                                                                            ...  0     \n",
              "2019-11-21 20:23:54  Shut up Conway you whiny, fragile fossil. #okboomer #expirealready                                                                                                 ...  0     \n",
              "...                                                                                                      ...                                                                            ... ..     \n",
              "2019-11-11 13:12:53  #OkBoomer LMAO  https://twitter.com/SyedSaddiq/status/1193734457175396352 …                                                                                        ...  0     \n",
              "2019-11-11 13:11:46  Good #OkBoomer thread  https://twitter.com/kurteichenwald/status/1193677778413137920 …                                                                             ...  0     \n",
              "2019-11-11 13:09:38  Boomer quote \"either , we cant get fooled again or tge new boss is the old boss, The Who. #OkBoomer  https://twitter.com/ZoomerClips/status/1193761072445943808 …  ...  0     \n",
              "2019-11-11 13:09:11  I think there's room for both.\\n\\n#OkBoomer #OkCapitalist https://twitter.com/goodyweaver/status/1193584284864569346 …                                             ...  0     \n",
              "2019-11-11 13:06:11  He legit used #OKBoomer 😂                                                                                                                                          ...  0     \n",
              "\n",
              "[9722 rows x 14 columns]"
            ]
          },
          "metadata": {
            "tags": []
          },
          "execution_count": 47
        }
      ]
    },
    {
      "cell_type": "code",
      "metadata": {
        "id": "HzTX2U9h3RT5",
        "colab_type": "code",
        "colab": {}
      },
      "source": [
        "# Import plotting stuff\n",
        "import seaborn as sns\n",
        "sns.set_style(\"whitegrid\")\n",
        "sns.set(rc={'figure.figsize':(10,10)})"
      ],
      "execution_count": 0,
      "outputs": []
    },
    {
      "cell_type": "code",
      "metadata": {
        "id": "cNOPxTiy6QMd",
        "colab_type": "code",
        "outputId": "c0da68ce-f95d-4b7f-b4e3-7ea3baf1a5a5",
        "colab": {
          "base_uri": "https://localhost:8080/",
          "height": 651
        }
      },
      "source": [
        "# count up occurence of hashtags in timeframe of interest (resample means 'group by', not part of package already included in Python by default)\n",
        "\n",
        "tweets_boomer_token.resample('D')[most_common].sum().plot()"
      ],
      "execution_count": 242,
      "outputs": [
        {
          "output_type": "execute_result",
          "data": {
            "text/plain": [
              "<matplotlib.axes._subplots.AxesSubplot at 0x7f65b73f32e8>"
            ]
          },
          "metadata": {
            "tags": []
          },
          "execution_count": 242
        },
        {
          "output_type": "display_data",
          "data": {
            "image/png": "[encoded data removed]",
            "text/plain": [
              "<Figure size 720x720 with 1 Axes>"
            ]
          },
          "metadata": {
            "tags": []
          }
        }
      ]
    },
    {
      "cell_type": "markdown",
      "metadata": {
        "id": "eHgMLKWknJbK",
        "colab_type": "text"
      },
      "source": [
        "## Exercise 4: Supervised ML (NLP)"
      ]
    },
    {
      "cell_type": "code",
      "metadata": {
        "id": "jJbEnU74nSrX",
        "colab_type": "code",
        "colab": {}
      },
      "source": [
        "# Some initial downloads and installs\n",
        "\n",
        "!wget -O tweet_labels.csv -qq \"https://raw.githubusercontent.com/DeepLearnI/trump_tweet_classifier/master/code/tweet_labels.csv\"\n",
        "\n",
        "!pip -q install eli5"
      ],
      "execution_count": 0,
      "outputs": []
    },
    {
      "cell_type": "code",
      "metadata": {
        "id": "Hpfa-emBnSt-",
        "colab_type": "code",
        "colab": {
          "base_uri": "https://localhost:8080/",
          "height": 205
        },
        "outputId": "713e33ea-1143-4f3b-aee4-941624684241"
      },
      "source": [
        "!head tweet_labels.csv"
      ],
      "execution_count": 49,
      "outputs": [
        {
          "output_type": "stream",
          "text": [
            "tweet,labels\n",
            "To every one of the HEROES we recognized today — THANK YOU and God Bless You All!pic.twitter.com/JWKwylpdiO,True\n",
            "\"We have been serving as policemen in Afghanistan, and that was not meant to be the job of our Great Soldiers, the finest on earth. Over the last four days, we have been hitting our Enemy harder than at any time in the last ten years!\",True\n",
            "\"...the Economy, where there is NO Recession, much to the regret of the LameStream Media! They are working overtime to help the Democrats win in 2020, but that will NEVER HAPPEN, Americans are too smart!\",True\n",
            "\"...the look of turmoil in the White House, of which there is none. I view much of the media as simply an arm of the Democrat Party. They are corrupt, and they are extremely upset at how well our Country is doing under MY Leadership, including...\",True\n",
            "\"A lot of Fake News is being reported that I overruled the VP and various advisers on a potential Camp David meeting with the Taliban. This Story is False! I always think it is good to meet and talk, but in this case I decided not to. The Dishonest Media likes to create...\",True\n",
            "\"The Trump Administration has achieved more in the first 2 1/2 years of its existence than perhaps any administration in the history of our Country. We get ZERO media credit for what we have done, and are doing, but the people know, and that’s all that is important!\",True\n",
            "\"I had nothing to do with the decision of our great @VP Mike Pence to stay overnight at one of the Trump owned resorts in Doonbeg, Ireland. Mike’s family has lived in Doonbeg for many years, and he thought that during his very busy European visit, he would stop and see his family!\",True\n",
            "\"I know nothing about an Air Force plane landing at an airport (which I do not own and have nothing to do with) near Turnberry Resort (which I do own) in Scotland, and filling up with fuel, with the crew staying overnight at Turnberry (they have good taste!). NOTHING TO DO WITH ME\",True\n",
            "\"..that this Administration has done. They don’t talk about the great economy, the big tax and regulation cuts, the rebuilding of the Military, “Choice” at our VA, our Vets, Judges and Supreme Court Justices, the Border Wall going up, lowest crime numbers, 2nd A, and so much more!\",True\n"
          ],
          "name": "stdout"
        }
      ]
    },
    {
      "cell_type": "code",
      "metadata": {
        "id": "yvJit4gEtxuu",
        "colab_type": "code",
        "colab": {}
      },
      "source": [
        "# Read in the files\n",
        "\n",
        "import pandas as pd\n",
        "pd.set_option('display.max_colwidth', -1) #to see more text\n",
        "\n",
        "import numpy as np\n",
        "import seaborn as sns\n",
        "\n",
        "import itertools\n",
        "from collections import Counter\n",
        "\n",
        "tweet_labels_df = pd.read_csv(\"tweet_labels.csv\")"
      ],
      "execution_count": 0,
      "outputs": []
    },
    {
      "cell_type": "code",
      "metadata": {
        "id": "MUudzMG90dgZ",
        "colab_type": "code",
        "colab": {
          "base_uri": "https://localhost:8080/",
          "height": 262
        },
        "outputId": "2c779fd3-a137-4df2-f79e-e1bd77e15db8"
      },
      "source": [
        "tweet_labels_df.head()"
      ],
      "execution_count": 70,
      "outputs": [
        {
          "output_type": "execute_result",
          "data": {
            "text/html": [
              "<div>\n",
              "<style scoped>\n",
              "    .dataframe tbody tr th:only-of-type {\n",
              "        vertical-align: middle;\n",
              "    }\n",
              "\n",
              "    .dataframe tbody tr th {\n",
              "        vertical-align: top;\n",
              "    }\n",
              "\n",
              "    .dataframe thead th {\n",
              "        text-align: right;\n",
              "    }\n",
              "</style>\n",
              "<table border=\"1\" class=\"dataframe\">\n",
              "  <thead>\n",
              "    <tr style=\"text-align: right;\">\n",
              "      <th></th>\n",
              "      <th>tweet</th>\n",
              "      <th>labels</th>\n",
              "    </tr>\n",
              "  </thead>\n",
              "  <tbody>\n",
              "    <tr>\n",
              "      <th>0</th>\n",
              "      <td>To every one of the HEROES we recognized today — THANK YOU and God Bless You All!pic.twitter.com/JWKwylpdiO</td>\n",
              "      <td>True</td>\n",
              "    </tr>\n",
              "    <tr>\n",
              "      <th>1</th>\n",
              "      <td>We have been serving as policemen in Afghanistan, and that was not meant to be the job of our Great Soldiers, the finest on earth. Over the last four days, we have been hitting our Enemy harder than at any time in the last ten years!</td>\n",
              "      <td>True</td>\n",
              "    </tr>\n",
              "    <tr>\n",
              "      <th>2</th>\n",
              "      <td>...the Economy, where there is NO Recession, much to the regret of the LameStream Media! They are working overtime to help the Democrats win in 2020, but that will NEVER HAPPEN, Americans are too smart!</td>\n",
              "      <td>True</td>\n",
              "    </tr>\n",
              "    <tr>\n",
              "      <th>3</th>\n",
              "      <td>...the look of turmoil in the White House, of which there is none. I view much of the media as simply an arm of the Democrat Party. They are corrupt, and they are extremely upset at how well our Country is doing under MY Leadership, including...</td>\n",
              "      <td>True</td>\n",
              "    </tr>\n",
              "    <tr>\n",
              "      <th>4</th>\n",
              "      <td>A lot of Fake News is being reported that I overruled the VP and various advisers on a potential Camp David meeting with the Taliban. This Story is False! I always think it is good to meet and talk, but in this case I decided not to. The Dishonest Media likes to create...</td>\n",
              "      <td>True</td>\n",
              "    </tr>\n",
              "  </tbody>\n",
              "</table>\n",
              "</div>"
            ],
            "text/plain": [
              "                                                                                                                                                                                                                                                                              tweet  labels\n",
              "0  To every one of the HEROES we recognized today — THANK YOU and God Bless You All!pic.twitter.com/JWKwylpdiO                                                                                                                                                                       True  \n",
              "1  We have been serving as policemen in Afghanistan, and that was not meant to be the job of our Great Soldiers, the finest on earth. Over the last four days, we have been hitting our Enemy harder than at any time in the last ten years!                                         True  \n",
              "2  ...the Economy, where there is NO Recession, much to the regret of the LameStream Media! They are working overtime to help the Democrats win in 2020, but that will NEVER HAPPEN, Americans are too smart!                                                                        True  \n",
              "3  ...the look of turmoil in the White House, of which there is none. I view much of the media as simply an arm of the Democrat Party. They are corrupt, and they are extremely upset at how well our Country is doing under MY Leadership, including...                             True  \n",
              "4  A lot of Fake News is being reported that I overruled the VP and various advisers on a potential Camp David meeting with the Taliban. This Story is False! I always think it is good to meet and talk, but in this case I decided not to. The Dishonest Media likes to create...  True  "
            ]
          },
          "metadata": {
            "tags": []
          },
          "execution_count": 70
        }
      ]
    },
    {
      "cell_type": "code",
      "metadata": {
        "id": "ugotxrae2O6n",
        "colab_type": "code",
        "colab": {}
      },
      "source": [
        "import preprocessor as p\n",
        "\n",
        "p.set_options(p.OPT.URL, p.OPT.EMOJI, p.OPT.HASHTAG, p.OPT.SMILEY, p.OPT.MENTION)\n",
        "tweets_clean = tweet_labels_df['tweet'].map(p.clean)"
      ],
      "execution_count": 0,
      "outputs": []
    },
    {
      "cell_type": "code",
      "metadata": {
        "id": "qzIDUcDj7t9L",
        "colab_type": "code",
        "colab": {}
      },
      "source": [
        "tknzr = TweetTokenizer(strip_handles=True)\n",
        "\n",
        "tweets_clean = tweets_clean.map(lambda t: [tok.lower() for tok in word_tokenize(t) if tok not in stop_words and tok.isalpha()])"
      ],
      "execution_count": 0,
      "outputs": []
    },
    {
      "cell_type": "code",
      "metadata": {
        "id": "6DHSZ8b_8BIn",
        "colab_type": "code",
        "colab": {}
      },
      "source": [
        "tweets_clean = tweets_clean.map(lambda t: \" \".join(t))"
      ],
      "execution_count": 0,
      "outputs": []
    },
    {
      "cell_type": "markdown",
      "metadata": {
        "id": "MT895PrC8pbI",
        "colab_type": "text"
      },
      "source": [
        "## Spacy"
      ]
    },
    {
      "cell_type": "code",
      "metadata": {
        "id": "i5VQm82J8t6l",
        "colab_type": "code",
        "colab": {}
      },
      "source": [
        "tokens = []\n",
        "\n",
        "for x in nlp.pipe(tweets_clean):\n",
        "  proj_tok = [token.lemma_.lower() for token in x if token.pos_ in ['NOUN', 'PROPN', 'ADJ', 'ADV'] and not token.is_stop] \n",
        "  tokens.append(proj_tok)"
      ],
      "execution_count": 0,
      "outputs": []
    },
    {
      "cell_type": "code",
      "metadata": {
        "id": "pTjgifE_8uKf",
        "colab_type": "code",
        "colab": {}
      },
      "source": [
        "tweet_labels_df['tokens'] = tokens"
      ],
      "execution_count": 0,
      "outputs": []
    },
    {
      "cell_type": "code",
      "metadata": {
        "id": "CbBJfuwf8uZq",
        "colab_type": "code",
        "colab": {
          "base_uri": "https://localhost:8080/",
          "height": 262
        },
        "outputId": "05ac6588-f86a-4d73-b4e5-9cdf5be8fdb1"
      },
      "source": [
        "tweet_labels_df.head()"
      ],
      "execution_count": 108,
      "outputs": [
        {
          "output_type": "execute_result",
          "data": {
            "text/html": [
              "<div>\n",
              "<style scoped>\n",
              "    .dataframe tbody tr th:only-of-type {\n",
              "        vertical-align: middle;\n",
              "    }\n",
              "\n",
              "    .dataframe tbody tr th {\n",
              "        vertical-align: top;\n",
              "    }\n",
              "\n",
              "    .dataframe thead th {\n",
              "        text-align: right;\n",
              "    }\n",
              "</style>\n",
              "<table border=\"1\" class=\"dataframe\">\n",
              "  <thead>\n",
              "    <tr style=\"text-align: right;\">\n",
              "      <th></th>\n",
              "      <th>tweet</th>\n",
              "      <th>labels</th>\n",
              "      <th>tokens</th>\n",
              "    </tr>\n",
              "  </thead>\n",
              "  <tbody>\n",
              "    <tr>\n",
              "      <th>0</th>\n",
              "      <td>To every one of the HEROES we recognized today — THANK YOU and God Bless You All!pic.twitter.com/JWKwylpdiO</td>\n",
              "      <td>True</td>\n",
              "      <td>[hero, today]</td>\n",
              "    </tr>\n",
              "    <tr>\n",
              "      <th>1</th>\n",
              "      <td>We have been serving as policemen in Afghanistan, and that was not meant to be the job of our Great Soldiers, the finest on earth. Over the last four days, we have been hitting our Enemy harder than at any time in the last ten years!</td>\n",
              "      <td>True</td>\n",
              "      <td>[policeman, afghanistan, job, great, soldier, earth, day, enemy, hard, time, year]</td>\n",
              "    </tr>\n",
              "    <tr>\n",
              "      <th>2</th>\n",
              "      <td>...the Economy, where there is NO Recession, much to the regret of the LameStream Media! They are working overtime to help the Democrats win in 2020, but that will NEVER HAPPEN, Americans are too smart!</td>\n",
              "      <td>True</td>\n",
              "      <td>[economy, recession, regret, lamestream, medium, overtime, help, democrat, american, smart]</td>\n",
              "    </tr>\n",
              "    <tr>\n",
              "      <th>3</th>\n",
              "      <td>...the look of turmoil in the White House, of which there is none. I view much of the media as simply an arm of the Democrat Party. They are corrupt, and they are extremely upset at how well our Country is doing under MY Leadership, including...</td>\n",
              "      <td>True</td>\n",
              "      <td>[turmoil, white, house, medium, simply, democrat, party, extremely, upset, country, leadership]</td>\n",
              "    </tr>\n",
              "    <tr>\n",
              "      <th>4</th>\n",
              "      <td>A lot of Fake News is being reported that I overruled the VP and various advisers on a potential Camp David meeting with the Taliban. This Story is False! I always think it is good to meet and talk, but in this case I decided not to. The Dishonest Media likes to create...</td>\n",
              "      <td>True</td>\n",
              "      <td>[lot, fake, news, adviser, potential, camp, david, meeting, story, false, good, meet, talk, case, dishonest, medium, like]</td>\n",
              "    </tr>\n",
              "  </tbody>\n",
              "</table>\n",
              "</div>"
            ],
            "text/plain": [
              "                                                                                                                                                                                                                                                                              tweet  ...                                                                                                                      tokens\n",
              "0  To every one of the HEROES we recognized today — THANK YOU and God Bless You All!pic.twitter.com/JWKwylpdiO                                                                                                                                                                       ...  [hero, today]                                                                                                             \n",
              "1  We have been serving as policemen in Afghanistan, and that was not meant to be the job of our Great Soldiers, the finest on earth. Over the last four days, we have been hitting our Enemy harder than at any time in the last ten years!                                         ...  [policeman, afghanistan, job, great, soldier, earth, day, enemy, hard, time, year]                                        \n",
              "2  ...the Economy, where there is NO Recession, much to the regret of the LameStream Media! They are working overtime to help the Democrats win in 2020, but that will NEVER HAPPEN, Americans are too smart!                                                                        ...  [economy, recession, regret, lamestream, medium, overtime, help, democrat, american, smart]                               \n",
              "3  ...the look of turmoil in the White House, of which there is none. I view much of the media as simply an arm of the Democrat Party. They are corrupt, and they are extremely upset at how well our Country is doing under MY Leadership, including...                             ...  [turmoil, white, house, medium, simply, democrat, party, extremely, upset, country, leadership]                           \n",
              "4  A lot of Fake News is being reported that I overruled the VP and various advisers on a potential Camp David meeting with the Taliban. This Story is False! I always think it is good to meet and talk, but in this case I decided not to. The Dishonest Media likes to create...  ...  [lot, fake, news, adviser, potential, camp, david, meeting, story, false, good, meet, talk, case, dishonest, medium, like]\n",
              "\n",
              "[5 rows x 3 columns]"
            ]
          },
          "metadata": {
            "tags": []
          },
          "execution_count": 108
        }
      ]
    },
    {
      "cell_type": "code",
      "metadata": {
        "id": "ylu6XyAsnS6N",
        "colab_type": "code",
        "colab": {}
      },
      "source": [
        "# Split the data using the train_test_split module. We keep 20% of the data for testing and use 80% to train the model\n",
        "\n",
        "from sklearn.model_selection import train_test_split\n",
        "\n",
        "train_tokens, test_tokens, y_train, y_test = train_test_split(tokens, tweet_labels_df.labels, test_size=0.2)"
      ],
      "execution_count": 0,
      "outputs": []
    },
    {
      "cell_type": "code",
      "metadata": {
        "id": "jMwmxQf_C3u-",
        "colab_type": "code",
        "colab": {}
      },
      "source": [
        "# Generate a dictionary\n",
        "dictionary = Dictionary(train_tokens)"
      ],
      "execution_count": 0,
      "outputs": []
    },
    {
      "cell_type": "code",
      "metadata": {
        "id": "sa1nCVawDIVP",
        "colab_type": "code",
        "colab": {}
      },
      "source": [
        "# Filter it for extreme stuff\n",
        "dictionary.filter_extremes(no_below = 10, no_above=0.4)"
      ],
      "execution_count": 0,
      "outputs": []
    },
    {
      "cell_type": "code",
      "metadata": {
        "id": "p58stShRDR-r",
        "colab_type": "code",
        "colab": {}
      },
      "source": [
        "# construct corpus using this dictionary\n",
        "train_corpus = [dictionary.doc2bow(doc) for doc in train_tokens]\n",
        "test_corpus = [dictionary.doc2bow(doc) for doc in test_tokens]"
      ],
      "execution_count": 0,
      "outputs": []
    },
    {
      "cell_type": "code",
      "metadata": {
        "id": "tgqEmyeaEMAp",
        "colab_type": "code",
        "colab": {}
      },
      "source": [
        "# Tooling to map between corpus (gensim) and matrix - more general\n",
        "from gensim.matutils import corpus2csc, corpus2dense"
      ],
      "execution_count": 0,
      "outputs": []
    },
    {
      "cell_type": "code",
      "metadata": {
        "id": "xcFvYoPKER-v",
        "colab_type": "code",
        "colab": {}
      },
      "source": [
        "X_train = corpus2csc(train_corpus)\n",
        "X_test = corpus2csc(test_corpus)"
      ],
      "execution_count": 0,
      "outputs": []
    },
    {
      "cell_type": "code",
      "metadata": {
        "id": "6X1eN_NZDw6l",
        "colab_type": "code",
        "outputId": "e7e43cac-cc4c-4a2e-fd9c-eb3f222ddf3a",
        "colab": {
          "base_uri": "https://localhost:8080/",
          "height": 87
        }
      },
      "source": [
        "from sklearn.linear_model import LogisticRegression\n",
        "\n",
        "model = LogisticRegression()\n",
        "\n",
        "model.fit(X_train.T, y_train)\n",
        "\n",
        "model.score(X_test.T, y_test)"
      ],
      "execution_count": 125,
      "outputs": [
        {
          "output_type": "stream",
          "text": [
            "/usr/local/lib/python3.6/dist-packages/sklearn/linear_model/logistic.py:432: FutureWarning: Default solver will be changed to 'lbfgs' in 0.22. Specify a solver to silence this warning.\n",
            "  FutureWarning)\n"
          ],
          "name": "stderr"
        },
        {
          "output_type": "execute_result",
          "data": {
            "text/plain": [
              "0.6674267100977199"
            ]
          },
          "metadata": {
            "tags": []
          },
          "execution_count": 125
        }
      ]
    },
    {
      "cell_type": "markdown",
      "metadata": {
        "id": "aYdyIv09PSt-",
        "colab_type": "text"
      },
      "source": [
        "Attempt with TfidfModel"
      ]
    },
    {
      "cell_type": "code",
      "metadata": {
        "id": "NYnsJCKvDlG7",
        "colab_type": "code",
        "colab": {}
      },
      "source": [
        "# Create and fit a new TfidfModel using the corpus: tfidf\n",
        "tfidf = TfidfModel(train_corpus)"
      ],
      "execution_count": 0,
      "outputs": []
    },
    {
      "cell_type": "code",
      "metadata": {
        "id": "Vs9f0V5hDvlG",
        "colab_type": "code",
        "colab": {}
      },
      "source": [
        "train_corpus_tfidf = tfidf[train_corpus]\n",
        "test_corpus_tfidf = tfidf[test_corpus]"
      ],
      "execution_count": 0,
      "outputs": []
    },
    {
      "cell_type": "code",
      "metadata": {
        "id": "hM1HY-5cFKzm",
        "colab_type": "code",
        "colab": {}
      },
      "source": [
        "X_train = corpus2csc(train_corpus_tfidf)\n",
        "X_test = corpus2csc(test_corpus_tfidf)"
      ],
      "execution_count": 0,
      "outputs": []
    },
    {
      "cell_type": "code",
      "metadata": {
        "id": "mF3YOCFxFSEu",
        "colab_type": "code",
        "outputId": "74fa1ec4-0afd-492a-81f4-fe30468f6fa4",
        "colab": {
          "base_uri": "https://localhost:8080/",
          "height": 87
        }
      },
      "source": [
        "from sklearn.linear_model import LogisticRegression\n",
        "\n",
        "model = LogisticRegression()\n",
        "\n",
        "model.fit(X_train.T, y_train)\n",
        "\n",
        "model.score(X_test.T, y_test)"
      ],
      "execution_count": 246,
      "outputs": [
        {
          "output_type": "stream",
          "text": [
            "/usr/local/lib/python3.6/dist-packages/sklearn/linear_model/logistic.py:432: FutureWarning: Default solver will be changed to 'lbfgs' in 0.22. Specify a solver to silence this warning.\n",
            "  FutureWarning)\n"
          ],
          "name": "stderr"
        },
        {
          "output_type": "execute_result",
          "data": {
            "text/plain": [
              "0.6732899022801303"
            ]
          },
          "metadata": {
            "tags": []
          },
          "execution_count": 246
        }
      ]
    }
  ]
}